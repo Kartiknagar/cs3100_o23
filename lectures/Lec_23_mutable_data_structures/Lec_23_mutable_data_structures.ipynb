{
 "cells": [
  {
   "cell_type": "markdown",
   "metadata": {
    "slideshow": {
     "slide_type": "slide"
    }
   },
   "source": [
    "<center>\n",
    "\n",
    "<h1> Mutable(?) data structures </h1>\n",
    "</center>"
   ]
  },
  {
   "cell_type": "markdown",
   "metadata": {
    "slideshow": {
     "slide_type": "slide"
    }
   },
   "source": [
    "## Review\n",
    "\n",
    "### Previously\n",
    "\n",
    "* Application of Prolog: Type inference and Program Synthesis in Lambda Calculus\n",
    "\n",
    "### This lecture\n",
    "\n",
    "* Simulating mutable data structures in Prolog.\n",
    "* Difference lists: a logic programming technique."
   ]
  },
  {
   "cell_type": "markdown",
   "metadata": {
    "slideshow": {
     "slide_type": "slide"
    }
   },
   "source": [
    "## Variables in terms\n",
    "\n",
    "So far all of our uses of variables have been in queries or clauses, but not in terms representing objects. Consider:\n",
    "```\n",
    "?- L = [1,2 | X]\n",
    "L = [1, 2|X].\n",
    "```\n",
    "is a **open** list which has a prefix of `[1,2]`.\n",
    "\n",
    "We can extend the list `L` by unifying `X` with something else.\n",
    "\n",
    "```\n",
    "?- L = [1,2 | X], X = [3 | Y]\n",
    "L = [1, 2, 3|Y],\n",
    "X = [3|Y].\n",
    "```\n",
    "\n",
    "Such lists are said to be **open lists**."
   ]
  },
  {
   "cell_type": "markdown",
   "metadata": {
    "slideshow": {
     "slide_type": "slide"
    }
   },
   "source": [
    "## Jupyter + Prolog fail!\n",
    "\n",
    "Jupyter + Prolog is a solution in development (read as does not work as intended)."
   ]
  },
  {
   "cell_type": "code",
   "execution_count": 1,
   "metadata": {
    "scrolled": true
   },
   "outputs": [
    {
     "name": "stdout",
     "output_type": "stream",
     "text": [
      "L = [ 1, 2 ], X = _1596 ."
     ]
    }
   ],
   "source": [
    "?- L = [1,2 | X]."
   ]
  },
  {
   "cell_type": "markdown",
   "metadata": {},
   "source": [
    "The result should have been `L = [ 1, 2 | X] .`.\n",
    "\n",
    "We will use the SWI-Prolog interpreter directly for this lecture."
   ]
  },
  {
   "cell_type": "markdown",
   "metadata": {
    "slideshow": {
     "slide_type": "slide"
    }
   },
   "source": [
    "## Queues\n",
    "\n",
    "We will use open lists to represent queues.\n",
    "\n",
    "* A queue is represented by `q(L,E)`, where \n",
    "  + `L` is an open list\n",
    "  + `E` is some suffix of L.\n",
    "* The contents of the queue are the elements in `L` that are not in `E`.\n",
    "  + `q([1,2,3],[3])` has elements `1` and `2`."
   ]
  },
  {
   "cell_type": "markdown",
   "metadata": {
    "slideshow": {
     "slide_type": "slide"
    }
   },
   "source": [
    "## Enter and Leave\n",
    "\n",
    "We will use predicates `enter` and `leave` to capture elements entering and leaving the queue.\n",
    "\n",
    "* `enter(a,Q,R)`: when an element `a` enters the queue `Q`, we get the queue `R`.\n",
    "* `leave(a,Q,R)`: when an element `a` leaves the queue `Q`, we get the queue `R`."
   ]
  },
  {
   "cell_type": "markdown",
   "metadata": {
    "slideshow": {
     "slide_type": "slide"
    }
   },
   "source": [
    "## Implementing the queues\n",
    "\n",
    "```\n",
    "setup(q(X,X)).\n",
    "leave(A, q(X,Z), q(Y,Z)) :- X = [A | Y].\n",
    "enter(A, q(X,Y), q(X,Z)) :- Y = [A | Z].\n",
    "wrapup(q([],[])).\n",
    "```\n"
   ]
  },
  {
   "cell_type": "markdown",
   "metadata": {
    "slideshow": {
     "slide_type": "fragment"
    }
   },
   "source": [
    "`enter` is a bit strange. Let's try:\n",
    "\n",
    "```prolog\n",
    "?- setup(Q), enter(0,Q,R).\n",
    "Q = q([0|_9530], [0|_9530]),\n",
    "R = q([0|_9530], _9530).\n",
    "```"
   ]
  },
  {
   "cell_type": "markdown",
   "metadata": {
    "slideshow": {
     "slide_type": "fragment"
    }
   },
   "source": [
    "\n",
    "* Quite a strange behaviour: Remove `0` from the suffix of `Q`!\n",
    "  + But as a result, the queue `R` has one element `0`."
   ]
  },
  {
   "cell_type": "markdown",
   "metadata": {
    "slideshow": {
     "slide_type": "slide"
    }
   },
   "source": [
    "## Implementing Queues\n",
    "\n",
    "```\n",
    "leave(A, q(X,Z), q(Y,Z)) :- X = [A | Y].\n",
    "```\n",
    "\n",
    "while leave removes an element from the prefix. \n",
    "\n",
    "```\n",
    "enter(A, q(X,Y), q(X,Z)) :- Y = [A | Z].\n",
    "```\n",
    "\n",
    "enter removes an element from the suffix!"
   ]
  },
  {
   "cell_type": "markdown",
   "metadata": {
    "slideshow": {
     "slide_type": "slide"
    }
   },
   "source": [
    "## Working with the queues\n",
    "\n",
    "```\n",
    "?- setup(Q), enter(a,Q,R), enter(b,R,S), \n",
    "   leave(X,S,T), leave(Y,T,U), wrapup(U).\n",
    "Q = q([a, b], [a, b]),\n",
    "R = q([a, b], [b]),\n",
    "S = q([a, b], []),\n",
    "X = a,\n",
    "T = q([b], []),\n",
    "Y = b,\n",
    "U = q([], []).\n",
    "```"
   ]
  },
  {
   "cell_type": "markdown",
   "metadata": {
    "slideshow": {
     "slide_type": "slide"
    }
   },
   "source": [
    "## Quiz 1\n",
    "\n",
    "Given \n",
    "\n",
    "```\n",
    "?- setup(Q), enter(a,Q,R), enter(b,R,S), \n",
    "   leave(X,S,T), leave(Y,T,U), wrapup(U).\n",
    "Q = q([a, b], [a, b]),\n",
    "R = q([a, b], [b]),\n",
    "S = q([a, b], []),\n",
    "X = a,\n",
    "T = q([b], []),\n",
    "Y = b,\n",
    "U = q([], []).\n",
    "```\n",
    "\n",
    "What are the lengths of Q, R, S, T, U?"
   ]
  },
  {
   "cell_type": "markdown",
   "metadata": {
    "slideshow": {
     "slide_type": "slide"
    }
   },
   "source": [
    "## Quiz 1\n",
    "\n",
    "Given \n",
    "\n",
    "```\n",
    "?- setup(Q), enter(a,Q,R), enter(b,R,S), \n",
    "   leave(X,S,T), leave(Y,T,U), wrapup(U).\n",
    "Q = q([a, b], [a, b]),\n",
    "R = q([a, b], [b]),\n",
    "S = q([a, b], []),\n",
    "X = a,\n",
    "T = q([b], []),\n",
    "Y = b,\n",
    "U = q([], []).\n",
    "```\n",
    "\n",
    "What are the lengths of Q, R, S, T, U? **0, 1, 2, 1, 0**."
   ]
  },
  {
   "cell_type": "markdown",
   "metadata": {
    "slideshow": {
     "slide_type": "slide"
    }
   },
   "source": [
    "## Deficit queues\n",
    "\n",
    "Interestingly, the implementation also works where arbitrary elements are first popped and then unified with elements pushed later.\n",
    "\n",
    "```\n",
    "?- setup(Q), leave(X,Q,R), leave(Y,R,S), \n",
    "   enter(a,S,T), enter(b,T,U), wrapup(U).\n",
    "Q = q([a, b], [a, b]),\n",
    "X = a,\n",
    "R = q([b], [a, b]),\n",
    "Y = b,\n",
    "S = q([], [a, b]),\n",
    "T = q([], [b]),\n",
    "U = q([], []).\n",
    "```"
   ]
  },
  {
   "cell_type": "markdown",
   "metadata": {
    "slideshow": {
     "slide_type": "slide"
    }
   },
   "source": [
    "## Quiz 2\n",
    "\n",
    "What is the result of this query?\n",
    "\n",
    "```\n",
    "?- setup(Q), leave(a,Q,R), wrapup(R).\n",
    "```\n",
    "\n",
    "1. false.\n",
    "2. true with some assignments for variables."
   ]
  },
  {
   "cell_type": "markdown",
   "metadata": {
    "slideshow": {
     "slide_type": "slide"
    }
   },
   "source": [
    "## Quiz 2\n",
    "\n",
    "What is the result of this query?\n",
    "\n",
    "```\n",
    "?- setup(Q), leave(a,Q,R), wrapup(R).\n",
    "```\n",
    "\n",
    "1. false. **✓**\n",
    "2. true with some assignments for variables."
   ]
  },
  {
   "cell_type": "markdown",
   "metadata": {
    "slideshow": {
     "slide_type": "slide"
    }
   },
   "source": [
    "## Simplifying the queue implementation\n",
    "\n",
    "```\n",
    "enter(A, q(X,Y), q(X,Z)) :- Y = [A | Z].\n",
    "leave(A, q(X,Z), q(Y,Z)) :- X = [A | Y].\n",
    "```\n",
    "\n",
    "can be simplified to\n",
    "\n",
    "```\n",
    "enter(A, q(X,[A | Z]), q(X,Z)).\n",
    "leave(A, q([A | Y],Z), q(Y,Z)).\n",
    "```\n",
    "\n",
    "by pushing the unification into the head of the rule to make it a fact."
   ]
  },
  {
   "cell_type": "markdown",
   "metadata": {
    "slideshow": {
     "slide_type": "slide"
    }
   },
   "source": [
    "## Implementing Stack\n",
    "\n",
    "\n",
    "\n",
    "```\n",
    "setup(s([])).\n",
    "leave(A, s(X), s(Y)) :- X = [A | Y].\n",
    "enter(A, s(X), s(Y)) :- Y = [A | X].\n",
    "```\n"
   ]
  },
  {
   "cell_type": "markdown",
   "metadata": {
    "slideshow": {
     "slide_type": "slide"
    }
   },
   "source": [
    "## Motivating Difference Lists\n",
    "\n",
    "Recall the definition of `append` on regular lists"
   ]
  },
  {
   "cell_type": "code",
   "execution_count": null,
   "metadata": {
    "slideshow": {
     "slide_type": "-"
    }
   },
   "outputs": [],
   "source": [
    "append([],Q,Q).\n",
    "append([H | P], Q, [H | R]) :- append(P,Q,R)."
   ]
  },
  {
   "cell_type": "markdown",
   "metadata": {
    "slideshow": {
     "slide_type": "fragment"
    }
   },
   "source": [
    "It is easy to see that this `append` is `O(N)` operation, where `N` is the length of the first list. \n",
    "\n",
    "Can we get `O(1)` append?"
   ]
  },
  {
   "cell_type": "markdown",
   "metadata": {
    "slideshow": {
     "slide_type": "slide"
    }
   },
   "source": [
    "## Motivating Difference Lists\n",
    "\n",
    "Given two lists `L1 = [1,2,3]` and `L2 = [4,5,6]`, the result of appending them is `X` such that:\n",
    "\n",
    "```\n",
    "append(L1,L2,X)\n",
    "where\n",
    "L1 = [1,2,3 | []]\n",
    "L2 = [4,5,6 | []]\n",
    "```\n",
    "\n",
    "Instead of having `[]` as the tail, what if we had a variable."
   ]
  },
  {
   "cell_type": "markdown",
   "metadata": {
    "slideshow": {
     "slide_type": "slide"
    }
   },
   "source": [
    "## Motivating Difference Lists\n",
    "\n",
    "```\n",
    "append(L1,L2,X)\n",
    "where\n",
    "L1 = [1,2,3 | A]\n",
    "L2 = [4,5,6 | B]\n",
    "```\n",
    "\n",
    "* Then, append is really unifying `A` and `L2` to derive the result list `X = [1,2,3,4,5,6 | B]`.\n",
    "* Now, `append` becomes an `O(1)` operation.\n",
    "* Such a list representation is known as a **difference list**."
   ]
  },
  {
   "cell_type": "markdown",
   "metadata": {
    "slideshow": {
     "slide_type": "slide"
    }
   },
   "source": [
    "## Reimplementing Append\n",
    "```          \n",
    "      L1         S1\n",
    "      ↓          ↓\n",
    "      +----------+------+\n",
    "\n",
    "```\n",
    "Similar to queues, the content of each list is the list of all elements in `L1` not in `S1`\n",
    "\n",
    "Hence the name difference list.\n",
    "\n",
    "Example: The list `[1,2,3]` can expressed as the difference of `[1,2,3,4,5]` and `[4,5]`, or `[1,2,3]` and `[]`. \n",
    "In general, any open list `[1,2,3|X]` and `X`.\n"
   ]
  },
  {
   "cell_type": "markdown",
   "metadata": {
    "slideshow": {
     "slide_type": "slide"
    }
   },
   "source": [
    "## Reimplementing Append\n",
    "```          \n",
    "           S1\n",
    "           ↓\n",
    "   L1 +----+------------+\n",
    "                  S2\n",
    "                  ↓\n",
    "   L2      +------+-----+\n",
    "    \n",
    "   L3 +----+------+-----+\n",
    "                  ↑ \n",
    "                  S3\n",
    "```\n",
    "```\n",
    "append(L1,S1,L2,S2,L3,S3) :- S1 = L2, L3 = L1, S3 = S2.\n",
    "```\n",
    "\n",
    "Pushing the unification into the head of the rule, we get\n",
    "\n",
    "```\n",
    "append(L1,L2,L2,S2,L1,S2).\n",
    "```\n",
    "\n",
    "Renaming the variables, we get.\n",
    "\n",
    "```\n",
    "append(A,B,B,C,A,C).\n",
    "```"
   ]
  },
  {
   "cell_type": "markdown",
   "metadata": {
    "slideshow": {
     "slide_type": "slide"
    }
   },
   "source": [
    "## Convenient notation for difference lists\n",
    "\n",
    "* We can introduce an infix function symbol `-` to represent difference lists.\n",
    "  + `A-B` represents a difference list with list `A` with some suffix `B`.\n",
    "* Whenever you see `A-B`, you should imagine `[...|B]-B`.\n",
    "\n",
    "Rewriting the append rule\n",
    "\n",
    "```\n",
    "append(A-B,B-C,A-C).\n",
    "```\n",
    "\n",
    "```\n",
    "?- append([a,b,c|B]-B,[1,2]-[],A-C).\n",
    "B = [1, 2],\n",
    "A = [a, b, c, 1, 2],\n",
    "C = [].\n",
    "```"
   ]
  },
  {
   "cell_type": "markdown",
   "metadata": {
    "slideshow": {
     "slide_type": "slide"
    }
   },
   "source": [
    "## Quiz\n",
    "\n",
    "How should you represent an empty difference list?\n",
    "\n",
    "1. []\n",
    "2. []-[]\n",
    "3. A-A\n",
    "4. [A]"
   ]
  },
  {
   "cell_type": "markdown",
   "metadata": {
    "slideshow": {
     "slide_type": "slide"
    }
   },
   "source": [
    "## Quiz\n",
    "\n",
    "How should you represent an empty difference list?\n",
    "\n",
    "1. []\n",
    "2. []-[]\n",
    "3. A-A **✓**\n",
    "4. [A]"
   ]
  },
  {
   "cell_type": "markdown",
   "metadata": {
    "slideshow": {
     "slide_type": "slide"
    }
   },
   "source": [
    "## Empty difference list representation\n",
    "\n",
    "```\n",
    "append(A-B,B-C,A-C)\n",
    "```\n",
    "\n",
    "Consider appending onto an empty difference list. \n",
    "\n",
    "With the empty list represented using `A-A`, we get\n",
    "\n",
    "```\n",
    "append(A-A,[1,2,3|C]-C,A-C)\n",
    "```\n",
    "\n",
    "The unifications we get is `A = [1,2,3|C]`. Hence the result is just `[1,2,3|C]-C`, which is what we want. "
   ]
  },
  {
   "cell_type": "markdown",
   "metadata": {
    "slideshow": {
     "slide_type": "slide"
    }
   },
   "source": [
    "## Empty difference list representation\n",
    "\n",
    "```\n",
    "append(A-B,B-C,A-C)\n",
    "```\n",
    "\n",
    "However, with the empty list represented using `[]-[]`, we get\n",
    "\n",
    "```\n",
    "append([]-[],[1,2,3|C]-C,A-C)\n",
    "```\n",
    "\n",
    "which fails to unify since `[]` does not unify with `[1,2,3|C]`.\n",
    "\n",
    "It appears that the correct way to encode an empty difference list is `A-A`. \n",
    "\n",
    "But this can cause problems sometimes."
   ]
  },
  {
   "cell_type": "markdown",
   "metadata": {
    "slideshow": {
     "slide_type": "slide"
    }
   },
   "source": [
    "## Unification issues with empty difference list\n",
    "\n",
    "Consider unifying _empty_ list with _non-empty_ one. \n",
    "\n",
    "```\n",
    "A-A = [1,2,3|B]-B\n",
    "```\n",
    "\n",
    "They shouldn't unify."
   ]
  },
  {
   "cell_type": "markdown",
   "metadata": {
    "slideshow": {
     "slide_type": "slide"
    }
   },
   "source": [
    "## Unification issues with empty difference list\n",
    "\n",
    "```\n",
    "A-A = [1,2,3|B]-B\n",
    "```\n",
    "However, the second term on LHS, `A` unifies with `B` on RHS. So we get,\n",
    "\n",
    "```\n",
    "A-A = [1,2,3|A]-A\n",
    "```\n",
    "\n",
    "Now, unifying `A` with `[1,2,3|A]`, makes `A` an infinite term `[1,2,3 | [1,2,3 | [1,2,3 [...]]]]`.\n",
    "\n",
    "This is due to the default lack of **occurs check** before unification in prolog.\n",
    "\n",
    "Better to set `?- set_prolog_flag(occurs_check, error).`"
   ]
  },
  {
   "cell_type": "markdown",
   "metadata": {
    "slideshow": {
     "slide_type": "slide"
    }
   },
   "source": [
    "## Improving quicksort using difference list\n",
    "\n",
    "Let's try to improve the efficiency of quicksort using difference lists.\n",
    "\n",
    "```prolog\n",
    "partition([],Y,[],[]).\n",
    "partition([X|Xs],Y,[X|Ls],Rs) :- X =< Y, partition(Xs,Y,Ls,Rs).\n",
    "partition([X|Xs],Y,Ls,[X|Rs]) :- X > Y, partition(Xs,Y,Ls,Rs).\n",
    "\n",
    "quicksort([H|T],SL) :-\n",
    "  partition(T,H,Ls,Rs),\n",
    "  quicksort(Ls,SLs),\n",
    "  quicksort(Rs,SRs),\n",
    "  append(SLs,[H|SRs],SL).\n",
    "quicksort([],[]).\n",
    "```"
   ]
  },
  {
   "cell_type": "markdown",
   "metadata": {
    "slideshow": {
     "slide_type": "slide"
    }
   },
   "source": [
    "## Improving quicksort using difference list\n",
    "\n",
    "```prolog\n",
    "quicksort_dl([H|T],A-C) :-\n",
    "  partition(T,H,Ls,Rs),\n",
    "  quicksort_dl(Ls,Al-Bl),\n",
    "  quicksort_dl(Rs,Ar-Br),\n",
    "  append(Al-Bl,[H|Ar]-Br,A-C).\n",
    "quicksort_dl([],A-A).\n",
    "```"
   ]
  },
  {
   "cell_type": "markdown",
   "metadata": {
    "slideshow": {
     "slide_type": "fragment"
    }
   },
   "source": [
    "```prolog\n",
    "?- quicksort_dl([6,5,4,3,2,1,0],A-C).\n",
    "A = [0, 1, 2, 3, 4, 5, 6|C] ;\n",
    "```"
   ]
  },
  {
   "cell_type": "markdown",
   "metadata": {
    "slideshow": {
     "slide_type": "slide"
    }
   },
   "source": [
    "## Improving quicksort using difference list\n",
    "\n",
    "```prolog\n",
    "quicksort_dl([H|T],A-C) :-\n",
    "  partition(T,H,Ls,Rs),\n",
    "  quicksort_dl(Ls,Al-Bl),\n",
    "  quicksort_dl(Rs,Ar-Br),\n",
    "  append(Al-Bl,[H|Ar]-Br,A-C).\n",
    "quicksort_dl([],A-A).\n",
    "```\n",
    "\n",
    "We know that `append` will unify `Bl` with `[H|Ar]`, `Al` with `A` and `Br` with `C`. We can do this directly without a call to `append`."
   ]
  },
  {
   "cell_type": "markdown",
   "metadata": {
    "slideshow": {
     "slide_type": "slide"
    }
   },
   "source": [
    "## Improving quicksort using difference list\n",
    "\n",
    "```prolog\n",
    "quicksort_dl2([H|T],Al-Br) :-\n",
    "  partition(T,H,Ls,Rs),\n",
    "  quicksort_dl2(Ls,Al-[H|Ar]),\n",
    "  quicksort_dl2(Rs,Ar-Br),\n",
    "quicksort_dl2([],A-A).\n",
    "```\n",
    "\n",
    "To make this work in `swipl`, replace the infix `-` with a `minus` function."
   ]
  },
  {
   "attachments": {
    "image.png": {
     "image/png": "[encoded data removed]"
    }
   },
   "cell_type": "markdown",
   "metadata": {
    "slideshow": {
     "slide_type": "slide"
    }
   },
   "source": [
    "## Recall: Dutch national flag\n",
    "\n",
    "<center>\n",
    "    \n",
    "<img src=\"attachment:image.png\" alt=\"dutch flag\" width=\"400\">\n",
    "</center>\n",
    "\n",
    "* A famous problem formulated by Edsger Dijkstra.\n",
    "* Given a list with colours red, white and blue, return a list such that it has all the reds, and then white followed by blue.\n",
    "  + Essentially a sorting problem.\n",
    "* We have seen a generate-and-test based `O(N!)` solution. Let's implement an `O(N)` solution using difference lists."
   ]
  },
  {
   "cell_type": "markdown",
   "metadata": {
    "slideshow": {
     "slide_type": "slide"
    }
   },
   "source": [
    "## Using append with normal lists\n",
    "\n",
    "```prolog\n",
    "dutch(L,RWB) :- distribute(L,R,W,B), append(W,B,WB), append(R,WB,RWB).\n",
    "distribute([red|T],[red|Rt],W,B) :- distribute(T,Rt,W,B).\n",
    "distribute([white|T],R,[white|Wt],B) :- distribute(T,R,Wt,B).\n",
    "distribute([blue|T],R,W,[blue|Bt]) :- distribute(T,R,W,Bt).\n",
    "distribute([],[],[],[]).\n",
    "```"
   ]
  },
  {
   "cell_type": "markdown",
   "metadata": {
    "slideshow": {
     "slide_type": "fragment"
    }
   },
   "source": [
    "```prolog\n",
    "?- dutch([red, white, blue, red, white],X).\n",
    "X = [red, red, white, white, blue].\n",
    "```"
   ]
  },
  {
   "cell_type": "markdown",
   "metadata": {
    "slideshow": {
     "slide_type": "slide"
    }
   },
   "source": [
    "## Using append with difference lists\n",
    "\n",
    "```prolog\n",
    "dutch_dl(L,RWB-RWB1) :- distribute_dl(L,R-R1,W-W1,B-B1), \n",
    "                        append(W-W1,B-B1,WB-WB1), \n",
    "                        append(R-R1,WB-WB1,RWB-RWB1).\n",
    "distribute_dl([red|T],[red|Rt]-R1,W,B) :- distribute_dl(T,Rt-R1,W,B).\n",
    "distribute_dl([white|T],R,[white|Wt]-W1,B) :- distribute_dl(T,R,Wt-W1,B).\n",
    "distribute_dl([blue|T],R,W,[blue|Bt]-B1) :- distribute_dl(T,R,W,Bt-B1).\n",
    "distribute_dl([],R-R,W-W,B-B).\n",
    "append(A-B,B-C,A-C).\n",
    "```"
   ]
  },
  {
   "cell_type": "markdown",
   "metadata": {
    "slideshow": {
     "slide_type": "fragment"
    }
   },
   "source": [
    "```prolog\n",
    "?- dutch_dl([red, white, blue, red, white],X).\n",
    "X = [red, red, white, white, blue|_A]-_A.\n",
    "```"
   ]
  },
  {
   "cell_type": "markdown",
   "metadata": {
    "slideshow": {
     "slide_type": "slide"
    }
   },
   "source": [
    "## Using append with difference lists\n",
    "\n",
    "```prolog\n",
    "dutch_dl(L,RWB) :- distribute_dl(L,RWB-WB,WB-B,B-[]).\n",
    "distribute_dl([red|T],[red|Rt]-R1,W,B) :- distribute_dl(T,Rt-R1,W,B).\n",
    "distribute_dl([white|T],R,[white|Wt]-W1,B) :- distribute_dl(T,R,Wt-W1,B).\n",
    "distribute_dl([blue|T],R,W,[blue|Bt]-B1) :- distribute_dl(T,R,W,Bt-B1).\n",
    "distribute_dl([],R-R,W-W,B-B).\n",
    "```"
   ]
  },
  {
   "cell_type": "markdown",
   "metadata": {
    "slideshow": {
     "slide_type": "fragment"
    }
   },
   "source": [
    "```prolog\n",
    "?- dutch_dl([red, white, blue, red, white],X).\n",
    "X = [red, red, white, white, blue].\n",
    "```"
   ]
  },
  {
   "cell_type": "markdown",
   "metadata": {
    "slideshow": {
     "slide_type": "slide"
    }
   },
   "source": [
    "## The End\n",
    "\n",
    "* We have not covered a few advanced features in both OCaml and Prolog.\n",
    " + Monads, GADTs in OCaml\n",
    " + Database programming, Constraint Logic Programming in Prolog\n",
    "* Endsem is on November 23, 9 AM.\n",
    " + Most likely same seating arrangements as Quizzes; to be confirmed later.\n",
    "* Syllabus will be the entire course contents.\n",
    " + Closed book, but you can bring 1 A4 sized sheet.\n",
    "* Some practice problems on Prolog will be released this week. "
   ]
  }
 ],
 "metadata": {
  "celltoolbar": "Slideshow",
  "kernelspec": {
   "display_name": "SWI-Prolog",
   "language": "",
   "name": "jswipl"
  },
  "language_info": {
   "mimetype": "text/plain",
   "name": "swipl"
  }
 },
 "nbformat": 4,
 "nbformat_minor": 2
}
