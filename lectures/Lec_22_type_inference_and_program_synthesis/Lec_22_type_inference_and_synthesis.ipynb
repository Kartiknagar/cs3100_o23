{
 "cells": [
  {
   "cell_type": "markdown",
   "metadata": {
    "slideshow": {
     "slide_type": "slide"
    }
   },
   "source": [
    "<center>\n",
    "\n",
    "<h1> Using Prolog for Type Inference and Program Synthesis </h1>\n",
    "</center>\n",
    "\n",
    "$\n",
    "\\require{color}\n",
    "\\newcommand{\\cr}[1]{{\\color{\\red}{#1}}}\n",
    "\\newcommand{\\pair}[2]{\\langle #1, #2 \\rangle}\n",
    "\\newcommand{\\fst}[1]{{\\sf fst} ~#1}\n",
    "\\newcommand{\\snd}[1]{{\\sf snd} ~#1}\n",
    "\\newcommand{\\inl}[2]{{\\sf inl} ~[#1] ~#2}\n",
    "\\newcommand{\\inr}[2]{{\\sf inr} ~[#1] ~#2}\n",
    "\\newcommand{\\case}[5]{{\\sf case} ~#1~ {\\sf of} ~{\\sf inl}~#2 \\Rightarrow #3 ~|~ {\\sf inr}~#4 \\Rightarrow #5}\n",
    "\\newcommand{\\unitv}{{\\tt (~)}}\n",
    "\\newcommand{\\inferrule}[3]{\\displaystyle{\\frac{#1}{#2}~~{\\small #3}}}\n",
    "\\newcommand{\\infrl}[3]{\\displaystyle{\\frac{#1}{#2}}}\n",
    "$"
   ]
  },
  {
   "cell_type": "markdown",
   "metadata": {
    "slideshow": {
     "slide_type": "slide"
    }
   },
   "source": [
    "## Review\n",
    "\n",
    "### Previously\n",
    "\n",
    "* Cuts and Negation\n",
    "\n",
    "### This lecture\n",
    "\n",
    "* Applications of Prolog\n",
    "  + Type Inference for STLC\n",
    "  + Program synthesis."
   ]
  },
  {
   "cell_type": "markdown",
   "metadata": {
    "slideshow": {
     "slide_type": "slide"
    }
   },
   "source": [
    "## Type Inference for STLC\n",
    "\n",
    "Let us develop a type inference procedure for Simply Typed Lambda Calculus (STLC).\n",
    "\n",
    "Recall the tems in STLC:\n",
    "\n",
    "\\\\[\n",
    "\\begin{array}{rcll}\n",
    "M,N & ≔ & x & \\text{(variable)} \\\\\n",
    "    & \\mid & M~N & \\text{(application)} \\\\\n",
    "    & \\mid & \\lambda x:A.M & \\text{(abstraction)}\\\\\n",
    "    & \\mid & \\pair{M}{N} & \\text{(pair)}\\\\\n",
    "    & \\mid & \\fst{M} & \\text{(project-1)}\\\\\n",
    "    & \\mid & \\snd{M} & \\text{(project-2)} \\\\\n",
    "    & \\mid & \\unitv & \\text{(unit)}\n",
    "\\end{array}\n",
    "\\\\]"
   ]
  },
  {
   "cell_type": "markdown",
   "metadata": {
    "slideshow": {
     "slide_type": "slide"
    }
   },
   "source": [
    "## STLC Typing Rules\n",
    "\n",
    "\\\\[\n",
    "\\begin{array}{cc}\n",
    "\\inferrule{}{\\Gamma,x:A \\vdash x:A}{(var)} &\n",
    "\\inferrule{}{\\Gamma \\vdash \\unitv : 1}{(unit)} \\\\ \\\\\n",
    "\\inferrule{\\Gamma \\vdash M : A \\rightarrow B \\quad \\Gamma \\vdash N : A}{\\Gamma \\vdash M~N : B}{(\\rightarrow elim)} &\n",
    "\\inferrule{\\Gamma,x:A \\vdash M : B}{\\Gamma \\vdash \\lambda x:A.M : A \\rightarrow B}{(\\rightarrow intro)} \\\\ \\\\\n",
    "\\inferrule{\\Gamma \\vdash M : A \\times B}{\\Gamma \\vdash \\fst{M} : A}{(\\times ~elim1)} &\n",
    "\\inferrule{\\Gamma \\vdash M : A \\times B}{\\Gamma \\vdash \\snd{M} : B}{(\\times ~elim2)} \\\\ \\\\\n",
    "\\end{array}\n",
    "\\\\]\n",
    "\n",
    "\\\\[\n",
    "\\inferrule{\\Gamma \\vdash M : A \\quad \\Gamma \\vdash N : B}{\\Gamma \\vdash \\pair{M}{N} : A \\times B}{(\\times ~intro)}\n",
    "\\\\]"
   ]
  },
  {
   "cell_type": "markdown",
   "metadata": {
    "slideshow": {
     "slide_type": "slide"
    }
   },
   "source": [
    "## Type Checking to Type Inference\n",
    "\n",
    "* STLC rules are presented in a way that you can easily do type inference. \n",
    "* In the standard presentation of type inference algorithm for STLC, you will need\n",
    "  + Type schemes (types with variables in them)\n",
    "  + Unification of type schemes\n",
    "  + Substitution for variables in type schemes.\n",
    "* Luckily Prolog provides all of these\n",
    "  + Type schemes -> Prolog terms with variables, \n",
    "  + Unification -> Prolog unification\n",
    "  + Substitution -> Prolog substitution. "
   ]
  },
  {
   "cell_type": "markdown",
   "metadata": {
    "slideshow": {
     "slide_type": "slide"
    }
   },
   "source": [
    "## Remove simple types & add polymorphism\n",
    "\n",
    "* Since we have type schemes (variables in terms), we can infer **polymorphic types**!\n",
    "* Rather than writing $\\lambda x:A.M$, we just write $\\lambda x.M$.\n",
    "  + We will infer the principal (most general) type for $x$.\n",
    "* We will also include integers, booleans, + and < on integers, if-then-else."
   ]
  },
  {
   "cell_type": "markdown",
   "metadata": {
    "slideshow": {
     "slide_type": "slide"
    }
   },
   "source": [
    "## Occurs check\n",
    "\n",
    "We will enable occurs check so that the term $\\lambda x.x~x$ (self-application) will be ill-typed."
   ]
  },
  {
   "cell_type": "code",
   "execution_count": 1,
   "metadata": {},
   "outputs": [
    {
     "name": "stdout",
     "output_type": "stream",
     "text": [
      "true."
     ]
    }
   ],
   "source": [
    "?- set_prolog_flag(occurs_check,true)."
   ]
  },
  {
   "cell_type": "markdown",
   "metadata": {
    "slideshow": {
     "slide_type": "slide"
    }
   },
   "source": [
    "## Typing Judgement\n",
    "\n",
    "We model the typing environment $\\Gamma$ as a list of variable and type pairs. \n",
    "\n",
    "We implement the predicate `lookup/2` to lookup the type of a variable in the environment. "
   ]
  },
  {
   "cell_type": "code",
   "execution_count": 2,
   "metadata": {},
   "outputs": [
    {
     "name": "stdout",
     "output_type": "stream",
     "text": [
      "Added 2 clauses(s)."
     ]
    }
   ],
   "source": [
    "lookup([(X,A)|T],X,A).\n",
    "lookup([(Y,_)|T],X,A) :- \\+ X = Y, lookup(T,X,A)."
   ]
  },
  {
   "cell_type": "markdown",
   "metadata": {},
   "source": [
    "Observe that we are using `\\+ X = Y` which holds when `X` does not unify with `Y`."
   ]
  },
  {
   "cell_type": "markdown",
   "metadata": {
    "slideshow": {
     "slide_type": "slide"
    }
   },
   "source": [
    "## Typing rules\n",
    "\n",
    "Next we encode the typing rules as they are specified in the STLC typing rules.\n",
    "\n",
    "\\\\[\n",
    "\\begin{array}{cc}\n",
    "\\inferrule{}{\\Gamma,x:A \\vdash x:A}{(var)} &\n",
    "\\inferrule{}{\\Gamma \\vdash \\unitv : 1}{(unit)} \\\\ \\\\\n",
    "\\inferrule{\\Gamma \\vdash M : A \\rightarrow B \\quad \\Gamma \\vdash N : A}{\\Gamma \\vdash M~N : B}{(\\rightarrow elim)} &\n",
    "\\inferrule{\\Gamma,x:A \\vdash M : B}{\\Gamma \\vdash \\lambda x:A.M : A \\rightarrow B}{(\\rightarrow intro)} \\\\ \\\\\n",
    "\\inferrule{\\Gamma \\vdash M : A \\times B}{\\Gamma \\vdash \\fst{M} : A}{(\\times ~elim1)} &\n",
    "\\inferrule{\\Gamma \\vdash M : A \\times B}{\\Gamma \\vdash \\snd{M} : B}{(\\times ~elim2)}\n",
    "\\end{array}\n",
    "\\\\]\n",
    "\n",
    "\\\\[\n",
    "\\inferrule{\\Gamma \\vdash M : A \\quad \\Gamma \\vdash N : B}{\\Gamma \\vdash \\pair{M}{N} : A \\times B}{(\\times ~intro)}\n",
    "\\\\]"
   ]
  },
  {
   "cell_type": "markdown",
   "metadata": {
    "slideshow": {
     "slide_type": "slide"
    }
   },
   "source": [
    "## STLC Terms\n",
    "\n",
    "We will use functions for specifying different forms of STLC terms:\n",
    "\n",
    "\\\\[\n",
    "\\begin{array}{rclll}\n",
    "M,N & ≔ & x & \\text{(variable)} & \\texttt{var(x)}\\\\\n",
    " & \\mid & M~N & \\text{(application)} & \\texttt{app(M,N)} \\\\\n",
    "    & \\mid & \\lambda x.M & \\text{(abstraction)} & \\texttt{lam(var(x),M)}\\\\\n",
    "    & \\mid & \\pair{M}{N} & \\text{(pair)} & \\texttt{pair(M,N)}\\\\\n",
    "    & \\mid & \\fst{M} & \\text{(project-1)} & \\texttt{fst(M)}\\\\\n",
    "    & \\mid & \\snd{M} & \\text{(project-2)} & \\texttt{snd(M)}\\\\\n",
    "    & \\mid & \\unitv & \\text{(unit)} & \\texttt{u}\n",
    "\\end{array}\n",
    "\\\\]"
   ]
  },
  {
   "cell_type": "markdown",
   "metadata": {
    "slideshow": {
     "slide_type": "slide"
    }
   },
   "source": [
    "## Typing rules\n",
    "\n",
    "Next we encode the typing rules as they are specified in the STLC typing rules. We will define the predicate `type(G,M,A)`, which corresponds to the typing judgement $\\Gamma \\vdash M : A$"
   ]
  },
  {
   "cell_type": "code",
   "execution_count": 3,
   "metadata": {
    "slideshow": {
     "slide_type": "fragment"
    }
   },
   "outputs": [
    {
     "name": "stdout",
     "output_type": "stream",
     "text": [
      "Added 7 clauses(s)."
     ]
    }
   ],
   "source": [
    "/* unit */     type(G,u,unit).                                          \n",
    "/* -> elim */  type(G,app(M,N),B)           :- type(G,M,A -> B),type(G,N,A). \n",
    "/* -> intro */ type(G,lam(var(X),M),A -> B) :- type([(X,A)|G],M,B).          \n",
    "/* X elim1 */  type(G,fst(M),A)             :- type(G,M,A * B).              \n",
    "/* X elim2 */  type(G,snd(M),B)             :- type(G,M,A * B).              \n",
    "/* X intro */  type(G,pair(M,N),A * B)      :- type(G,M,A), type(G,N,B).     \n",
    "/* var */      type(G,var(X),A)             :- lookup(G,X,A).                "
   ]
  },
  {
   "cell_type": "markdown",
   "metadata": {
    "slideshow": {
     "slide_type": "slide"
    }
   },
   "source": [
    "## Typing rules\n",
    "\n",
    "Add new typing rules for the additional terms and operators involving integers, booleans and if-then-else. "
   ]
  },
  {
   "cell_type": "code",
   "execution_count": 4,
   "metadata": {},
   "outputs": [
    {
     "name": "stdout",
     "output_type": "stream",
     "text": [
      "Added 7 clauses(s)."
     ]
    }
   ],
   "source": [
    "type(G, X, int)        :- integer(X).\n",
    "type(G, true, bool).\n",
    "type(G, false, bool).\n",
    "type(G, A + B, int)    :- type(G,A,int), type(G,B,int).\n",
    "type(G, A - B, int)    :- type(G,A,int), type(G,B,int).\n",
    "type(G, A < B, bool)   :- type(G,A,int), type(G,B,int).\n",
    "type(G, ite(A,B,C), T) :- type(G,A,bool), type(G,B,T), type(G,C,T)."
   ]
  },
  {
   "cell_type": "code",
   "execution_count": 5,
   "metadata": {},
   "outputs": [
    {
     "name": "stdout",
     "output_type": "stream",
     "text": [
      "Added 1 clauses(s)."
     ]
    }
   ],
   "source": [
    "type(Term,Type) :- type([],Term,Type)."
   ]
  },
  {
   "cell_type": "markdown",
   "metadata": {
    "slideshow": {
     "slide_type": "slide"
    }
   },
   "source": [
    "## Type inference\n",
    "\n",
    "Now we can infer the type of programs written in STLC.\n",
    "\n",
    "What is the type of $1+2$?"
   ]
  },
  {
   "cell_type": "code",
   "execution_count": 6,
   "metadata": {},
   "outputs": [
    {
     "name": "stdout",
     "output_type": "stream",
     "text": [
      "X = int ."
     ]
    }
   ],
   "source": [
    "?- type(1+2,X)."
   ]
  },
  {
   "cell_type": "markdown",
   "metadata": {},
   "source": [
    "what is the type of $\\lambda x.\\lambda y. \\text{if } x < y \\text{ then } x+y \\text{ else } x-y$?"
   ]
  },
  {
   "cell_type": "code",
   "execution_count": 7,
   "metadata": {},
   "outputs": [
    {
     "name": "stdout",
     "output_type": "stream",
     "text": [
      "X = var(x), Y = var(y), T = ->(int, ->(int, int)) ."
     ]
    }
   ],
   "source": [
    "?- X = var(x), Y = var(y), type(lam(X,lam(Y,ite(X < Y,X+Y,X-Y))),T)."
   ]
  },
  {
   "cell_type": "markdown",
   "metadata": {},
   "source": [
    "It is `int -> int -> int`."
   ]
  },
  {
   "cell_type": "markdown",
   "metadata": {
    "slideshow": {
     "slide_type": "slide"
    }
   },
   "source": [
    "## Type inference\n",
    "\n",
    "We can also infer polymorphic types.\n",
    "\n",
    "What is the type of $\\lambda x.\\text{fst}(x)+1$?"
   ]
  },
  {
   "cell_type": "code",
   "execution_count": 8,
   "metadata": {},
   "outputs": [
    {
     "name": "stdout",
     "output_type": "stream",
     "text": [
      "X = var(x), T = ->(*(int, _1674), int) ."
     ]
    }
   ],
   "source": [
    "?- X = var(x), type(lam(X,fst(X)+1),T)."
   ]
  },
  {
   "cell_type": "markdown",
   "metadata": {},
   "source": [
    "It is `int * 'a -> int`."
   ]
  },
  {
   "cell_type": "markdown",
   "metadata": {
    "slideshow": {
     "slide_type": "slide"
    }
   },
   "source": [
    "## Type inference"
   ]
  },
  {
   "cell_type": "markdown",
   "metadata": {},
   "source": [
    "What is the type of $\\lambda f. \\lambda x.f~x$?"
   ]
  },
  {
   "cell_type": "code",
   "execution_count": 9,
   "metadata": {},
   "outputs": [
    {
     "name": "stdout",
     "output_type": "stream",
     "text": [
      "F = var(f), X = var(x), T = ->(->(_1708, _1710), ->(_1708, _1710)) ."
     ]
    }
   ],
   "source": [
    "?- F = var(f), X = var(x), type(lam(F,lam(X,app(F,X))),T)."
   ]
  },
  {
   "cell_type": "markdown",
   "metadata": {},
   "source": [
    "It is `('a -> 'b) -> ('a -> 'b)` or equivalently `('a -> 'b) -> 'a -> 'b`"
   ]
  },
  {
   "cell_type": "markdown",
   "metadata": {
    "slideshow": {
     "slide_type": "slide"
    }
   },
   "source": [
    "## Type Inference\n",
    "\n",
    "* We cannot infer types for every program.\n",
    "  + such programs do not have a valid STLC type.\n",
    "  \n",
    "What is the type of $\\lambda x.x~x$?"
   ]
  },
  {
   "cell_type": "code",
   "execution_count": 10,
   "metadata": {},
   "outputs": [
    {
     "name": "stdout",
     "output_type": "stream",
     "text": [
      "false."
     ]
    }
   ],
   "source": [
    "?- X = var(x), type(lam(X,app(X,X)),T)."
   ]
  },
  {
   "cell_type": "markdown",
   "metadata": {},
   "source": [
    "What is the type of `if true then 0 else false`?"
   ]
  },
  {
   "cell_type": "code",
   "execution_count": 11,
   "metadata": {},
   "outputs": [
    {
     "name": "stdout",
     "output_type": "stream",
     "text": [
      "false."
     ]
    }
   ],
   "source": [
    "?- type(ite(true,0,false),T)."
   ]
  },
  {
   "cell_type": "markdown",
   "metadata": {
    "slideshow": {
     "slide_type": "slide"
    }
   },
   "source": [
    "## Program synthesis\n",
    "\n",
    "* Program synthesis is generating programs according to a given specification. \n",
    "* Our specifications are types!\n",
    "  + A query of the form `type(X,A)` can find lambda terms `X` whose type is `A`.\n",
    "* Let's generate lambda terms that correspond to a particular type. \n",
    "  + We will bound the size of the lambda term. \n",
    "  + Otherwise, Prolog starts to explore down infinite paths\n",
    "    * programs have no bounded length and Prolog uses DFS.\n",
    "* Let's use the depth of the AST in order to iteratively search starting from depth of 0."
   ]
  },
  {
   "cell_type": "markdown",
   "metadata": {
    "slideshow": {
     "slide_type": "slide"
    }
   },
   "source": [
    "## Bounded predecessor\n",
    "\n",
    "Defines the predecessor for numbers >= 0."
   ]
  },
  {
   "cell_type": "code",
   "execution_count": 21,
   "metadata": {},
   "outputs": [
    {
     "name": "stdout",
     "output_type": "stream",
     "text": []
    }
   ],
   "source": [
    "pred(N,P) :- N >= 0, P is N - 1."
   ]
  },
  {
   "cell_type": "markdown",
   "metadata": {
    "slideshow": {
     "slide_type": "slide"
    }
   },
   "source": [
    "## Add depth to the type checking rules"
   ]
  },
  {
   "cell_type": "code",
   "execution_count": 13,
   "metadata": {
    "scrolled": true
   },
   "outputs": [
    {
     "name": "stdout",
     "output_type": "stream",
     "text": [
      "Added 7 clauses(s)."
     ]
    }
   ],
   "source": [
    "type(_,u,unit,D) :- \n",
    "  pred(D,_).\n",
    "/* OLD RULE for -> elim ==> type(G,app(M,N),B) :- type(G,M,A -> B),type(G,N,A). */\n",
    "type(G,app(M,N),B,D) :- \n",
    "  pred(D,DD), type(G,M,A -> B,DD),type(G,N,A,DD).             \n",
    "type(G,lam(var(X),M),A -> B, D) :-                                                  \n",
    "  pred(D,DD), type([(X,A)|G],M,B, DD).                                              \n",
    "type(G,fst(M),A,D) :-                                                               \n",
    "  pred(D,DD), type(G,M,A * _,DD).                                                   \n",
    "type(G,snd(M),B,D) :-                                                               \n",
    "  pred(D,DD), type(G,M,_ * B,DD).                                                   \n",
    "type(G,pair(M,N),A * B,D) :-                                                        \n",
    "  pred(D,DD), type(G,M,A,DD), type(G,N,B,DD).                                       \n",
    "type(G,var(X),A,D) :-                                                               \n",
    "  pred(D,_), lookup(G,X,A).                                                         "
   ]
  },
  {
   "cell_type": "markdown",
   "metadata": {
    "slideshow": {
     "slide_type": "slide"
    }
   },
   "source": [
    "## Add depth to the type checking rules."
   ]
  },
  {
   "cell_type": "code",
   "execution_count": 14,
   "metadata": {},
   "outputs": [
    {
     "name": "stdout",
     "output_type": "stream",
     "text": [
      "Added 7 clauses(s)."
     ]
    }
   ],
   "source": [
    "type(_,X,int,D) :-                                                                  \n",
    "  pred(D,_), integer(X).                                                            \n",
    "type(_,D,int,D) :-                                                                  \n",
    "  pred(D,_).                                                                        \n",
    "type(_,true,bool,D) :-                                                              \n",
    "  pred(D,_).                                                                        \n",
    "type(_,false,bool,D) :-                                                             \n",
    "  pred(D,_).                                                                        \n",
    "type(G,A + B,int,D) :-                                                              \n",
    "  pred(D,DD), type(G,A,int,DD), type(G,B,int,DD).                                   \n",
    "type(G,A < B,bool,D) :-                                                             \n",
    "  pred(D,DD), type(G,A,int,DD), type(G,B,int,DD).                                   \n",
    "type(G,ite(A,B,C),T,D) :-                                                           \n",
    "  pred(D,DD), type(G,A,bool,DD), type(G,B,T,DD), type(G,C,T,DD)."
   ]
  },
  {
   "cell_type": "markdown",
   "metadata": {
    "slideshow": {
     "slide_type": "slide"
    }
   },
   "source": [
    "## Generate depth\n",
    "\n",
    "Define a function `gen/3` which generates all values within given bounds (inclusive).\n"
   ]
  },
  {
   "cell_type": "code",
   "execution_count": 15,
   "metadata": {
    "slideshow": {
     "slide_type": "-"
    }
   },
   "outputs": [
    {
     "name": "stdout",
     "output_type": "stream",
     "text": [
      "Added 2 clauses(s)."
     ]
    }
   ],
   "source": [
    "gen(S,E,S).\n",
    "gen(S,E,P) :- S < E, S2 is S+1, gen(S2,E,P)."
   ]
  },
  {
   "cell_type": "code",
   "execution_count": 16,
   "metadata": {},
   "outputs": [
    {
     "name": "stdout",
     "output_type": "stream",
     "text": [
      "X = 0 ;\n",
      "X = 1 ;\n",
      "X = 2 ;\n",
      "X = 3 ;\n",
      "X = 4 ;\n",
      "X = 5 ."
     ]
    }
   ],
   "source": [
    "?- gen(0,5,X)."
   ]
  },
  {
   "cell_type": "markdown",
   "metadata": {
    "slideshow": {
     "slide_type": "slide"
    }
   },
   "source": [
    "## Iteratively search for candidate programs"
   ]
  },
  {
   "cell_type": "code",
   "execution_count": 17,
   "metadata": {},
   "outputs": [
    {
     "name": "stdout",
     "output_type": "stream",
     "text": [
      "Added 1 clauses(s)."
     ]
    }
   ],
   "source": [
    "synthesize(T,P) :-                                                                  \n",
    "  gen(0,10,D), type([],P,T,D).     "
   ]
  },
  {
   "cell_type": "markdown",
   "metadata": {
    "slideshow": {
     "slide_type": "slide"
    }
   },
   "source": [
    "## Synthesis\n",
    "\n",
    "Get me those programs whose type is `int`."
   ]
  },
  {
   "cell_type": "code",
   "execution_count": 18,
   "metadata": {
    "scrolled": true
   },
   "outputs": [
    {
     "name": "stdout",
     "output_type": "stream",
     "text": [
      "P = 0 ;\n",
      "P = 1 ;\n",
      "P = +(0, 0) ;\n",
      "P = ite(true, 0, 0) ;\n",
      "P = ite(false, 0, 0) ;\n",
      "P = app(lam(var(_1630), var(_1630)), 1) ;\n",
      "P = app(lam(var(_1630), var(_1630)), +(0, 0)) ;\n",
      "P = app(lam(var(_1630), var(_1630)), ite(true, 0, 0)) ;\n",
      "P = app(lam(var(_1630), var(_1630)), ite(false, 0, 0)) ;\n",
      "P = app(lam(var(_1630), 0), u) ;\n",
      "P = app(lam(var(_1630), 0), lam(var(_1664), u)) ;\n",
      "P = app(lam(var(_1630), 0), lam(var(_1664), var(_1664))) ;\n",
      "P = app(lam(var(_1630), 0), lam(var(_1664), 0)) ;\n",
      "P = app(lam(var(_1630), 0), lam(var(_1664), true)) ;\n",
      "P = app(lam(var(_1630), 0), lam(var(_1664), false)) ;\n",
      "P = app(lam(var(_1630), 0), pair(u, u)) ;\n",
      "P = app(lam(var(_1630), 0), pair(u, 0)) ;\n",
      "P = app(lam(var(_1630), 0), pair(u, true)) ;\n",
      "P = app(lam(var(_1630), 0), pair(u, false)) ;\n",
      "P = app(lam(var(_1630), 0), pair(0, u)) ;\n",
      "P = app(lam(var(_1630), 0), pair(0, 0)) ;\n",
      "P = app(lam(var(_1630), 0), pair(0, true)) ;\n",
      "P = app(lam(var(_1630), 0), pair(0, false)) ;\n",
      "P = app(lam(var(_1630), 0), pair(true, u)) ;\n",
      "P = app(lam(var(_1630), 0), pair(true, 0)) ;\n",
      "P = app(lam(var(_1630), 0), pair(true, true)) ;\n",
      "P = app(lam(var(_1630), 0), pair(true, false)) ;\n",
      "P = app(lam(var(_1630), 0), pair(false, u)) ;\n",
      "P = app(lam(var(_1630), 0), pair(false, 0)) ;\n",
      "P = app(lam(var(_1630), 0), pair(false, true)) ;\n",
      "P = app(lam(var(_1630), 0), pair(false, false)) ;\n",
      "P = app(lam(var(_1630), 0), 1) ;\n",
      "P = app(lam(var(_1630), 0), true) ;\n",
      "P = app(lam(var(_1630), 0), false) ;\n",
      "P = app(lam(var(_1630), 0), +(0, 0)) ;\n",
      "P = app(lam(var(_1630), 0), <(0, 0)) ;\n",
      "P = app(lam(var(_1630), 0), ite(true, u, u)) ;\n",
      "P = app(lam(var(_1630), 0), ite(true, 0, 0)) ;\n",
      "P = app(lam(var(_1630), 0), ite(true, true, true)) ;\n",
      "P = app(lam(var(_1630), 0), ite(true, true, false)) ;\n",
      "P = app(lam(var(_1630), 0), ite(true, false, true)) ;\n",
      "P = app(lam(var(_1630), 0), ite(true, false, false)) ;\n",
      "P = app(lam(var(_1630), 0), ite(false, u, u)) ;\n",
      "P = app(lam(var(_1630), 0), ite(false, 0, 0)) ;\n",
      "P = app(lam(var(_1630), 0), ite(false, true, true)) ;\n",
      "P = app(lam(var(_1630), 0), ite(false, true, false)) ;\n",
      "P = app(lam(var(_1630), 0), ite(false, false, true)) ;\n",
      "P = app(lam(var(_1630), 0), ite(false, false, false)) ;\n",
      "P = fst(pair(0, u)) ;\n",
      "P = fst(pair(0, 0)) ;\n",
      "P = fst(pair(0, true)) ;\n",
      "P = fst(pair(0, false)) ;\n",
      "P = snd(pair(u, 0)) ;\n",
      "P = snd(pair(0, 0)) ;\n",
      "P = snd(pair(true, 0)) ;\n",
      "P = snd(pair(false, 0)) ;\n",
      "P = 2 ;\n",
      "P = +(1, 1) ;\n",
      "P = +(1, +(0, 0)) ;\n",
      "P = +(1, ite(true, 0, 0)) ;\n",
      "P = +(1, ite(false, 0, 0)) ;\n",
      "P = +(+(0, 0), 1) ;\n",
      "P = +(+(0, 0), +(0, 0)) ;\n",
      "P = +(+(0, 0), ite(true, 0, 0)) ;\n",
      "P = +(+(0, 0), ite(false, 0, 0)) ;\n",
      "P = +(ite(true, 0, 0), 1) ;\n",
      "P = +(ite(true, 0, 0), +(0, 0)) ;\n",
      "P = +(ite(true, 0, 0), ite(true, 0, 0)) ;\n",
      "P = +(ite(true, 0, 0), ite(false, 0, 0)) ;\n",
      "P = +(ite(false, 0, 0), 1) ;\n",
      "P = +(ite(false, 0, 0), +(0, 0)) ;\n",
      "P = +(ite(false, 0, 0), ite(true, 0, 0)) ;\n",
      "P = +(ite(false, 0, 0), ite(false, 0, 0)) ;\n",
      "P = ite(true, 1, 1) ;\n",
      "P = ite(true, 1, +(0, 0)) ;\n",
      "P = ite(true, 1, ite(true, 0, 0)) ;\n",
      "P = ite(true, 1, ite(false, 0, 0)) ;\n",
      "P = ite(true, +(0, 0), 1) ;\n",
      "P = ite(true, +(0, 0), +(0, 0)) ;\n",
      "P = ite(true, +(0, 0), ite(true, 0, 0)) ;\n",
      "P = ite(true, +(0, 0), ite(false, 0, 0)) ;\n",
      "P = ite(true, ite(true, 0, 0), 1) ;\n",
      "P = ite(true, ite(true, 0, 0), +(0, 0)) ;\n",
      "P = ite(true, ite(true, 0, 0), ite(true, 0, 0)) ;\n",
      "P = ite(true, ite(true, 0, 0), ite(false, 0, 0)) ;\n",
      "P = ite(true, ite(false, 0, 0), 1) ;\n",
      "P = ite(true, ite(false, 0, 0), +(0, 0)) ;\n",
      "P = ite(true, ite(false, 0, 0), ite(true, 0, 0)) ;\n",
      "P = ite(true, ite(false, 0, 0), ite(false, 0, 0)) ;\n",
      "P = ite(false, 1, 1) ;\n",
      "P = ite(false, 1, +(0, 0)) ;\n",
      "P = ite(false, 1, ite(true, 0, 0)) ;\n",
      "P = ite(false, 1, ite(false, 0, 0)) ;\n",
      "P = ite(false, +(0, 0), 1) ;\n",
      "P = ite(false, +(0, 0), +(0, 0)) ;\n",
      "P = ite(false, +(0, 0), ite(true, 0, 0)) ;\n",
      "P = ite(false, +(0, 0), ite(false, 0, 0)) ;\n",
      "P = ite(false, ite(true, 0, 0), 1) ;\n",
      "P = ite(false, ite(true, 0, 0), +(0, 0)) ;\n",
      "P = ite(false, ite(true, 0, 0), ite(true, 0, 0)) ;\n",
      "P = ite(false, ite(true, 0, 0), ite(false, 0, 0)) ;\n",
      "P = ite(false, ite(false, 0, 0), 1) ;\n",
      "P = ite(false, ite(false, 0, 0), +(0, 0)) ;\n",
      "P = ite(false, ite(false, 0, 0), ite(true, 0, 0)) ;\n",
      "P = ite(false, ite(false, 0, 0), ite(false, 0, 0)) ;\n",
      "P = ite(<(0, 0), 1, 1) ;\n",
      "P = ite(<(0, 0), 1, +(0, 0)) ;\n",
      "P = ite(<(0, 0), 1, ite(true, 0, 0)) ;\n",
      "P = ite(<(0, 0), 1, ite(false, 0, 0)) ;\n",
      "P = ite(<(0, 0), +(0, 0), 1) ;\n",
      "P = ite(<(0, 0), +(0, 0), +(0, 0)) ;\n",
      "P = ite(<(0, 0), +(0, 0), ite(true, 0, 0)) ;\n",
      "P = ite(<(0, 0), +(0, 0), ite(false, 0, 0)) ;\n",
      "P = ite(<(0, 0), ite(true, 0, 0), 1) ;\n",
      "P = ite(<(0, 0), ite(true, 0, 0), +(0, 0)) ;\n",
      "P = ite(<(0, 0), ite(true, 0, 0), ite(true, 0, 0)) ;\n",
      "P = ite(<(0, 0), ite(true, 0, 0), ite(false, 0, 0)) ;\n",
      "P = ite(<(0, 0), ite(false, 0, 0), 1) ;\n",
      "P = ite(<(0, 0), ite(false, 0, 0), +(0, 0)) ;\n",
      "P = ite(<(0, 0), ite(false, 0, 0), ite(true, 0, 0)) ;\n",
      "P = ite(<(0, 0), ite(false, 0, 0), ite(false, 0, 0)) ;\n",
      "P = ite(ite(true, true, true), 1, 1) ;\n",
      "P = ite(ite(true, true, true), 1, +(0, 0)) ;\n",
      "P = ite(ite(true, true, true), 1, ite(true, 0, 0)) ;\n",
      "P = ite(ite(true, true, true), 1, ite(false, 0, 0)) ;\n",
      "P = ite(ite(true, true, true), +(0, 0), 1) ;\n",
      "P = ite(ite(true, true, true), +(0, 0), +(0, 0)) ;\n",
      "P = ite(ite(true, true, true), +(0, 0), ite(true, 0, 0)) ;\n",
      "P = ite(ite(true, true, true), +(0, 0), ite(false, 0, 0)) ;\n",
      "P = ite(ite(true, true, true), ite(true, 0, 0), 1) ;\n",
      "P = ite(ite(true, true, true), ite(true, 0, 0), +(0, 0)) ;\n",
      "P = ite(ite(true, true, true), ite(true, 0, 0), ite(true, 0, 0)) ;\n",
      "P = ite(ite(true, true, true), ite(true, 0, 0), ite(false, 0, 0)) ;\n",
      "P = ite(ite(true, true, true), ite(false, 0, 0), 1) ;\n",
      "P = ite(ite(true, true, true), ite(false, 0, 0), +(0, 0)) ;\n",
      "P = ite(ite(true, true, true), ite(false, 0, 0), ite(true, 0, 0)) ;\n",
      "P = ite(ite(true, true, true), ite(false, 0, 0), ite(false, 0, 0)) ;\n",
      "P = ite(ite(true, true, false), 1, 1) ;\n",
      "P = ite(ite(true, true, false), 1, +(0, 0)) ;\n",
      "P = ite(ite(true, true, false), 1, ite(true, 0, 0)) ;\n",
      "P = ite(ite(true, true, false), 1, ite(false, 0, 0)) ;\n",
      "P = ite(ite(true, true, false), +(0, 0), 1) ;\n",
      "P = ite(ite(true, true, false), +(0, 0), +(0, 0)) ;\n",
      "P = ite(ite(true, true, false), +(0, 0), ite(true, 0, 0)) ;\n",
      "P = ite(ite(true, true, false), +(0, 0), ite(false, 0, 0)) ;\n",
      "P = ite(ite(true, true, false), ite(true, 0, 0), 1) ;\n",
      "P = ite(ite(true, true, false), ite(true, 0, 0), +(0, 0)) ;\n",
      "P = ite(ite(true, true, false), ite(true, 0, 0), ite(true, 0, 0)) ;\n",
      "P = ite(ite(true, true, false), ite(true, 0, 0), ite(false, 0, 0)) ;\n",
      "P = ite(ite(true, true, false), ite(false, 0, 0), 1) ;\n",
      "P = ite(ite(true, true, false), ite(false, 0, 0), +(0, 0)) ;\n",
      "P = ite(ite(true, true, false), ite(false, 0, 0), ite(true, 0, 0)) ;\n",
      "P = ite(ite(true, true, false), ite(false, 0, 0), ite(false, 0, 0)) ;\n",
      "P = ite(ite(true, false, true), 1, 1) ;\n",
      "P = ite(ite(true, false, true), 1, +(0, 0)) ;\n",
      "P = ite(ite(true, false, true), 1, ite(true, 0, 0)) ;\n",
      "P = ite(ite(true, false, true), 1, ite(false, 0, 0)) ;\n",
      "P = ite(ite(true, false, true), +(0, 0), 1) ;\n",
      "P = ite(ite(true, false, true), +(0, 0), +(0, 0)) ;\n",
      "P = ite(ite(true, false, true), +(0, 0), ite(true, 0, 0)) ;\n",
      "P = ite(ite(true, false, true), +(0, 0), ite(false, 0, 0)) ;\n",
      "P = ite(ite(true, false, true), ite(true, 0, 0), 1) ;\n",
      "P = ite(ite(true, false, true), ite(true, 0, 0), +(0, 0)) ;\n",
      "P = ite(ite(true, false, true), ite(true, 0, 0), ite(true, 0, 0)) ;\n",
      "P = ite(ite(true, false, true), ite(true, 0, 0), ite(false, 0, 0)) ;\n",
      "P = ite(ite(true, false, true), ite(false, 0, 0), 1) ;\n",
      "P = ite(ite(true, false, true), ite(false, 0, 0), +(0, 0)) ;\n",
      "P = ite(ite(true, false, true), ite(false, 0, 0), ite(true, 0, 0)) ;\n",
      "P = ite(ite(true, false, true), ite(false, 0, 0), ite(false, 0, 0)) ;\n",
      "P = ite(ite(true, false, false), 1, 1) ;\n",
      "P = ite(ite(true, false, false), 1, +(0, 0)) ;\n",
      "P = ite(ite(true, false, false), 1, ite(true, 0, 0)) ;\n",
      "P = ite(ite(true, false, false), 1, ite(false, 0, 0)) ;\n",
      "P = ite(ite(true, false, false), +(0, 0), 1) ;\n",
      "P = ite(ite(true, false, false), +(0, 0), +(0, 0)) ;\n",
      "P = ite(ite(true, false, false), +(0, 0), ite(true, 0, 0)) ;\n",
      "P = ite(ite(true, false, false), +(0, 0), ite(false, 0, 0)) ;\n",
      "P = ite(ite(true, false, false), ite(true, 0, 0), 1) ;\n",
      "P = ite(ite(true, false, false), ite(true, 0, 0), +(0, 0)) ;\n",
      "P = ite(ite(true, false, false), ite(true, 0, 0), ite(true, 0, 0)) ;\n",
      "P = ite(ite(true, false, false), ite(true, 0, 0), ite(false, 0, 0)) ;\n",
      "P = ite(ite(true, false, false), ite(false, 0, 0), 1) ;\n",
      "P = ite(ite(true, false, false), ite(false, 0, 0), +(0, 0)) ;\n",
      "P = ite(ite(true, false, false), ite(false, 0, 0), ite(true, 0, 0)) ;\n",
      "P = ite(ite(true, false, false), ite(false, 0, 0), ite(false, 0, 0)) ;\n",
      "P = ite(ite(false, true, true), 1, 1) ;\n",
      "P = ite(ite(false, true, true), 1, +(0, 0)) ;\n",
      "P = ite(ite(false, true, true), 1, ite(true, 0, 0)) ;\n",
      "P = ite(ite(false, true, true), 1, ite(false, 0, 0)) ;\n",
      "P = ite(ite(false, true, true), +(0, 0), 1) ;\n",
      "P = ite(ite(false, true, true), +(0, 0), +(0, 0)) ;\n",
      "P = ite(ite(false, true, true), +(0, 0), ite(true, 0, 0)) ;\n",
      "P = ite(ite(false, true, true), +(0, 0), ite(false, 0, 0)) ;\n",
      "P = ite(ite(false, true, true), ite(true, 0, 0), 1) ;\n",
      "P = ite(ite(false, true, true), ite(true, 0, 0), +(0, 0)) ;\n",
      "P = ite(ite(false, true, true), ite(true, 0, 0), ite(true, 0, 0)) ;\n",
      "P = ite(ite(false, true, true), ite(true, 0, 0), ite(false, 0, 0)) ;\n",
      "P = ite(ite(false, true, true), ite(false, 0, 0), 1) ;\n",
      "P = ite(ite(false, true, true), ite(false, 0, 0), +(0, 0)) ;\n",
      "P = ite(ite(false, true, true), ite(false, 0, 0), ite(true, 0, 0)) ;\n",
      "P = ite(ite(false, true, true), ite(false, 0, 0), ite(false, 0, 0)) ;\n",
      "P = ite(ite(false, true, false), 1, 1) ;\n",
      "P = ite(ite(false, true, false), 1, +(0, 0)) ;\n",
      "P = ite(ite(false, true, false), 1, ite(true, 0, 0)) ;\n",
      "P = ite(ite(false, true, false), 1, ite(false, 0, 0)) ;\n",
      "P = ite(ite(false, true, false), +(0, 0), 1) ;\n",
      "P = ite(ite(false, true, false), +(0, 0), +(0, 0)) ;\n",
      "P = ite(ite(false, true, false), +(0, 0), ite(true, 0, 0)) ;\n",
      "P = ite(ite(false, true, false), +(0, 0), ite(false, 0, 0)) ;\n",
      "P = ite(ite(false, true, false), ite(true, 0, 0), 1) ;\n",
      "P = ite(ite(false, true, false), ite(true, 0, 0), +(0, 0)) ;\n",
      "P = ite(ite(false, true, false), ite(true, 0, 0), ite(true, 0, 0)) ;\n",
      "P = ite(ite(false, true, false), ite(true, 0, 0), ite(false, 0, 0)) ;\n",
      "P = ite(ite(false, true, false), ite(false, 0, 0), 1) ;\n",
      "P = ite(ite(false, true, false), ite(false, 0, 0), +(0, 0)) ;\n",
      "P = ite(ite(false, true, false), ite(false, 0, 0), ite(true, 0, 0)) ;\n",
      "P = ite(ite(false, true, false), ite(false, 0, 0), ite(false, 0, 0)) ;\n",
      "P = ite(ite(false, false, true), 1, 1) ;\n",
      "P = ite(ite(false, false, true), 1, +(0, 0)) ;\n",
      "P = ite(ite(false, false, true), 1, ite(true, 0, 0)) ;\n",
      "P = ite(ite(false, false, true), 1, ite(false, 0, 0)) ;\n",
      "P = ite(ite(false, false, true), +(0, 0), 1) ;\n",
      "P = ite(ite(false, false, true), +(0, 0), +(0, 0)) ;\n",
      "P = ite(ite(false, false, true), +(0, 0), ite(true, 0, 0)) ;\n",
      "P = ite(ite(false, false, true), +(0, 0), ite(false, 0, 0)) ;\n",
      "P = ite(ite(false, false, true), ite(true, 0, 0), 1) ;\n",
      "P = ite(ite(false, false, true), ite(true, 0, 0), +(0, 0)) ;\n",
      "P = ite(ite(false, false, true), ite(true, 0, 0), ite(true, 0, 0)) ;\n",
      "P = ite(ite(false, false, true), ite(true, 0, 0), ite(false, 0, 0)) ;\n",
      "P = ite(ite(false, false, true), ite(false, 0, 0), 1) ;\n",
      "P = ite(ite(false, false, true), ite(false, 0, 0), +(0, 0)) ;\n",
      "P = ite(ite(false, false, true), ite(false, 0, 0), ite(true, 0, 0)) ;\n",
      "P = ite(ite(false, false, true), ite(false, 0, 0), ite(false, 0, 0)) ;\n",
      "P = ite(ite(false, false, false), 1, 1) ;\n",
      "P = ite(ite(false, false, false), 1, +(0, 0)) ;\n",
      "P = ite(ite(false, false, false), 1, ite(true, 0, 0)) ;\n",
      "P = ite(ite(false, false, false), 1, ite(false, 0, 0)) ;\n",
      "P = ite(ite(false, false, false), +(0, 0), 1) ;\n",
      "P = ite(ite(false, false, false), +(0, 0), +(0, 0)) ;\n",
      "P = ite(ite(false, false, false), +(0, 0), ite(true, 0, 0)) ;\n",
      "P = ite(ite(false, false, false), +(0, 0), ite(false, 0, 0)) ;\n",
      "P = ite(ite(false, false, false), ite(true, 0, 0), 1) ;\n",
      "P = ite(ite(false, false, false), ite(true, 0, 0), +(0, 0)) ;\n",
      "P = ite(ite(false, false, false), ite(true, 0, 0), ite(true, 0, 0)) ;\n",
      "P = ite(ite(false, false, false), ite(true, 0, 0), ite(false, 0, 0)) ;\n",
      "P = ite(ite(false, false, false), ite(false, 0, 0), 1) ;\n",
      "P = ite(ite(false, false, false), ite(false, 0, 0), +(0, 0)) ;\n",
      "P = ite(ite(false, false, false), ite(false, 0, 0), ite(true, 0, 0)) ;\n",
      "P = ite(ite(false, false, false), ite(false, 0, 0), ite(false, 0, 0)) ;\n",
      "P = app(app(lam(var(_1648), var(_1648)), lam(var(_1686), var(_1686))), app(lam(var(_1742), var(_1742)), 1)) ;\n",
      "P = app(app(lam(var(_1648), var(_1648)), lam(var(_1686), var(_1686))), app(lam(var(_1742), var(_1742)), +(0, 0))) ;\n",
      "P = app(app(lam(var(_1648), var(_1648)), lam(var(_1686), var(_1686))), app(lam(var(_1742), var(_1742)), ite(true, 0, 0))) ;\n",
      "P = app(app(lam(var(_1648), var(_1648)), lam(var(_1686), var(_1686))), app(lam(var(_1742), var(_1742)), ite(false, 0, 0))) ;\n",
      "P = app(app(lam(var(_1648), var(_1648)), lam(var(_1686), var(_1686))), app(lam(var(_1742), 0), u)) ;\n",
      "P = app(app(lam(var(_1648), var(_1648)), lam(var(_1686), var(_1686))), app(lam(var(_1742), 0), lam(var(_1776), u))) ;\n",
      "P = app(app(lam(var(_1648), var(_1648)), lam(var(_1686), var(_1686))), app(lam(var(_1742), 0), lam(var(_1776), var(_1776)))) ;\n",
      "P = app(app(lam(var(_1648), var(_1648)), lam(var(_1686), var(_1686))), app(lam(var(_1742), 0), lam(var(_1776), 0))) ;\n",
      "P = app(app(lam(var(_1648), var(_1648)), lam(var(_1686), var(_1686))), app(lam(var(_1742), 0), lam(var(_1776), true))) ;\n",
      "P = app(app(lam(var(_1648), var(_1648)), lam(var(_1686), var(_1686))), app(lam(var(_1742), 0), lam(var(_1776), false))) ;\n",
      "P = app(app(lam(var(_1648), var(_1648)), lam(var(_1686), var(_1686))), app(lam(var(_1742), 0), pair(u, u))) ;\n",
      "P = app(app(lam(var(_1648), var(_1648)), lam(var(_1686), var(_1686))), app(lam(var(_1742), 0), pair(u, 0))) ;\n",
      "P = app(app(lam(var(_1648), var(_1648)), lam(var(_1686), var(_1686))), app(lam(var(_1742), 0), pair(u, true))) ;\n",
      "P = app(app(lam(var(_1648), var(_1648)), lam(var(_1686), var(_1686))), app(lam(var(_1742), 0), pair(u, false))) ;\n",
      "P = app(app(lam(var(_1648), var(_1648)), lam(var(_1686), var(_1686))), app(lam(var(_1742), 0), pair(0, u))) ;\n",
      "P = app(app(lam(var(_1648), var(_1648)), lam(var(_1686), var(_1686))), app(lam(var(_1742), 0), pair(0, 0))) ;\n",
      "P = app(app(lam(var(_1648), var(_1648)), lam(var(_1686), var(_1686))), app(lam(var(_1742), 0), pair(0, true))) ;\n",
      "P = app(app(lam(var(_1648), var(_1648)), lam(var(_1686), var(_1686))), app(lam(var(_1742), 0), pair(0, false))) ;\n",
      "P = app(app(lam(var(_1648), var(_1648)), lam(var(_1686), var(_1686))), app(lam(var(_1742), 0), pair(true, u))) ;\n",
      "P = app(app(lam(var(_1648), var(_1648)), lam(var(_1686), var(_1686))), app(lam(var(_1742), 0), pair(true, 0))) ;\n",
      "P = app(app(lam(var(_1648), var(_1648)), lam(var(_1686), var(_1686))), app(lam(var(_1742), 0), pair(true, true))) ;\n",
      "P = app(app(lam(var(_1648), var(_1648)), lam(var(_1686), var(_1686))), app(lam(var(_1742), 0), pair(true, false))) ;\n",
      "P = app(app(lam(var(_1648), var(_1648)), lam(var(_1686), var(_1686))), app(lam(var(_1742), 0), pair(false, u))) ;\n",
      "P = app(app(lam(var(_1648), var(_1648)), lam(var(_1686), var(_1686))), app(lam(var(_1742), 0), pair(false, 0))) ;\n",
      "P = app(app(lam(var(_1648), var(_1648)), lam(var(_1686), var(_1686))), app(lam(var(_1742), 0), pair(false, true))) ;\n",
      "P = app(app(lam(var(_1648), var(_1648)), lam(var(_1686), var(_1686))), app(lam(var(_1742), 0), pair(false, false))) ;\n",
      "P = app(app(lam(var(_1648), var(_1648)), lam(var(_1686), var(_1686))), app(lam(var(_1742), 0), 1)) ;\n",
      "P = app(app(lam(var(_1648), var(_1648)), lam(var(_1686), var(_1686))), app(lam(var(_1742), 0), true)) ;\n",
      "P = app(app(lam(var(_1648), var(_1648)), lam(var(_1686), var(_1686))), app(lam(var(_1742), 0), false)) ;\n",
      "P = app(app(lam(var(_1648), var(_1648)), lam(var(_1686), var(_1686))), app(lam(var(_1742), 0), +(0, 0))) ;\n",
      "P = app(app(lam(var(_1648), var(_1648)), lam(var(_1686), var(_1686))), app(lam(var(_1742), 0), <(0, 0))) ;\n",
      "P = app(app(lam(var(_1648), var(_1648)), lam(var(_1686), var(_1686))), app(lam(var(_1742), 0), ite(true, u, u))) ;\n",
      "P = app(app(lam(var(_1648), var(_1648)), lam(var(_1686), var(_1686))), app(lam(var(_1742), 0), ite(true, 0, 0))) ;\n",
      "P = app(app(lam(var(_1648), var(_1648)), lam(var(_1686), var(_1686))), app(lam(var(_1742), 0), ite(true, true, true))) ;\n",
      "P = app(app(lam(var(_1648), var(_1648)), lam(var(_1686), var(_1686))), app(lam(var(_1742), 0), ite(true, true, false))) ;\n",
      "P = app(app(lam(var(_1648), var(_1648)), lam(var(_1686), var(_1686))), app(lam(var(_1742), 0), ite(true, false, true))) ;\n",
      "P = app(app(lam(var(_1648), var(_1648)), lam(var(_1686), var(_1686))), app(lam(var(_1742), 0), ite(true, false, false))) ;\n",
      "P = app(app(lam(var(_1648), var(_1648)), lam(var(_1686), var(_1686))), app(lam(var(_1742), 0), ite(false, u, u))) ;\n",
      "P = app(app(lam(var(_1648), var(_1648)), lam(var(_1686), var(_1686))), app(lam(var(_1742), 0), ite(false, 0, 0))) ;\n",
      "P = app(app(lam(var(_1648), var(_1648)), lam(var(_1686), var(_1686))), app(lam(var(_1742), 0), ite(false, true, true))) ;\n",
      "P = app(app(lam(var(_1648), var(_1648)), lam(var(_1686), var(_1686))), app(lam(var(_1742), 0), ite(false, true, false))) ;\n",
      "P = app(app(lam(var(_1648), var(_1648)), lam(var(_1686), var(_1686))), app(lam(var(_1742), 0), ite(false, false, true))) ;\n",
      "P = app(app(lam(var(_1648), var(_1648)), lam(var(_1686), var(_1686))), app(lam(var(_1742), 0), ite(false, false, false))) ;\n",
      "P = app(app(lam(var(_1648), var(_1648)), lam(var(_1686), var(_1686))), fst(pair(0, u))) ;\n",
      "P = app(app(lam(var(_1648), var(_1648)), lam(var(_1686), var(_1686))), fst(pair(0, 0))) ;\n",
      "P = app(app(lam(var(_1648), var(_1648)), lam(var(_1686), var(_1686))), fst(pair(0, true))) ;\n",
      "P = app(app(lam(var(_1648), var(_1648)), lam(var(_1686), var(_1686))), fst(pair(0, false))) ;\n",
      "P = app(app(lam(var(_1648), var(_1648)), lam(var(_1686), var(_1686))), snd(pair(u, 0))) ;\n",
      "P = app(app(lam(var(_1648), var(_1648)), lam(var(_1686), var(_1686))), snd(pair(0, 0))) ;\n",
      "P = app(app(lam(var(_1648), var(_1648)), lam(var(_1686), var(_1686))), snd(pair(true, 0))) ;\n",
      "P = app(app(lam(var(_1648), var(_1648)), lam(var(_1686), var(_1686))), snd(pair(false, 0))) ;\n",
      "P = app(app(lam(var(_1648), var(_1648)), lam(var(_1686), var(_1686))), 2) ;\n",
      "P = app(app(lam(var(_1648), var(_1648)), lam(var(_1686), var(_1686))), +(1, 1)) ;\n",
      "P = app(app(lam(var(_1648), var(_1648)), lam(var(_1686), var(_1686))), +(1, +(0, 0))) ;\n",
      "P = app(app(lam(var(_1648), var(_1648)), lam(var(_1686), var(_1686))), +(1, ite(true, 0, 0))) ;\n",
      "P = app(app(lam(var(_1648), var(_1648)), lam(var(_1686), var(_1686))), +(1, ite(false, 0, 0))) ;\n",
      "P = app(app(lam(var(_1648), var(_1648)), lam(var(_1686), var(_1686))), +(+(0, 0), 1)) ;\n",
      "P = app(app(lam(var(_1648), var(_1648)), lam(var(_1686), var(_1686))), +(+(0, 0), +(0, 0))) ;\n",
      "P = app(app(lam(var(_1648), var(_1648)), lam(var(_1686), var(_1686))), +(+(0, 0), ite(true, 0, 0))) ;\n",
      "P = app(app(lam(var(_1648), var(_1648)), lam(var(_1686), var(_1686))), +(+(0, 0), ite(false, 0, 0))) ;\n",
      "P = app(app(lam(var(_1648), var(_1648)), lam(var(_1686), var(_1686))), +(ite(true, 0, 0), 1)) ;\n",
      "P = app(app(lam(var(_1648), var(_1648)), lam(var(_1686), var(_1686))), +(ite(true, 0, 0), +(0, 0))) ;\n",
      "P = app(app(lam(var(_1648), var(_1648)), lam(var(_1686), var(_1686))), +(ite(true, 0, 0), ite(true, 0, 0))) ;\n",
      "P = app(app(lam(var(_1648), var(_1648)), lam(var(_1686), var(_1686))), +(ite(true, 0, 0), ite(false, 0, 0))) ;\n",
      "P = app(app(lam(var(_1648), var(_1648)), lam(var(_1686), var(_1686))), +(ite(false, 0, 0), 1)) ;\n",
      "P = app(app(lam(var(_1648), var(_1648)), lam(var(_1686), var(_1686))), +(ite(false, 0, 0), +(0, 0))) ;\n",
      "P = app(app(lam(var(_1648), var(_1648)), lam(var(_1686), var(_1686))), +(ite(false, 0, 0), ite(true, 0, 0))) ;\n",
      "P = app(app(lam(var(_1648), var(_1648)), lam(var(_1686), var(_1686))), +(ite(false, 0, 0), ite(false, 0, 0))) ;\n",
      "P = app(app(lam(var(_1648), var(_1648)), lam(var(_1686), var(_1686))), ite(true, 1, 1)) ;\n",
      "P = app(app(lam(var(_1648), var(_1648)), lam(var(_1686), var(_1686))), ite(true, 1, +(0, 0))) ;\n",
      "P = app(app(lam(var(_1648), var(_1648)), lam(var(_1686), var(_1686))), ite(true, 1, ite(true, 0, 0))) ;\n",
      "P = app(app(lam(var(_1648), var(_1648)), lam(var(_1686), var(_1686))), ite(true, 1, ite(false, 0, 0))) ;\n",
      "P = app(app(lam(var(_1648), var(_1648)), lam(var(_1686), var(_1686))), ite(true, +(0, 0), 1)) ;\n",
      "P = app(app(lam(var(_1648), var(_1648)), lam(var(_1686), var(_1686))), ite(true, +(0, 0), +(0, 0))) ;\n",
      "P = app(app(lam(var(_1648), var(_1648)), lam(var(_1686), var(_1686))), ite(true, +(0, 0), ite(true, 0, 0))) ;\n",
      "P = app(app(lam(var(_1648), var(_1648)), lam(var(_1686), var(_1686))), ite(true, +(0, 0), ite(false, 0, 0))) ;\n",
      "P = app(app(lam(var(_1648), var(_1648)), lam(var(_1686), var(_1686))), ite(true, ite(true, 0, 0), 1)) ;\n",
      "P = app(app(lam(var(_1648), var(_1648)), lam(var(_1686), var(_1686))), ite(true, ite(true, 0, 0), +(0, 0))) ;\n",
      "P = app(app(lam(var(_1648), var(_1648)), lam(var(_1686), var(_1686))), ite(true, ite(true, 0, 0), ite(true, 0, 0))) ;\n",
      "P = app(app(lam(var(_1648), var(_1648)), lam(var(_1686), var(_1686))), ite(true, ite(true, 0, 0), ite(false, 0, 0))) ;\n",
      "P = app(app(lam(var(_1648), var(_1648)), lam(var(_1686), var(_1686))), ite(true, ite(false, 0, 0), 1)) ;\n",
      "P = app(app(lam(var(_1648), var(_1648)), lam(var(_1686), var(_1686))), ite(true, ite(false, 0, 0), +(0, 0))) ;\n",
      "P = app(app(lam(var(_1648), var(_1648)), lam(var(_1686), var(_1686))), ite(true, ite(false, 0, 0), ite(true, 0, 0))) ;\n",
      "P = app(app(lam(var(_1648), var(_1648)), lam(var(_1686), var(_1686))), ite(true, ite(false, 0, 0), ite(false, 0, 0))) ;\n",
      "P = app(app(lam(var(_1648), var(_1648)), lam(var(_1686), var(_1686))), ite(false, 1, 1)) ;\n",
      "P = app(app(lam(var(_1648), var(_1648)), lam(var(_1686), var(_1686))), ite(false, 1, +(0, 0))) ;\n",
      "P = app(app(lam(var(_1648), var(_1648)), lam(var(_1686), var(_1686))), ite(false, 1, ite(true, 0, 0))) ;\n",
      "P = app(app(lam(var(_1648), var(_1648)), lam(var(_1686), var(_1686))), ite(false, 1, ite(false, 0, 0))) ;\n",
      "P = app(app(lam(var(_1648), var(_1648)), lam(var(_1686), var(_1686))), ite(false, +(0, 0), 1)) ;\n",
      "P = app(app(lam(var(_1648), var(_1648)), lam(var(_1686), var(_1686))), ite(false, +(0, 0), +(0, 0))) ;\n",
      "P = app(app(lam(var(_1648), var(_1648)), lam(var(_1686), var(_1686))), ite(false, +(0, 0), ite(true, 0, 0))) ;\n",
      "P = app(app(lam(var(_1648), var(_1648)), lam(var(_1686), var(_1686))), ite(false, +(0, 0), ite(false, 0, 0))) ;\n",
      "P = app(app(lam(var(_1648), var(_1648)), lam(var(_1686), var(_1686))), ite(false, ite(true, 0, 0), 1)) ;\n",
      "P = app(app(lam(var(_1648), var(_1648)), lam(var(_1686), var(_1686))), ite(false, ite(true, 0, 0), +(0, 0))) ;\n",
      "P = app(app(lam(var(_1648), var(_1648)), lam(var(_1686), var(_1686))), ite(false, ite(true, 0, 0), ite(true, 0, 0))) ;\n",
      "P = app(app(lam(var(_1648), var(_1648)), lam(var(_1686), var(_1686))), ite(false, ite(true, 0, 0), ite(false, 0, 0))) ;\n",
      "P = app(app(lam(var(_1648), var(_1648)), lam(var(_1686), var(_1686))), ite(false, ite(false, 0, 0), 1)) ;\n",
      "P = app(app(lam(var(_1648), var(_1648)), lam(var(_1686), var(_1686))), ite(false, ite(false, 0, 0), +(0, 0))) ;\n",
      "P = app(app(lam(var(_1648), var(_1648)), lam(var(_1686), var(_1686))), ite(false, ite(false, 0, 0), ite(true, 0, 0))) ;\n",
      "P = app(app(lam(var(_1648), var(_1648)), lam(var(_1686), var(_1686))), ite(false, ite(false, 0, 0), ite(false, 0, 0))) ;\n",
      "P = app(app(lam(var(_1648), var(_1648)), lam(var(_1686), var(_1686))), ite(<(0, 0), 1, 1)) ;\n",
      "P = app(app(lam(var(_1648), var(_1648)), lam(var(_1686), var(_1686))), ite(<(0, 0), 1, +(0, 0))) ;\n",
      "P = app(app(lam(var(_1648), var(_1648)), lam(var(_1686), var(_1686))), ite(<(0, 0), 1, ite(true, 0, 0))) ;\n",
      "P = app(app(lam(var(_1648), var(_1648)), lam(var(_1686), var(_1686))), ite(<(0, 0), 1, ite(false, 0, 0))) ;\n",
      "P = app(app(lam(var(_1648), var(_1648)), lam(var(_1686), var(_1686))), ite(<(0, 0), +(0, 0), 1)) ;\n",
      "P = app(app(lam(var(_1648), var(_1648)), lam(var(_1686), var(_1686))), ite(<(0, 0), +(0, 0), +(0, 0))) ;\n",
      "P = app(app(lam(var(_1648), var(_1648)), lam(var(_1686), var(_1686))), ite(<(0, 0), +(0, 0), ite(true, 0, 0))) ;\n",
      "P = app(app(lam(var(_1648), var(_1648)), lam(var(_1686), var(_1686))), ite(<(0, 0), +(0, 0), ite(false, 0, 0))) ;\n",
      "P = app(app(lam(var(_1648), var(_1648)), lam(var(_1686), var(_1686))), ite(<(0, 0), ite(true, 0, 0), 1)) ;\n",
      "P = app(app(lam(var(_1648), var(_1648)), lam(var(_1686), var(_1686))), ite(<(0, 0), ite(true, 0, 0), +(0, 0))) ;\n",
      "P = app(app(lam(var(_1648), var(_1648)), lam(var(_1686), var(_1686))), ite(<(0, 0), ite(true, 0, 0), ite(true, 0, 0))) ;\n",
      "P = app(app(lam(var(_1648), var(_1648)), lam(var(_1686), var(_1686))), ite(<(0, 0), ite(true, 0, 0), ite(false, 0, 0))) ;\n",
      "P = app(app(lam(var(_1648), var(_1648)), lam(var(_1686), var(_1686))), ite(<(0, 0), ite(false, 0, 0), 1)) ;\n",
      "P = app(app(lam(var(_1648), var(_1648)), lam(var(_1686), var(_1686))), ite(<(0, 0), ite(false, 0, 0), +(0, 0))) ;\n",
      "P = app(app(lam(var(_1648), var(_1648)), lam(var(_1686), var(_1686))), ite(<(0, 0), ite(false, 0, 0), ite(true, 0, 0))) ;\n",
      "P = app(app(lam(var(_1648), var(_1648)), lam(var(_1686), var(_1686))), ite(<(0, 0), ite(false, 0, 0), ite(false, 0, 0))) ;\n",
      "P = app(app(lam(var(_1648), var(_1648)), lam(var(_1686), var(_1686))), ite(ite(true, true, true), 1, 1)) ;\n",
      "P = app(app(lam(var(_1648), var(_1648)), lam(var(_1686), var(_1686))), ite(ite(true, true, true), 1, +(0, 0))) ;\n",
      "P = app(app(lam(var(_1648), var(_1648)), lam(var(_1686), var(_1686))), ite(ite(true, true, true), 1, ite(true, 0, 0))) ;\n",
      "P = app(app(lam(var(_1648), var(_1648)), lam(var(_1686), var(_1686))), ite(ite(true, true, true), 1, ite(false, 0, 0))) ;\n",
      "P = app(app(lam(var(_1648), var(_1648)), lam(var(_1686), var(_1686))), ite(ite(true, true, true), +(0, 0), 1)) ;\n",
      "P = app(app(lam(var(_1648), var(_1648)), lam(var(_1686), var(_1686))), ite(ite(true, true, true), +(0, 0), +(0, 0))) ;\n",
      "P = app(app(lam(var(_1648), var(_1648)), lam(var(_1686), var(_1686))), ite(ite(true, true, true), +(0, 0), ite(true, 0, 0))) ;\n",
      "P = app(app(lam(var(_1648), var(_1648)), lam(var(_1686), var(_1686))), ite(ite(true, true, true), +(0, 0), ite(false, 0, 0))) ;\n",
      "P = app(app(lam(var(_1648), var(_1648)), lam(var(_1686), var(_1686))), ite(ite(true, true, true), ite(true, 0, 0), 1)) ;\n",
      "P = app(app(lam(var(_1648), var(_1648)), lam(var(_1686), var(_1686))), ite(ite(true, true, true), ite(true, 0, 0), +(0, 0))) ;\n",
      "P = app(app(lam(var(_1648), var(_1648)), lam(var(_1686), var(_1686))), ite(ite(true, true, true), ite(true, 0, 0), ite(true, 0, 0))) ;\n",
      "P = app(app(lam(var(_1648), var(_1648)), lam(var(_1686), var(_1686))), ite(ite(true, true, true), ite(true, 0, 0), ite(false, 0, 0))) ;\n",
      "P = app(app(lam(var(_1648), var(_1648)), lam(var(_1686), var(_1686))), ite(ite(true, true, true), ite(false, 0, 0), 1)) ;\n",
      "P = app(app(lam(var(_1648), var(_1648)), lam(var(_1686), var(_1686))), ite(ite(true, true, true), ite(false, 0, 0), +(0, 0))) ;\n",
      "P = app(app(lam(var(_1648), var(_1648)), lam(var(_1686), var(_1686))), ite(ite(true, true, true), ite(false, 0, 0), ite(true, 0, 0))) ;\n",
      "P = app(app(lam(var(_1648), var(_1648)), lam(var(_1686), var(_1686))), ite(ite(true, true, true), ite(false, 0, 0), ite(false, 0, 0))) ;\n",
      "P = app(app(lam(var(_1648), var(_1648)), lam(var(_1686), var(_1686))), ite(ite(true, true, false), 1, 1)) ;\n",
      "P = app(app(lam(var(_1648), var(_1648)), lam(var(_1686), var(_1686))), ite(ite(true, true, false), 1, +(0, 0))) ;\n",
      "P = app(app(lam(var(_1648), var(_1648)), lam(var(_1686), var(_1686))), ite(ite(true, true, false), 1, ite(true, 0, 0))) ;\n",
      "P = app(app(lam(var(_1648), var(_1648)), lam(var(_1686), var(_1686))), ite(ite(true, true, false), 1, ite(false, 0, 0))) ;\n",
      "P = app(app(lam(var(_1648), var(_1648)), lam(var(_1686), var(_1686))), ite(ite(true, true, false), +(0, 0), 1)) ;\n",
      "P = app(app(lam(var(_1648), var(_1648)), lam(var(_1686), var(_1686))), ite(ite(true, true, false), +(0, 0), +(0, 0))) ;\n",
      "P = app(app(lam(var(_1648), var(_1648)), lam(var(_1686), var(_1686))), ite(ite(true, true, false), +(0, 0), ite(true, 0, 0))) ;\n",
      "P = app(app(lam(var(_1648), var(_1648)), lam(var(_1686), var(_1686))), ite(ite(true, true, false), +(0, 0), ite(false, 0, 0))) ;\n",
      "P = app(app(lam(var(_1648), var(_1648)), lam(var(_1686), var(_1686))), ite(ite(true, true, false), ite(true, 0, 0), 1)) ;\n",
      "P = app(app(lam(var(_1648), var(_1648)), lam(var(_1686), var(_1686))), ite(ite(true, true, false), ite(true, 0, 0), +(0, 0))) ;\n",
      "P = app(app(lam(var(_1648), var(_1648)), lam(var(_1686), var(_1686))), ite(ite(true, true, false), ite(true, 0, 0), ite(true, 0, 0))) ;\n",
      "P = app(app(lam(var(_1648), var(_1648)), lam(var(_1686), var(_1686))), ite(ite(true, true, false), ite(true, 0, 0), ite(false, 0, 0))) ;\n",
      "P = app(app(lam(var(_1648), var(_1648)), lam(var(_1686), var(_1686))), ite(ite(true, true, false), ite(false, 0, 0), 1)) ;\n",
      "P = app(app(lam(var(_1648), var(_1648)), lam(var(_1686), var(_1686))), ite(ite(true, true, false), ite(false, 0, 0), +(0, 0))) ;\n",
      "P = app(app(lam(var(_1648), var(_1648)), lam(var(_1686), var(_1686))), ite(ite(true, true, false), ite(false, 0, 0), ite(true, 0, 0))) ;\n",
      "P = app(app(lam(var(_1648), var(_1648)), lam(var(_1686), var(_1686))), ite(ite(true, true, false), ite(false, 0, 0), ite(false, 0, 0))) ;\n",
      "P = app(app(lam(var(_1648), var(_1648)), lam(var(_1686), var(_1686))), ite(ite(true, false, true), 1, 1)) ;\n",
      "P = app(app(lam(var(_1648), var(_1648)), lam(var(_1686), var(_1686))), ite(ite(true, false, true), 1, +(0, 0))) ;\n",
      "P = app(app(lam(var(_1648), var(_1648)), lam(var(_1686), var(_1686))), ite(ite(true, false, true), 1, ite(true, 0, 0))) ;\n",
      "P = app(app(lam(var(_1648), var(_1648)), lam(var(_1686), var(_1686))), ite(ite(true, false, true), 1, ite(false, 0, 0))) ;\n",
      "P = app(app(lam(var(_1648), var(_1648)), lam(var(_1686), var(_1686))), ite(ite(true, false, true), +(0, 0), 1)) ;\n",
      "P = app(app(lam(var(_1648), var(_1648)), lam(var(_1686), var(_1686))), ite(ite(true, false, true), +(0, 0), +(0, 0))) ;\n",
      "P = app(app(lam(var(_1648), var(_1648)), lam(var(_1686), var(_1686))), ite(ite(true, false, true), +(0, 0), ite(true, 0, 0))) ;\n",
      "P = app(app(lam(var(_1648), var(_1648)), lam(var(_1686), var(_1686))), ite(ite(true, false, true), +(0, 0), ite(false, 0, 0))) ;\n",
      "P = app(app(lam(var(_1648), var(_1648)), lam(var(_1686), var(_1686))), ite(ite(true, false, true), ite(true, 0, 0), 1)) ;\n",
      "P = app(app(lam(var(_1648), var(_1648)), lam(var(_1686), var(_1686))), ite(ite(true, false, true), ite(true, 0, 0), +(0, 0))) ;\n",
      "P = app(app(lam(var(_1648), var(_1648)), lam(var(_1686), var(_1686))), ite(ite(true, false, true), ite(true, 0, 0), ite(true, 0, 0))) ;\n",
      "P = app(app(lam(var(_1648), var(_1648)), lam(var(_1686), var(_1686))), ite(ite(true, false, true), ite(true, 0, 0), ite(false, 0, 0))) ;\n",
      "P = app(app(lam(var(_1648), var(_1648)), lam(var(_1686), var(_1686))), ite(ite(true, false, true), ite(false, 0, 0), 1)) ;\n",
      "P = app(app(lam(var(_1648), var(_1648)), lam(var(_1686), var(_1686))), ite(ite(true, false, true), ite(false, 0, 0), +(0, 0))) ;\n",
      "P = app(app(lam(var(_1648), var(_1648)), lam(var(_1686), var(_1686))), ite(ite(true, false, true), ite(false, 0, 0), ite(true, 0, 0))) ;\n",
      "P = app(app(lam(var(_1648), var(_1648)), lam(var(_1686), var(_1686))), ite(ite(true, false, true), ite(false, 0, 0), ite(false, 0, 0))) ;\n",
      "P = app(app(lam(var(_1648), var(_1648)), lam(var(_1686), var(_1686))), ite(ite(true, false, false), 1, 1)) ;\n",
      "P = app(app(lam(var(_1648), var(_1648)), lam(var(_1686), var(_1686))), ite(ite(true, false, false), 1, +(0, 0))) ;\n",
      "P = app(app(lam(var(_1648), var(_1648)), lam(var(_1686), var(_1686))), ite(ite(true, false, false), 1, ite(true, 0, 0))) ;\n",
      "P = app(app(lam(var(_1648), var(_1648)), lam(var(_1686), var(_1686))), ite(ite(true, false, false), 1, ite(false, 0, 0))) ;\n",
      "P = app(app(lam(var(_1648), var(_1648)), lam(var(_1686), var(_1686))), ite(ite(true, false, false), +(0, 0), 1)) ;\n",
      "P = app(app(lam(var(_1648), var(_1648)), lam(var(_1686), var(_1686))), ite(ite(true, false, false), +(0, 0), +(0, 0))) ;\n",
      "P = app(app(lam(var(_1648), var(_1648)), lam(var(_1686), var(_1686))), ite(ite(true, false, false), +(0, 0), ite(true, 0, 0))) ;\n",
      "P = app(app(lam(var(_1648), var(_1648)), lam(var(_1686), var(_1686))), ite(ite(true, false, false), +(0, 0), ite(false, 0, 0))) ;\n",
      "P = app(app(lam(var(_1648), var(_1648)), lam(var(_1686), var(_1686))), ite(ite(true, false, false), ite(true, 0, 0), 1)) ;\n",
      "P = app(app(lam(var(_1648), var(_1648)), lam(var(_1686), var(_1686))), ite(ite(true, false, false), ite(true, 0, 0), +(0, 0))) ;\n",
      "P = app(app(lam(var(_1648), var(_1648)), lam(var(_1686), var(_1686))), ite(ite(true, false, false), ite(true, 0, 0), ite(true, 0, 0))) ;\n",
      "P = app(app(lam(var(_1648), var(_1648)), lam(var(_1686), var(_1686))), ite(ite(true, false, false), ite(true, 0, 0), ite(false, 0, 0))) ;\n",
      "P = app(app(lam(var(_1648), var(_1648)), lam(var(_1686), var(_1686))), ite(ite(true, false, false), ite(false, 0, 0), 1)) ;\n",
      "P = app(app(lam(var(_1648), var(_1648)), lam(var(_1686), var(_1686))), ite(ite(true, false, false), ite(false, 0, 0), +(0, 0))) ;\n",
      "P = app(app(lam(var(_1648), var(_1648)), lam(var(_1686), var(_1686))), ite(ite(true, false, false), ite(false, 0, 0), ite(true, 0, 0))) ;\n",
      "P = app(app(lam(var(_1648), var(_1648)), lam(var(_1686), var(_1686))), ite(ite(true, false, false), ite(false, 0, 0), ite(false, 0, 0))) ;\n",
      "P = app(app(lam(var(_1648), var(_1648)), lam(var(_1686), var(_1686))), ite(ite(false, true, true), 1, 1)) ;\n",
      "P = app(app(lam(var(_1648), var(_1648)), lam(var(_1686), var(_1686))), ite(ite(false, true, true), 1, +(0, 0))) ;\n",
      "P = app(app(lam(var(_1648), var(_1648)), lam(var(_1686), var(_1686))), ite(ite(false, true, true), 1, ite(true, 0, 0))) ;\n",
      "P = app(app(lam(var(_1648), var(_1648)), lam(var(_1686), var(_1686))), ite(ite(false, true, true), 1, ite(false, 0, 0))) ;\n",
      "P = app(app(lam(var(_1648), var(_1648)), lam(var(_1686), var(_1686))), ite(ite(false, true, true), +(0, 0), 1)) ;\n",
      "P = app(app(lam(var(_1648), var(_1648)), lam(var(_1686), var(_1686))), ite(ite(false, true, true), +(0, 0), +(0, 0))) ;\n",
      "P = app(app(lam(var(_1648), var(_1648)), lam(var(_1686), var(_1686))), ite(ite(false, true, true), +(0, 0), ite(true, 0, 0))) ;\n",
      "P = app(app(lam(var(_1648), var(_1648)), lam(var(_1686), var(_1686))), ite(ite(false, true, true), +(0, 0), ite(false, 0, 0))) ;\n",
      "P = app(app(lam(var(_1648), var(_1648)), lam(var(_1686), var(_1686))), ite(ite(false, true, true), ite(true, 0, 0), 1)) ;\n",
      "P = app(app(lam(var(_1648), var(_1648)), lam(var(_1686), var(_1686))), ite(ite(false, true, true), ite(true, 0, 0), +(0, 0))) ;\n",
      "P = app(app(lam(var(_1648), var(_1648)), lam(var(_1686), var(_1686))), ite(ite(false, true, true), ite(true, 0, 0), ite(true, 0, 0))) ;\n",
      "P = app(app(lam(var(_1648), var(_1648)), lam(var(_1686), var(_1686))), ite(ite(false, true, true), ite(true, 0, 0), ite(false, 0, 0))) ;\n",
      "P = app(app(lam(var(_1648), var(_1648)), lam(var(_1686), var(_1686))), ite(ite(false, true, true), ite(false, 0, 0), 1)) ;\n",
      "P = app(app(lam(var(_1648), var(_1648)), lam(var(_1686), var(_1686))), ite(ite(false, true, true), ite(false, 0, 0), +(0, 0))) ;\n",
      "P = app(app(lam(var(_1648), var(_1648)), lam(var(_1686), var(_1686))), ite(ite(false, true, true), ite(false, 0, 0), ite(true, 0, 0))) ;\n",
      "P = app(app(lam(var(_1648), var(_1648)), lam(var(_1686), var(_1686))), ite(ite(false, true, true), ite(false, 0, 0), ite(false, 0, 0))) ;\n",
      "P = app(app(lam(var(_1648), var(_1648)), lam(var(_1686), var(_1686))), ite(ite(false, true, false), 1, 1)) ;\n",
      "P = app(app(lam(var(_1648), var(_1648)), lam(var(_1686), var(_1686))), ite(ite(false, true, false), 1, +(0, 0))) ;\n",
      "P = app(app(lam(var(_1648), var(_1648)), lam(var(_1686), var(_1686))), ite(ite(false, true, false), 1, ite(true, 0, 0))) ;\n",
      "P = app(app(lam(var(_1648), var(_1648)), lam(var(_1686), var(_1686))), ite(ite(false, true, false), 1, ite(false, 0, 0))) ;\n",
      "P = app(app(lam(var(_1648), var(_1648)), lam(var(_1686), var(_1686))), ite(ite(false, true, false), +(0, 0), 1)) ;\n",
      "P = app(app(lam(var(_1648), var(_1648)), lam(var(_1686), var(_1686))), ite(ite(false, true, false), +(0, 0), +(0, 0))) ;\n",
      "P = app(app(lam(var(_1648), var(_1648)), lam(var(_1686), var(_1686))), ite(ite(false, true, false), +(0, 0), ite(true, 0, 0))) ;\n",
      "P = app(app(lam(var(_1648), var(_1648)), lam(var(_1686), var(_1686))), ite(ite(false, true, false), +(0, 0), ite(false, 0, 0))) ;\n",
      "P = app(app(lam(var(_1648), var(_1648)), lam(var(_1686), var(_1686))), ite(ite(false, true, false), ite(true, 0, 0), 1)) ;\n",
      "P = app(app(lam(var(_1648), var(_1648)), lam(var(_1686), var(_1686))), ite(ite(false, true, false), ite(true, 0, 0), +(0, 0))) ;\n",
      "P = app(app(lam(var(_1648), var(_1648)), lam(var(_1686), var(_1686))), ite(ite(false, true, false), ite(true, 0, 0), ite(true, 0, 0))) ;\n",
      "P = app(app(lam(var(_1648), var(_1648)), lam(var(_1686), var(_1686))), ite(ite(false, true, false), ite(true, 0, 0), ite(false, 0, 0))) ;\n",
      "P = app(app(lam(var(_1648), var(_1648)), lam(var(_1686), var(_1686))), ite(ite(false, true, false), ite(false, 0, 0), 1)) ;\n",
      "P = app(app(lam(var(_1648), var(_1648)), lam(var(_1686), var(_1686))), ite(ite(false, true, false), ite(false, 0, 0), +(0, 0))) ;\n",
      "P = app(app(lam(var(_1648), var(_1648)), lam(var(_1686), var(_1686))), ite(ite(false, true, false), ite(false, 0, 0), ite(true, 0, 0))) ;\n",
      "P = app(app(lam(var(_1648), var(_1648)), lam(var(_1686), var(_1686))), ite(ite(false, true, false), ite(false, 0, 0), ite(false, 0, 0))) ;\n",
      "P = app(app(lam(var(_1648), var(_1648)), lam(var(_1686), var(_1686))), ite(ite(false, false, true), 1, 1)) ;\n",
      "P = app(app(lam(var(_1648), var(_1648)), lam(var(_1686), var(_1686))), ite(ite(false, false, true), 1, +(0, 0))) ;\n",
      "P = app(app(lam(var(_1648), var(_1648)), lam(var(_1686), var(_1686))), ite(ite(false, false, true), 1, ite(true, 0, 0))) ;\n",
      "P = app(app(lam(var(_1648), var(_1648)), lam(var(_1686), var(_1686))), ite(ite(false, false, true), 1, ite(false, 0, 0))) ;\n",
      "P = app(app(lam(var(_1648), var(_1648)), lam(var(_1686), var(_1686))), ite(ite(false, false, true), +(0, 0), 1)) ;\n",
      "P = app(app(lam(var(_1648), var(_1648)), lam(var(_1686), var(_1686))), ite(ite(false, false, true), +(0, 0), +(0, 0))) ;\n",
      "P = app(app(lam(var(_1648), var(_1648)), lam(var(_1686), var(_1686))), ite(ite(false, false, true), +(0, 0), ite(true, 0, 0))) ;\n",
      "P = app(app(lam(var(_1648), var(_1648)), lam(var(_1686), var(_1686))), ite(ite(false, false, true), +(0, 0), ite(false, 0, 0))) ;\n",
      "P = app(app(lam(var(_1648), var(_1648)), lam(var(_1686), var(_1686))), ite(ite(false, false, true), ite(true, 0, 0), 1)) ;\n",
      "P = app(app(lam(var(_1648), var(_1648)), lam(var(_1686), var(_1686))), ite(ite(false, false, true), ite(true, 0, 0), +(0, 0))) ;\n",
      "P = app(app(lam(var(_1648), var(_1648)), lam(var(_1686), var(_1686))), ite(ite(false, false, true), ite(true, 0, 0), ite(true, 0, 0))) ;\n",
      "P = app(app(lam(var(_1648), var(_1648)), lam(var(_1686), var(_1686))), ite(ite(false, false, true), ite(true, 0, 0), ite(false, 0, 0))) ;\n",
      "P = app(app(lam(var(_1648), var(_1648)), lam(var(_1686), var(_1686))), ite(ite(false, false, true), ite(false, 0, 0), 1)) ;\n",
      "P = app(app(lam(var(_1648), var(_1648)), lam(var(_1686), var(_1686))), ite(ite(false, false, true), ite(false, 0, 0), +(0, 0))) ;\n",
      "P = app(app(lam(var(_1648), var(_1648)), lam(var(_1686), var(_1686))), ite(ite(false, false, true), ite(false, 0, 0), ite(true, 0, 0))) ;\n",
      "P = app(app(lam(var(_1648), var(_1648)), lam(var(_1686), var(_1686))), ite(ite(false, false, true), ite(false, 0, 0), ite(false, 0, 0))) ;\n",
      "P = app(app(lam(var(_1648), var(_1648)), lam(var(_1686), var(_1686))), ite(ite(false, false, false), 1, 1)) ;\n",
      "P = app(app(lam(var(_1648), var(_1648)), lam(var(_1686), var(_1686))), ite(ite(false, false, false), 1, +(0, 0))) ;\n",
      "P = app(app(lam(var(_1648), var(_1648)), lam(var(_1686), var(_1686))), ite(ite(false, false, false), 1, ite(true, 0, 0))) ;\n",
      "P = app(app(lam(var(_1648), var(_1648)), lam(var(_1686), var(_1686))), ite(ite(false, false, false), 1, ite(false, 0, 0))) ;\n",
      "P = app(app(lam(var(_1648), var(_1648)), lam(var(_1686), var(_1686))), ite(ite(false, false, false), +(0, 0), 1)) ;\n",
      "P = app(app(lam(var(_1648), var(_1648)), lam(var(_1686), var(_1686))), ite(ite(false, false, false), +(0, 0), +(0, 0))) ;\n",
      "P = app(app(lam(var(_1648), var(_1648)), lam(var(_1686), var(_1686))), ite(ite(false, false, false), +(0, 0), ite(true, 0, 0))) ;\n",
      "P = app(app(lam(var(_1648), var(_1648)), lam(var(_1686), var(_1686))), ite(ite(false, false, false), +(0, 0), ite(false, 0, 0))) ;\n",
      "P = app(app(lam(var(_1648), var(_1648)), lam(var(_1686), var(_1686))), ite(ite(false, false, false), ite(true, 0, 0), 1)) ;\n",
      "P = app(app(lam(var(_1648), var(_1648)), lam(var(_1686), var(_1686))), ite(ite(false, false, false), ite(true, 0, 0), +(0, 0))) ;\n",
      "P = app(app(lam(var(_1648), var(_1648)), lam(var(_1686), var(_1686))), ite(ite(false, false, false), ite(true, 0, 0), ite(true, 0, 0))) ;\n",
      "P = app(app(lam(var(_1648), var(_1648)), lam(var(_1686), var(_1686))), ite(ite(false, false, false), ite(true, 0, 0), ite(false, 0, 0))) ;\n",
      "P = app(app(lam(var(_1648), var(_1648)), lam(var(_1686), var(_1686))), ite(ite(false, false, false), ite(false, 0, 0), 1)) ;\n",
      "P = app(app(lam(var(_1648), var(_1648)), lam(var(_1686), var(_1686))), ite(ite(false, false, false), ite(false, 0, 0), +(0, 0))) ;\n",
      "P = app(app(lam(var(_1648), var(_1648)), lam(var(_1686), var(_1686))), ite(ite(false, false, false), ite(false, 0, 0), ite(true, 0, 0))) ;\n",
      "P = app(app(lam(var(_1648), var(_1648)), lam(var(_1686), var(_1686))), ite(ite(false, false, false), ite(false, 0, 0), ite(false, 0, 0))) ;\n",
      "P = app(app(lam(var(_1648), var(_1648)), lam(var(_1686), 0)), u) ;\n",
      "P = app(app(lam(var(_1648), var(_1648)), lam(var(_1686), 0)), app(lam(var(_1738), u), u)) ;\n",
      "P = app(app(lam(var(_1648), var(_1648)), lam(var(_1686), 0)), app(lam(var(_1738), u), lam(var(_1772), u))) ;\n",
      "P = app(app(lam(var(_1648), var(_1648)), lam(var(_1686), 0)), app(lam(var(_1738), u), lam(var(_1772), var(_1772)))) ;\n",
      "P = app(app(lam(var(_1648), var(_1648)), lam(var(_1686), 0)), app(lam(var(_1738), u), lam(var(_1772), 0))) ;\n",
      "P = app(app(lam(var(_1648), var(_1648)), lam(var(_1686), 0)), app(lam(var(_1738), u), lam(var(_1772), true))) ;\n",
      "P = app(app(lam(var(_1648), var(_1648)), lam(var(_1686), 0)), app(lam(var(_1738), u), lam(var(_1772), false))) ;\n",
      "P = app(app(lam(var(_1648), var(_1648)), lam(var(_1686), 0)), app(lam(var(_1738), u), pair(u, u))) ;\n",
      "P = app(app(lam(var(_1648), var(_1648)), lam(var(_1686), 0)), app(lam(var(_1738), u), pair(u, 0))) ;\n",
      "P = app(app(lam(var(_1648), var(_1648)), lam(var(_1686), 0)), app(lam(var(_1738), u), pair(u, true))) ;\n",
      "P = app(app(lam(var(_1648), var(_1648)), lam(var(_1686), 0)), app(lam(var(_1738), u), pair(u, false))) ;\n",
      "P = app(app(lam(var(_1648), var(_1648)), lam(var(_1686), 0)), app(lam(var(_1738), u), pair(0, u))) ;\n",
      "P = app(app(lam(var(_1648), var(_1648)), lam(var(_1686), 0)), app(lam(var(_1738), u), pair(0, 0))) ;\n",
      "P = app(app(lam(var(_1648), var(_1648)), lam(var(_1686), 0)), app(lam(var(_1738), u), pair(0, true))) ;\n",
      "P = app(app(lam(var(_1648), var(_1648)), lam(var(_1686), 0)), app(lam(var(_1738), u), pair(0, false))) ;\n",
      "P = app(app(lam(var(_1648), var(_1648)), lam(var(_1686), 0)), app(lam(var(_1738), u), pair(true, u))) ;\n",
      "P = app(app(lam(var(_1648), var(_1648)), lam(var(_1686), 0)), app(lam(var(_1738), u), pair(true, 0))) ;\n",
      "P = app(app(lam(var(_1648), var(_1648)), lam(var(_1686), 0)), app(lam(var(_1738), u), pair(true, true))) ;\n",
      "P = app(app(lam(var(_1648), var(_1648)), lam(var(_1686), 0)), app(lam(var(_1738), u), pair(true, false))) ;\n",
      "P = app(app(lam(var(_1648), var(_1648)), lam(var(_1686), 0)), app(lam(var(_1738), u), pair(false, u))) ;\n",
      "P = app(app(lam(var(_1648), var(_1648)), lam(var(_1686), 0)), app(lam(var(_1738), u), pair(false, 0))) ;\n",
      "P = app(app(lam(var(_1648), var(_1648)), lam(var(_1686), 0)), app(lam(var(_1738), u), pair(false, true))) ;\n",
      "P = app(app(lam(var(_1648), var(_1648)), lam(var(_1686), 0)), app(lam(var(_1738), u), pair(false, false))) ;\n",
      "P = app(app(lam(var(_1648), var(_1648)), lam(var(_1686), 0)), app(lam(var(_1738), u), 1)) ;\n",
      "P = app(app(lam(var(_1648), var(_1648)), lam(var(_1686), 0)), app(lam(var(_1738), u), true)) ;\n",
      "P = app(app(lam(var(_1648), var(_1648)), lam(var(_1686), 0)), app(lam(var(_1738), u), false)) ;\n",
      "P = app(app(lam(var(_1648), var(_1648)), lam(var(_1686), 0)), app(lam(var(_1738), u), +(0, 0))) ;\n",
      "P = app(app(lam(var(_1648), var(_1648)), lam(var(_1686), 0)), app(lam(var(_1738), u), <(0, 0))) ;\n",
      "P = app(app(lam(var(_1648), var(_1648)), lam(var(_1686), 0)), app(lam(var(_1738), u), ite(true, u, u))) ;\n",
      "P = app(app(lam(var(_1648), var(_1648)), lam(var(_1686), 0)), app(lam(var(_1738), u), ite(true, 0, 0))) ;\n",
      "P = app(app(lam(var(_1648), var(_1648)), lam(var(_1686), 0)), app(lam(var(_1738), u), ite(true, true, true))) ;\n",
      "P = app(app(lam(var(_1648), var(_1648)), lam(var(_1686), 0)), app(lam(var(_1738), u), ite(true, true, false))) ;\n",
      "P = app(app(lam(var(_1648), var(_1648)), lam(var(_1686), 0)), app(lam(var(_1738), u), ite(true, false, true))) ;\n",
      "P = app(app(lam(var(_1648), var(_1648)), lam(var(_1686), 0)), app(lam(var(_1738), u), ite(true, false, false))) ;\n",
      "P = app(app(lam(var(_1648), var(_1648)), lam(var(_1686), 0)), app(lam(var(_1738), u), ite(false, u, u))) ;\n",
      "P = app(app(lam(var(_1648), var(_1648)), lam(var(_1686), 0)), app(lam(var(_1738), u), ite(false, 0, 0))) ;\n",
      "P = app(app(lam(var(_1648), var(_1648)), lam(var(_1686), 0)), app(lam(var(_1738), u), ite(false, true, true))) ;\n",
      "P = app(app(lam(var(_1648), var(_1648)), lam(var(_1686), 0)), app(lam(var(_1738), u), ite(false, true, false))) ;\n",
      "P = app(app(lam(var(_1648), var(_1648)), lam(var(_1686), 0)), app(lam(var(_1738), u), ite(false, false, true))) ;\n",
      "P = app(app(lam(var(_1648), var(_1648)), lam(var(_1686), 0)), app(lam(var(_1738), u), ite(false, false, false))) ;\n",
      "P = app(app(lam(var(_1648), var(_1648)), lam(var(_1686), 0)), app(lam(var(_1738), var(_1738)), u)) ;\n",
      "P = app(app(lam(var(_1648), var(_1648)), lam(var(_1686), 0)), app(lam(var(_1738), var(_1738)), lam(var(_1776), u))) ;\n",
      "P = app(app(lam(var(_1648), var(_1648)), lam(var(_1686), 0)), app(lam(var(_1738), var(_1738)), lam(var(_1776), var(_1776)))) ;\n",
      "P = app(app(lam(var(_1648), var(_1648)), lam(var(_1686), 0)), app(lam(var(_1738), var(_1738)), lam(var(_1776), 0))) ;\n",
      "P = app(app(lam(var(_1648), var(_1648)), lam(var(_1686), 0)), app(lam(var(_1738), var(_1738)), lam(var(_1776), true))) ;\n",
      "P = app(app(lam(var(_1648), var(_1648)), lam(var(_1686), 0)), app(lam(var(_1738), var(_1738)), lam(var(_1776), false))) ;\n",
      "P = app(app(lam(var(_1648), var(_1648)), lam(var(_1686), 0)), app(lam(var(_1738), var(_1738)), pair(u, u))) ;\n",
      "P = app(app(lam(var(_1648), var(_1648)), lam(var(_1686), 0)), app(lam(var(_1738), var(_1738)), pair(u, 0))) ;\n",
      "P = app(app(lam(var(_1648), var(_1648)), lam(var(_1686), 0)), app(lam(var(_1738), var(_1738)), pair(u, true))) ;\n",
      "P = app(app(lam(var(_1648), var(_1648)), lam(var(_1686), 0)), app(lam(var(_1738), var(_1738)), pair(u, false))) ;\n",
      "P = app(app(lam(var(_1648), var(_1648)), lam(var(_1686), 0)), app(lam(var(_1738), var(_1738)), pair(0, u))) ;\n",
      "P = app(app(lam(var(_1648), var(_1648)), lam(var(_1686), 0)), app(lam(var(_1738), var(_1738)), pair(0, 0))) ;\n",
      "P = app(app(lam(var(_1648), var(_1648)), lam(var(_1686), 0)), app(lam(var(_1738), var(_1738)), pair(0, true))) ;\n",
      "P = app(app(lam(var(_1648), var(_1648)), lam(var(_1686), 0)), app(lam(var(_1738), var(_1738)), pair(0, false))) ;\n",
      "P = app(app(lam(var(_1648), var(_1648)), lam(var(_1686), 0)), app(lam(var(_1738), var(_1738)), pair(true, u))) ;\n",
      "P = app(app(lam(var(_1648), var(_1648)), lam(var(_1686), 0)), app(lam(var(_1738), var(_1738)), pair(true, 0))) ;\n",
      "P = app(app(lam(var(_1648), var(_1648)), lam(var(_1686), 0)), app(lam(var(_1738), var(_1738)), pair(true, true))) ;\n",
      "P = app(app(lam(var(_1648), var(_1648)), lam(var(_1686), 0)), app(lam(var(_1738), var(_1738)), pair(true, false))) ;\n",
      "P = app(app(lam(var(_1648), var(_1648)), lam(var(_1686), 0)), app(lam(var(_1738), var(_1738)), pair(false, u))) ;\n",
      "P = app(app(lam(var(_1648), var(_1648)), lam(var(_1686), 0)), app(lam(var(_1738), var(_1738)), pair(false, 0))) ;\n",
      "P = app(app(lam(var(_1648), var(_1648)), lam(var(_1686), 0)), app(lam(var(_1738), var(_1738)), pair(false, true))) ;\n",
      "P = app(app(lam(var(_1648), var(_1648)), lam(var(_1686), 0)), app(lam(var(_1738), var(_1738)), pair(false, false))) ;\n",
      "P = app(app(lam(var(_1648), var(_1648)), lam(var(_1686), 0)), app(lam(var(_1738), var(_1738)), 1)) ;\n",
      "P = app(app(lam(var(_1648), var(_1648)), lam(var(_1686), 0)), app(lam(var(_1738), var(_1738)), true)) ;\n",
      "P = app(app(lam(var(_1648), var(_1648)), lam(var(_1686), 0)), app(lam(var(_1738), var(_1738)), false)) ;\n",
      "P = app(app(lam(var(_1648), var(_1648)), lam(var(_1686), 0)), app(lam(var(_1738), var(_1738)), +(0, 0))) ;\n",
      "P = app(app(lam(var(_1648), var(_1648)), lam(var(_1686), 0)), app(lam(var(_1738), var(_1738)), <(0, 0))) ;\n",
      "P = app(app(lam(var(_1648), var(_1648)), lam(var(_1686), 0)), app(lam(var(_1738), var(_1738)), ite(true, u, u))) ;\n",
      "P = app(app(lam(var(_1648), var(_1648)), lam(var(_1686), 0)), app(lam(var(_1738), var(_1738)), ite(true, 0, 0))) ;\n",
      "P = app(app(lam(var(_1648), var(_1648)), lam(var(_1686), 0)), app(lam(var(_1738), var(_1738)), ite(true, true, true))) ;\n",
      "P = app(app(lam(var(_1648), var(_1648)), lam(var(_1686), 0)), app(lam(var(_1738), var(_1738)), ite(true, true, false))) ;\n",
      "P = app(app(lam(var(_1648), var(_1648)), lam(var(_1686), 0)), app(lam(var(_1738), var(_1738)), ite(true, false, true))) ;\n",
      "P = app(app(lam(var(_1648), var(_1648)), lam(var(_1686), 0)), app(lam(var(_1738), var(_1738)), ite(true, false, false))) ;\n",
      "P = app(app(lam(var(_1648), var(_1648)), lam(var(_1686), 0)), app(lam(var(_1738), var(_1738)), ite(false, u, u))) ;\n",
      "P = app(app(lam(var(_1648), var(_1648)), lam(var(_1686), 0)), app(lam(var(_1738), var(_1738)), ite(false, 0, 0))) ;\n",
      "P = app(app(lam(var(_1648), var(_1648)), lam(var(_1686), 0)), app(lam(var(_1738), var(_1738)), ite(false, true, true))) ;\n",
      "P = app(app(lam(var(_1648), var(_1648)), lam(var(_1686), 0)), app(lam(var(_1738), var(_1738)), ite(false, true, false))) ;\n",
      "P = app(app(lam(var(_1648), var(_1648)), lam(var(_1686), 0)), app(lam(var(_1738), var(_1738)), ite(false, false, true))) ;\n",
      "P = app(app(lam(var(_1648), var(_1648)), lam(var(_1686), 0)), app(lam(var(_1738), var(_1738)), ite(false, false, false))) ;\n",
      "P = app(app(lam(var(_1648), var(_1648)), lam(var(_1686), 0)), app(lam(var(_1738), 0), u)) ;\n",
      "P = app(app(lam(var(_1648), var(_1648)), lam(var(_1686), 0)), app(lam(var(_1738), 0), lam(var(_1772), u))) ;\n",
      "P = app(app(lam(var(_1648), var(_1648)), lam(var(_1686), 0)), app(lam(var(_1738), 0), lam(var(_1772), var(_1772)))) ;\n",
      "P = app(app(lam(var(_1648), var(_1648)), lam(var(_1686), 0)), app(lam(var(_1738), 0), lam(var(_1772), 0))) ;\n",
      "P = app(app(lam(var(_1648), var(_1648)), lam(var(_1686), 0)), app(lam(var(_1738), 0), lam(var(_1772), true))) ;\n",
      "P = app(app(lam(var(_1648), var(_1648)), lam(var(_1686), 0)), app(lam(var(_1738), 0), lam(var(_1772), false))) ;\n",
      "P = app(app(lam(var(_1648), var(_1648)), lam(var(_1686), 0)), app(lam(var(_1738), 0), pair(u, u))) ;\n",
      "P = app(app(lam(var(_1648), var(_1648)), lam(var(_1686), 0)), app(lam(var(_1738), 0), pair(u, 0))) ;\n",
      "P = app(app(lam(var(_1648), var(_1648)), lam(var(_1686), 0)), app(lam(var(_1738), 0), pair(u, true))) ;\n",
      "P = app(app(lam(var(_1648), var(_1648)), lam(var(_1686), 0)), app(lam(var(_1738), 0), pair(u, false))) ;\n",
      "P = app(app(lam(var(_1648), var(_1648)), lam(var(_1686), 0)), app(lam(var(_1738), 0), pair(0, u))) ;\n",
      "P = app(app(lam(var(_1648), var(_1648)), lam(var(_1686), 0)), app(lam(var(_1738), 0), pair(0, 0))) ;\n",
      "P = app(app(lam(var(_1648), var(_1648)), lam(var(_1686), 0)), app(lam(var(_1738), 0), pair(0, true))) ;\n",
      "P = app(app(lam(var(_1648), var(_1648)), lam(var(_1686), 0)), app(lam(var(_1738), 0), pair(0, false))) ;\n",
      "P = app(app(lam(var(_1648), var(_1648)), lam(var(_1686), 0)), app(lam(var(_1738), 0), pair(true, u))) ;\n",
      "P = app(app(lam(var(_1648), var(_1648)), lam(var(_1686), 0)), app(lam(var(_1738), 0), pair(true, 0))) ;\n",
      "P = app(app(lam(var(_1648), var(_1648)), lam(var(_1686), 0)), app(lam(var(_1738), 0), pair(true, true))) ;\n",
      "P = app(app(lam(var(_1648), var(_1648)), lam(var(_1686), 0)), app(lam(var(_1738), 0), pair(true, false))) ;\n",
      "P = app(app(lam(var(_1648), var(_1648)), lam(var(_1686), 0)), app(lam(var(_1738), 0), pair(false, u))) ;\n",
      "P = app(app(lam(var(_1648), var(_1648)), lam(var(_1686), 0)), app(lam(var(_1738), 0), pair(false, 0))) ;\n",
      "P = app(app(lam(var(_1648), var(_1648)), lam(var(_1686), 0)), app(lam(var(_1738), 0), pair(false, true))) ;\n",
      "P = app(app(lam(var(_1648), var(_1648)), lam(var(_1686), 0)), app(lam(var(_1738), 0), pair(false, false))) ;\n",
      "P = app(app(lam(var(_1648), var(_1648)), lam(var(_1686), 0)), app(lam(var(_1738), 0), 1)) ;\n",
      "P = app(app(lam(var(_1648), var(_1648)), lam(var(_1686), 0)), app(lam(var(_1738), 0), true)) ;\n",
      "P = app(app(lam(var(_1648), var(_1648)), lam(var(_1686), 0)), app(lam(var(_1738), 0), false)) ;\n",
      "P = app(app(lam(var(_1648), var(_1648)), lam(var(_1686), 0)), app(lam(var(_1738), 0), +(0, 0))) ;\n",
      "P = app(app(lam(var(_1648), var(_1648)), lam(var(_1686), 0)), app(lam(var(_1738), 0), <(0, 0))) ;\n",
      "P = app(app(lam(var(_1648), var(_1648)), lam(var(_1686), 0)), app(lam(var(_1738), 0), ite(true, u, u))) ;\n",
      "P = app(app(lam(var(_1648), var(_1648)), lam(var(_1686), 0)), app(lam(var(_1738), 0), ite(true, 0, 0))) ;\n",
      "P = app(app(lam(var(_1648), var(_1648)), lam(var(_1686), 0)), app(lam(var(_1738), 0), ite(true, true, true))) ;\n",
      "P = app(app(lam(var(_1648), var(_1648)), lam(var(_1686), 0)), app(lam(var(_1738), 0), ite(true, true, false))) ;\n",
      "P = app(app(lam(var(_1648), var(_1648)), lam(var(_1686), 0)), app(lam(var(_1738), 0), ite(true, false, true))) ;\n",
      "P = app(app(lam(var(_1648), var(_1648)), lam(var(_1686), 0)), app(lam(var(_1738), 0), ite(true, false, false))) ;\n",
      "P = app(app(lam(var(_1648), var(_1648)), lam(var(_1686), 0)), app(lam(var(_1738), 0), ite(false, u, u))) ;\n",
      "P = app(app(lam(var(_1648), var(_1648)), lam(var(_1686), 0)), app(lam(var(_1738), 0), ite(false, 0, 0))) ;\n",
      "P = app(app(lam(var(_1648), var(_1648)), lam(var(_1686), 0)), app(lam(var(_1738), 0), ite(false, true, true))) ;\n",
      "P = app(app(lam(var(_1648), var(_1648)), lam(var(_1686), 0)), app(lam(var(_1738), 0), ite(false, true, false))) ;\n",
      "P = app(app(lam(var(_1648), var(_1648)), lam(var(_1686), 0)), app(lam(var(_1738), 0), ite(false, false, true))) ;\n",
      "P = app(app(lam(var(_1648), var(_1648)), lam(var(_1686), 0)), app(lam(var(_1738), 0), ite(false, false, false))) ;\n",
      "P = app(app(lam(var(_1648), var(_1648)), lam(var(_1686), 0)), app(lam(var(_1738), true), u)) ;\n",
      "P = app(app(lam(var(_1648), var(_1648)), lam(var(_1686), 0)), app(lam(var(_1738), true), lam(var(_1772), u))) ;\n",
      "P = app(app(lam(var(_1648), var(_1648)), lam(var(_1686), 0)), app(lam(var(_1738), true), lam(var(_1772), var(_1772)))) ;\n",
      "P = app(app(lam(var(_1648), var(_1648)), lam(var(_1686), 0)), app(lam(var(_1738), true), lam(var(_1772), 0))) ;\n",
      "P = app(app(lam(var(_1648), var(_1648)), lam(var(_1686), 0)), app(lam(var(_1738), true), lam(var(_1772), true))) ;\n",
      "P = app(app(lam(var(_1648), var(_1648)), lam(var(_1686), 0)), app(lam(var(_1738), true), lam(var(_1772), false))) ;\n",
      "P = app(app(lam(var(_1648), var(_1648)), lam(var(_1686), 0)), app(lam(var(_1738), true), pair(u, u))) ;\n",
      "P = app(app(lam(var(_1648), var(_1648)), lam(var(_1686), 0)), app(lam(var(_1738), true), pair(u, 0))) ;\n",
      "P = app(app(lam(var(_1648), var(_1648)), lam(var(_1686), 0)), app(lam(var(_1738), true), pair(u, true))) ;\n",
      "P = app(app(lam(var(_1648), var(_1648)), lam(var(_1686), 0)), app(lam(var(_1738), true), pair(u, false))) ;\n",
      "P = app(app(lam(var(_1648), var(_1648)), lam(var(_1686), 0)), app(lam(var(_1738), true), pair(0, u))) ;\n",
      "P = app(app(lam(var(_1648), var(_1648)), lam(var(_1686), 0)), app(lam(var(_1738), true), pair(0, 0))) ;\n",
      "P = app(app(lam(var(_1648), var(_1648)), lam(var(_1686), 0)), app(lam(var(_1738), true), pair(0, true))) ;\n",
      "P = app(app(lam(var(_1648), var(_1648)), lam(var(_1686), 0)), app(lam(var(_1738), true), pair(0, false))) ;\n",
      "P = app(app(lam(var(_1648), var(_1648)), lam(var(_1686), 0)), app(lam(var(_1738), true), pair(true, u))) ;\n",
      "P = app(app(lam(var(_1648), var(_1648)), lam(var(_1686), 0)), app(lam(var(_1738), true), pair(true, 0))) ;\n",
      "P = app(app(lam(var(_1648), var(_1648)), lam(var(_1686), 0)), app(lam(var(_1738), true), pair(true, true))) ;\n",
      "P = app(app(lam(var(_1648), var(_1648)), lam(var(_1686), 0)), app(lam(var(_1738), true), pair(true, false))) ;\n",
      "P = app(app(lam(var(_1648), var(_1648)), lam(var(_1686), 0)), app(lam(var(_1738), true), pair(false, u))) ;\n",
      "P = app(app(lam(var(_1648), var(_1648)), lam(var(_1686), 0)), app(lam(var(_1738), true), pair(false, 0))) ;\n",
      "P = app(app(lam(var(_1648), var(_1648)), lam(var(_1686), 0)), app(lam(var(_1738), true), pair(false, true))) ;\n",
      "P = app(app(lam(var(_1648), var(_1648)), lam(var(_1686), 0)), app(lam(var(_1738), true), pair(false, false))) ;\n",
      "P = app(app(lam(var(_1648), var(_1648)), lam(var(_1686), 0)), app(lam(var(_1738), true), 1)) ;\n",
      "P = app(app(lam(var(_1648), var(_1648)), lam(var(_1686), 0)), app(lam(var(_1738), true), true)) ;\n",
      "P = app(app(lam(var(_1648), var(_1648)), lam(var(_1686), 0)), app(lam(var(_1738), true), false)) ;\n",
      "P = app(app(lam(var(_1648), var(_1648)), lam(var(_1686), 0)), app(lam(var(_1738), true), +(0, 0))) ;\n",
      "P = app(app(lam(var(_1648), var(_1648)), lam(var(_1686), 0)), app(lam(var(_1738), true), <(0, 0))) ;\n",
      "P = app(app(lam(var(_1648), var(_1648)), lam(var(_1686), 0)), app(lam(var(_1738), true), ite(true, u, u))) ;\n",
      "P = app(app(lam(var(_1648), var(_1648)), lam(var(_1686), 0)), app(lam(var(_1738), true), ite(true, 0, 0))) ;\n",
      "P = app(app(lam(var(_1648), var(_1648)), lam(var(_1686), 0)), app(lam(var(_1738), true), ite(true, true, true))) ;\n",
      "P = app(app(lam(var(_1648), var(_1648)), lam(var(_1686), 0)), app(lam(var(_1738), true), ite(true, true, false))) ;\n",
      "P = app(app(lam(var(_1648), var(_1648)), lam(var(_1686), 0)), app(lam(var(_1738), true), ite(true, false, true))) ;\n",
      "P = app(app(lam(var(_1648), var(_1648)), lam(var(_1686), 0)), app(lam(var(_1738), true), ite(true, false, false))) ;\n",
      "P = app(app(lam(var(_1648), var(_1648)), lam(var(_1686), 0)), app(lam(var(_1738), true), ite(false, u, u))) ;\n",
      "P = app(app(lam(var(_1648), var(_1648)), lam(var(_1686), 0)), app(lam(var(_1738), true), ite(false, 0, 0))) ;\n",
      "P = app(app(lam(var(_1648), var(_1648)), lam(var(_1686), 0)), app(lam(var(_1738), true), ite(false, true, true))) ;\n",
      "P = app(app(lam(var(_1648), var(_1648)), lam(var(_1686), 0)), app(lam(var(_1738), true), ite(false, true, false))) ;\n",
      "P = app(app(lam(var(_1648), var(_1648)), lam(var(_1686), 0)), app(lam(var(_1738), true), ite(false, false, true))) ;\n",
      "P = app(app(lam(var(_1648), var(_1648)), lam(var(_1686), 0)), app(lam(var(_1738), true), ite(false, false, false))) ;\n",
      "P = app(app(lam(var(_1648), var(_1648)), lam(var(_1686), 0)), app(lam(var(_1738), false), u)) ;\n",
      "P = app(app(lam(var(_1648), var(_1648)), lam(var(_1686), 0)), app(lam(var(_1738), false), lam(var(_1772), u))) ;\n",
      "P = app(app(lam(var(_1648), var(_1648)), lam(var(_1686), 0)), app(lam(var(_1738), false), lam(var(_1772), var(_1772)))) ;\n",
      "P = app(app(lam(var(_1648), var(_1648)), lam(var(_1686), 0)), app(lam(var(_1738), false), lam(var(_1772), 0))) ;\n",
      "P = app(app(lam(var(_1648), var(_1648)), lam(var(_1686), 0)), app(lam(var(_1738), false), lam(var(_1772), true))) ;\n",
      "P = app(app(lam(var(_1648), var(_1648)), lam(var(_1686), 0)), app(lam(var(_1738), false), lam(var(_1772), false))) ;\n",
      "P = app(app(lam(var(_1648), var(_1648)), lam(var(_1686), 0)), app(lam(var(_1738), false), pair(u, u))) ;\n",
      "P = app(app(lam(var(_1648), var(_1648)), lam(var(_1686), 0)), app(lam(var(_1738), false), pair(u, 0))) ;\n",
      "P = app(app(lam(var(_1648), var(_1648)), lam(var(_1686), 0)), app(lam(var(_1738), false), pair(u, true))) ;\n",
      "P = app(app(lam(var(_1648), var(_1648)), lam(var(_1686), 0)), app(lam(var(_1738), false), pair(u, false))) ;\n",
      "P = app(app(lam(var(_1648), var(_1648)), lam(var(_1686), 0)), app(lam(var(_1738), false), pair(0, u))) ;\n",
      "P = app(app(lam(var(_1648), var(_1648)), lam(var(_1686), 0)), app(lam(var(_1738), false), pair(0, 0))) ;\n",
      "P = app(app(lam(var(_1648), var(_1648)), lam(var(_1686), 0)), app(lam(var(_1738), false), pair(0, true))) ;\n",
      "P = app(app(lam(var(_1648), var(_1648)), lam(var(_1686), 0)), app(lam(var(_1738), false), pair(0, false))) ;\n",
      "P = app(app(lam(var(_1648), var(_1648)), lam(var(_1686), 0)), app(lam(var(_1738), false), pair(true, u))) ;\n",
      "P = app(app(lam(var(_1648), var(_1648)), lam(var(_1686), 0)), app(lam(var(_1738), false), pair(true, 0))) ;\n",
      "P = app(app(lam(var(_1648), var(_1648)), lam(var(_1686), 0)), app(lam(var(_1738), false), pair(true, true))) ;\n",
      "P = app(app(lam(var(_1648), var(_1648)), lam(var(_1686), 0)), app(lam(var(_1738), false), pair(true, false))) ;\n",
      "P = app(app(lam(var(_1648), var(_1648)), lam(var(_1686), 0)), app(lam(var(_1738), false), pair(false, u))) ;\n",
      "P = app(app(lam(var(_1648), var(_1648)), lam(var(_1686), 0)), app(lam(var(_1738), false), pair(false, 0))) ;\n",
      "P = app(app(lam(var(_1648), var(_1648)), lam(var(_1686), 0)), app(lam(var(_1738), false), pair(false, true))) ;\n",
      "P = app(app(lam(var(_1648), var(_1648)), lam(var(_1686), 0)), app(lam(var(_1738), false), pair(false, false))) ;\n",
      "P = app(app(lam(var(_1648), var(_1648)), lam(var(_1686), 0)), app(lam(var(_1738), false), 1)) ;\n",
      "P = app(app(lam(var(_1648), var(_1648)), lam(var(_1686), 0)), app(lam(var(_1738), false), true)) ;\n",
      "P = app(app(lam(var(_1648), var(_1648)), lam(var(_1686), 0)), app(lam(var(_1738), false), false)) ;\n",
      "P = app(app(lam(var(_1648), var(_1648)), lam(var(_1686), 0)), app(lam(var(_1738), false), +(0, 0))) ;\n",
      "P = app(app(lam(var(_1648), var(_1648)), lam(var(_1686), 0)), app(lam(var(_1738), false), <(0, 0))) ;\n",
      "P = app(app(lam(var(_1648), var(_1648)), lam(var(_1686), 0)), app(lam(var(_1738), false), ite(true, u, u))) ;\n",
      "P = app(app(lam(var(_1648), var(_1648)), lam(var(_1686), 0)), app(lam(var(_1738), false), ite(true, 0, 0))) ;\n",
      "P = app(app(lam(var(_1648), var(_1648)), lam(var(_1686), 0)), app(lam(var(_1738), false), ite(true, true, true))) ;\n",
      "P = app(app(lam(var(_1648), var(_1648)), lam(var(_1686), 0)), app(lam(var(_1738), false), ite(true, true, false))) ;\n",
      "P = app(app(lam(var(_1648), var(_1648)), lam(var(_1686), 0)), app(lam(var(_1738), false), ite(true, false, true))) ;\n",
      "P = app(app(lam(var(_1648), var(_1648)), lam(var(_1686), 0)), app(lam(var(_1738), false), ite(true, false, false))) ;\n",
      "P = app(app(lam(var(_1648), var(_1648)), lam(var(_1686), 0)), app(lam(var(_1738), false), ite(false, u, u))) ;\n",
      "P = app(app(lam(var(_1648), var(_1648)), lam(var(_1686), 0)), app(lam(var(_1738), false), ite(false, 0, 0))) ;\n",
      "P = app(app(lam(var(_1648), var(_1648)), lam(var(_1686), 0)), app(lam(var(_1738), false), ite(false, true, true))) ;\n",
      "P = app(app(lam(var(_1648), var(_1648)), lam(var(_1686), 0)), app(lam(var(_1738), false), ite(false, true, false))) ;\n",
      "P = app(app(lam(var(_1648), var(_1648)), lam(var(_1686), 0)), app(lam(var(_1738), false), ite(false, false, true))) ;\n",
      "P = app(app(lam(var(_1648), var(_1648)), lam(var(_1686), 0)), app(lam(var(_1738), false), ite(false, false, false))) ;\n",
      "P = app(app(lam(var(_1648), var(_1648)), lam(var(_1686), 0)), lam(var(_1720), u)) ;\n",
      "P = app(app(lam(var(_1648), var(_1648)), lam(var(_1686), 0)), lam(var(_1720), app(var(_1720), u))) ;\n",
      "P = app(app(lam(var(_1648), var(_1648)), lam(var(_1686), 0)), lam(var(_1720), app(var(_1720), 0))) ;\n",
      "P = app(app(lam(var(_1648), var(_1648)), lam(var(_1686), 0)), lam(var(_1720), app(var(_1720), true))) ;\n",
      "P = app(app(lam(var(_1648), var(_1648)), lam(var(_1686), 0)), lam(var(_1720), app(var(_1720), false))) ;\n",
      "P = app(app(lam(var(_1648), var(_1648)), lam(var(_1686), 0)), lam(var(_1720), lam(var(_1754), u))) ;\n",
      "P = app(app(lam(var(_1648), var(_1648)), lam(var(_1686), 0)), lam(var(_1720), lam(var(_1754), var(_1754)))) ;\n",
      "P = app(app(lam(var(_1648), var(_1648)), lam(var(_1686), 0)), lam(var(_1720), lam(var(_1754), 0))) ;\n",
      "P = app(app(lam(var(_1648), var(_1648)), lam(var(_1686), 0)), lam(var(_1720), lam(var(_1754), true))) ;\n",
      "P = app(app(lam(var(_1648), var(_1648)), lam(var(_1686), 0)), lam(var(_1720), lam(var(_1754), false))) ;\n",
      "P = app(app(lam(var(_1648), var(_1648)), lam(var(_1686), 0)), lam(var(_1720), fst(var(_1720)))) ;\n",
      "P = app(app(lam(var(_1648), var(_1648)), lam(var(_1686), 0)), lam(var(_1720), snd(var(_1720)))) ;\n",
      "P = app(app(lam(var(_1648), var(_1648)), lam(var(_1686), 0)), lam(var(_1720), pair(u, u))) ;\n",
      "P = app(app(lam(var(_1648), var(_1648)), lam(var(_1686), 0)), lam(var(_1720), pair(u, var(_1720)))) ;\n",
      "P = app(app(lam(var(_1648), var(_1648)), lam(var(_1686), 0)), lam(var(_1720), pair(u, 0))) ;\n",
      "P = app(app(lam(var(_1648), var(_1648)), lam(var(_1686), 0)), lam(var(_1720), pair(u, true))) ;\n",
      "P = app(app(lam(var(_1648), var(_1648)), lam(var(_1686), 0)), lam(var(_1720), pair(u, false))) ;\n",
      "P = app(app(lam(var(_1648), var(_1648)), lam(var(_1686), 0)), lam(var(_1720), pair(var(_1720), u))) ;\n",
      "P = app(app(lam(var(_1648), var(_1648)), lam(var(_1686), 0)), lam(var(_1720), pair(var(_1720), var(_1720)))) ;\n",
      "P = app(app(lam(var(_1648), var(_1648)), lam(var(_1686), 0)), lam(var(_1720), pair(var(_1720), 0))) ;\n",
      "P = app(app(lam(var(_1648), var(_1648)), lam(var(_1686), 0)), lam(var(_1720), pair(var(_1720), true))) ;\n",
      "P = app(app(lam(var(_1648), var(_1648)), lam(var(_1686), 0)), lam(var(_1720), pair(var(_1720), false))) ;\n",
      "P = app(app(lam(var(_1648), var(_1648)), lam(var(_1686), 0)), lam(var(_1720), pair(0, u))) ;\n",
      "P = app(app(lam(var(_1648), var(_1648)), lam(var(_1686), 0)), lam(var(_1720), pair(0, var(_1720)))) ;\n",
      "P = app(app(lam(var(_1648), var(_1648)), lam(var(_1686), 0)), lam(var(_1720), pair(0, 0))) ;\n",
      "P = app(app(lam(var(_1648), var(_1648)), lam(var(_1686), 0)), lam(var(_1720), pair(0, true))) ;\n",
      "P = app(app(lam(var(_1648), var(_1648)), lam(var(_1686), 0)), lam(var(_1720), pair(0, false))) ;\n",
      "P = app(app(lam(var(_1648), var(_1648)), lam(var(_1686), 0)), lam(var(_1720), pair(true, u))) ;\n",
      "P = app(app(lam(var(_1648), var(_1648)), lam(var(_1686), 0)), lam(var(_1720), pair(true, var(_1720)))) ;\n",
      "P = app(app(lam(var(_1648), var(_1648)), lam(var(_1686), 0)), lam(var(_1720), pair(true, 0))) ;\n",
      "P = app(app(lam(var(_1648), var(_1648)), lam(var(_1686), 0)), lam(var(_1720), pair(true, true))) ;\n",
      "P = app(app(lam(var(_1648), var(_1648)), lam(var(_1686), 0)), lam(var(_1720), pair(true, false))) ;\n",
      "P = app(app(lam(var(_1648), var(_1648)), lam(var(_1686), 0)), lam(var(_1720), pair(false, u))) ;\n",
      "P = app(app(lam(var(_1648), var(_1648)), lam(var(_1686), 0)), lam(var(_1720), pair(false, var(_1720)))) ;\n",
      "P = app(app(lam(var(_1648), var(_1648)), lam(var(_1686), 0)), lam(var(_1720), pair(false, 0))) ;\n",
      "P = app(app(lam(var(_1648), var(_1648)), lam(var(_1686), 0)), lam(var(_1720), pair(false, true))) ;\n",
      "P = app(app(lam(var(_1648), var(_1648)), lam(var(_1686), 0)), lam(var(_1720), pair(false, false))) ;\n",
      "P = app(app(lam(var(_1648), var(_1648)), lam(var(_1686), 0)), lam(var(_1720), var(_1720))) ;\n",
      "P = app(app(lam(var(_1648), var(_1648)), lam(var(_1686), 0)), lam(var(_1720), 1)) ;\n",
      "P = app(app(lam(var(_1648), var(_1648)), lam(var(_1686), 0)), lam(var(_1720), true)) ;\n",
      "P = app(app(lam(var(_1648), var(_1648)), lam(var(_1686), 0)), lam(var(_1720), false)) ;\n",
      "P = app(app(lam(var(_1648), var(_1648)), lam(var(_1686), 0)), lam(var(_1720), +(var(_1720), var(_1720)))) ;\n",
      "P = app(app(lam(var(_1648), var(_1648)), lam(var(_1686), 0)), lam(var(_1720), +(var(_1720), 0))) ;\n",
      "P = app(app(lam(var(_1648), var(_1648)), lam(var(_1686), 0)), lam(var(_1720), +(0, var(_1720)))) ;\n",
      "P = app(app(lam(var(_1648), var(_1648)), lam(var(_1686), 0)), lam(var(_1720), +(0, 0))) ;\n",
      "P = app(app(lam(var(_1648), var(_1648)), lam(var(_1686), 0)), lam(var(_1720), <(var(_1720), var(_1720)))) ;\n",
      "P = app(app(lam(var(_1648), var(_1648)), lam(var(_1686), 0)), lam(var(_1720), <(var(_1720), 0))) ;\n",
      "P = app(app(lam(var(_1648), var(_1648)), lam(var(_1686), 0)), lam(var(_1720), <(0, var(_1720)))) ;\n",
      "P = app(app(lam(var(_1648), var(_1648)), lam(var(_1686), 0)), lam(var(_1720), <(0, 0))) ;\n",
      "P = app(app(lam(var(_1648), var(_1648)), lam(var(_1686), 0)), lam(var(_1720), ite(var(_1720), u, u))) ;\n",
      "P = app(app(lam(var(_1648), var(_1648)), lam(var(_1686), 0)), lam(var(_1720), ite(var(_1720), var(_1720), var(_1720)))) ;\n",
      "P = app(app(lam(var(_1648), var(_1648)), lam(var(_1686), 0)), lam(var(_1720), ite(var(_1720), var(_1720), true))) ;\n",
      "P = app(app(lam(var(_1648), var(_1648)), lam(var(_1686), 0)), lam(var(_1720), ite(var(_1720), var(_1720), false))) ;\n",
      "P = app(app(lam(var(_1648), var(_1648)), lam(var(_1686), 0)), lam(var(_1720), ite(var(_1720), 0, 0))) ;\n",
      "P = app(app(lam(var(_1648), var(_1648)), lam(var(_1686), 0)), lam(var(_1720), ite(var(_1720), true, var(_1720)))) ;\n",
      "P = app(app(lam(var(_1648), var(_1648)), lam(var(_1686), 0)), lam(var(_1720), ite(var(_1720), true, true))) ;\n",
      "P = app(app(lam(var(_1648), var(_1648)), lam(var(_1686), 0)), lam(var(_1720), ite(var(_1720), true, false))) ;\n",
      "P = app(app(lam(var(_1648), var(_1648)), lam(var(_1686), 0)), lam(var(_1720), ite(var(_1720), false, var(_1720)))) ;\n",
      "P = app(app(lam(var(_1648), var(_1648)), lam(var(_1686), 0)), lam(var(_1720), ite(var(_1720), false, true))) ;\n",
      "P = app(app(lam(var(_1648), var(_1648)), lam(var(_1686), 0)), lam(var(_1720), ite(var(_1720), false, false))) ;\n",
      "P = app(app(lam(var(_1648), var(_1648)), lam(var(_1686), 0)), lam(var(_1720), ite(true, u, u))) ;\n",
      "P = app(app(lam(var(_1648), var(_1648)), lam(var(_1686), 0)), lam(var(_1720), ite(true, u, var(_1720)))) ;\n",
      "P = app(app(lam(var(_1648), var(_1648)), lam(var(_1686), 0)), lam(var(_1720), ite(true, var(_1720), u))) ;\n",
      "P = app(app(lam(var(_1648), var(_1648)), lam(var(_1686), 0)), lam(var(_1720), ite(true, var(_1720), var(_1720)))) ;\n",
      "P = app(app(lam(var(_1648), var(_1648)), lam(var(_1686), 0)), lam(var(_1720), ite(true, var(_1720), 0))) ;\n",
      "P = app(app(lam(var(_1648), var(_1648)), lam(var(_1686), 0)), lam(var(_1720), ite(true, var(_1720), true))) ;\n",
      "P = app(app(lam(var(_1648), var(_1648)), lam(var(_1686), 0)), lam(var(_1720), ite(true, var(_1720), false))) ;\n",
      "P = app(app(lam(var(_1648), var(_1648)), lam(var(_1686), 0)), lam(var(_1720), ite(true, 0, var(_1720)))) ;\n",
      "P = app(app(lam(var(_1648), var(_1648)), lam(var(_1686), 0)), lam(var(_1720), ite(true, 0, 0))) ;\n",
      "P = app(app(lam(var(_1648), var(_1648)), lam(var(_1686), 0)), lam(var(_1720), ite(true, true, var(_1720)))) ;\n",
      "P = app(app(lam(var(_1648), var(_1648)), lam(var(_1686), 0)), lam(var(_1720), ite(true, true, true))) ;\n",
      "P = app(app(lam(var(_1648), var(_1648)), lam(var(_1686), 0)), lam(var(_1720), ite(true, true, false))) ;\n",
      "P = app(app(lam(var(_1648), var(_1648)), lam(var(_1686), 0)), lam(var(_1720), ite(true, false, var(_1720)))) ;\n",
      "P = app(app(lam(var(_1648), var(_1648)), lam(var(_1686), 0)), lam(var(_1720), ite(true, false, true))) ;\n",
      "P = app(app(lam(var(_1648), var(_1648)), lam(var(_1686), 0)), lam(var(_1720), ite(true, false, false))) ;\n",
      "P = app(app(lam(var(_1648), var(_1648)), lam(var(_1686), 0)), lam(var(_1720), ite(false, u, u))) ;\n",
      "P = app(app(lam(var(_1648), var(_1648)), lam(var(_1686), 0)), lam(var(_1720), ite(false, u, var(_1720)))) ;\n",
      "P = app(app(lam(var(_1648), var(_1648)), lam(var(_1686), 0)), lam(var(_1720), ite(false, var(_1720), u))) ;\n",
      "P = app(app(lam(var(_1648), var(_1648)), lam(var(_1686), 0)), lam(var(_1720), ite(false, var(_1720), var(_1720)))) ;\n",
      "P = app(app(lam(var(_1648), var(_1648)), lam(var(_1686), 0)), lam(var(_1720), ite(false, var(_1720), 0))) ;\n",
      "P = app(app(lam(var(_1648), var(_1648)), lam(var(_1686), 0)), lam(var(_1720), ite(false, var(_1720), true))) ;\n",
      "P = app(app(lam(var(_1648), var(_1648)), lam(var(_1686), 0)), lam(var(_1720), ite(false, var(_1720), false))) ;\n",
      "P = app(app(lam(var(_1648), var(_1648)), lam(var(_1686), 0)), lam(var(_1720), ite(false, 0, var(_1720)))) ;\n",
      "P = app(app(lam(var(_1648), var(_1648)), lam(var(_1686), 0)), lam(var(_1720), ite(false, 0, 0))) ;\n",
      "P = app(app(lam(var(_1648), var(_1648)), lam(var(_1686), 0)), lam(var(_1720), ite(false, true, var(_1720)))) ;\n",
      "P = app(app(lam(var(_1648), var(_1648)), lam(var(_1686), 0)), lam(var(_1720), ite(false, true, true))) ;\n",
      "P = app(app(lam(var(_1648), var(_1648)), lam(var(_1686), 0)), lam(var(_1720), ite(false, true, false))) ;\n",
      "P = app(app(lam(var(_1648), var(_1648)), lam(var(_1686), 0)), lam(var(_1720), ite(false, false, var(_1720)))) ;\n",
      "P = app(app(lam(var(_1648), var(_1648)), lam(var(_1686), 0)), lam(var(_1720), ite(false, false, true))) ;\n",
      "P = app(app(lam(var(_1648), var(_1648)), lam(var(_1686), 0)), lam(var(_1720), ite(false, false, false))) ;\n",
      "P = app(app(lam(var(_1648), var(_1648)), lam(var(_1686), 0)), fst(pair(u, u))) ;\n",
      "P = app(app(lam(var(_1648), var(_1648)), lam(var(_1686), 0)), fst(pair(u, 0))) ;\n",
      "P = app(app(lam(var(_1648), var(_1648)), lam(var(_1686), 0)), fst(pair(u, true))) ;\n",
      "P = app(app(lam(var(_1648), var(_1648)), lam(var(_1686), 0)), fst(pair(u, false))) ;\n",
      "P = app(app(lam(var(_1648), var(_1648)), lam(var(_1686), 0)), fst(pair(0, u))) ;\n",
      "P = app(app(lam(var(_1648), var(_1648)), lam(var(_1686), 0)), fst(pair(0, 0))) ;\n",
      "P = app(app(lam(var(_1648), var(_1648)), lam(var(_1686), 0)), fst(pair(0, true))) ;\n",
      "P = app(app(lam(var(_1648), var(_1648)), lam(var(_1686), 0)), fst(pair(0, false))) ;\n",
      "P = app(app(lam(var(_1648), var(_1648)), lam(var(_1686), 0)), fst(pair(true, u))) ;\n",
      "P = app(app(lam(var(_1648), var(_1648)), lam(var(_1686), 0)), fst(pair(true, 0))) ;\n",
      "P = app(app(lam(var(_1648), var(_1648)), lam(var(_1686), 0)), fst(pair(true, true))) ;\n",
      "P = app(app(lam(var(_1648), var(_1648)), lam(var(_1686), 0)), fst(pair(true, false))) ;\n",
      "P = app(app(lam(var(_1648), var(_1648)), lam(var(_1686), 0)), fst(pair(false, u))) ;\n",
      "P = app(app(lam(var(_1648), var(_1648)), lam(var(_1686), 0)), fst(pair(false, 0))) ;\n",
      "P = app(app(lam(var(_1648), var(_1648)), lam(var(_1686), 0)), fst(pair(false, true))) ;\n",
      "P = app(app(lam(var(_1648), var(_1648)), lam(var(_1686), 0)), fst(pair(false, false))) ;\n",
      "P = app(app(lam(var(_1648), var(_1648)), lam(var(_1686), 0)), snd(pair(u, u))) ;\n",
      "P = app(app(lam(var(_1648), var(_1648)), lam(var(_1686), 0)), snd(pair(u, 0))) ;\n",
      "P = app(app(lam(var(_1648), var(_1648)), lam(var(_1686), 0)), snd(pair(u, true))) ;\n",
      "P = app(app(lam(var(_1648), var(_1648)), lam(var(_1686), 0)), snd(pair(u, false))) ;\n",
      "P = app(app(lam(var(_1648), var(_1648)), lam(var(_1686), 0)), snd(pair(0, u))) ;\n",
      "P = app(app(lam(var(_1648), var(_1648)), lam(var(_1686), 0)), snd(pair(0, 0))) ;\n",
      "P = app(app(lam(var(_1648), var(_1648)), lam(var(_1686), 0)), snd(pair(0, true))) ;\n",
      "P = app(app(lam(var(_1648), var(_1648)), lam(var(_1686), 0)), snd(pair(0, false))) ;\n",
      "P = app(app(lam(var(_1648), var(_1648)), lam(var(_1686), 0)), snd(pair(true, u))) ;\n",
      "P = app(app(lam(var(_1648), var(_1648)), lam(var(_1686), 0)), snd(pair(true, 0))) ;\n",
      "P = app(app(lam(var(_1648), var(_1648)), lam(var(_1686), 0)), snd(pair(true, true))) ;\n",
      "P = app(app(lam(var(_1648), var(_1648)), lam(var(_1686), 0)), snd(pair(true, false))) ;\n",
      "P = app(app(lam(var(_1648), var(_1648)), lam(var(_1686), 0)), snd(pair(false, u))) ;\n",
      "P = app(app(lam(var(_1648), var(_1648)), lam(var(_1686), 0)), snd(pair(false, 0))) ;\n",
      "P = app(app(lam(var(_1648), var(_1648)), lam(var(_1686), 0)), snd(pair(false, true))) ;\n",
      "P = app(app(lam(var(_1648), var(_1648)), lam(var(_1686), 0)), snd(pair(false, false))) ;\n",
      "P = app(app(lam(var(_1648), var(_1648)), lam(var(_1686), 0)), pair(u, u)) ;\n",
      "P = app(app(lam(var(_1648), var(_1648)), lam(var(_1686), 0)), pair(u, lam(var(_1744), u))) ;\n",
      "P = app(app(lam(var(_1648), var(_1648)), lam(var(_1686), 0)), pair(u, lam(var(_1744), var(_1744)))) ;\n",
      "P = app(app(lam(var(_1648), var(_1648)), lam(var(_1686), 0)), pair(u, lam(var(_1744), 0))) ;\n",
      "P = app(app(lam(var(_1648), var(_1648)), lam(var(_1686), 0)), pair(u, lam(var(_1744), true))) ;\n",
      "P = app(app(lam(var(_1648), var(_1648)), lam(var(_1686), 0)), pair(u, lam(var(_1744), false))) ;\n",
      "P = app(app(lam(var(_1648), var(_1648)), lam(var(_1686), 0)), pair(u, pair(u, u))) ;\n",
      "P = app(app(lam(var(_1648), var(_1648)), lam(var(_1686), 0)), pair(u, pair(u, 0))) ;\n",
      "P = app(app(lam(var(_1648), var(_1648)), lam(var(_1686), 0)), pair(u, pair(u, true))) ;\n",
      "P = app(app(lam(var(_1648), var(_1648)), lam(var(_1686), 0)), pair(u, pair(u, false))) ;\n",
      "P = app(app(lam(var(_1648), var(_1648)), lam(var(_1686), 0)), pair(u, pair(0, u))) ;\n",
      "P = app(app(lam(var(_1648), var(_1648)), lam(var(_1686), 0)), pair(u, pair(0, 0))) ;\n",
      "P = app(app(lam(var(_1648), var(_1648)), lam(var(_1686), 0)), pair(u, pair(0, true))) ;\n",
      "P = app(app(lam(var(_1648), var(_1648)), lam(var(_1686), 0)), pair(u, pair(0, false))) ;\n",
      "P = app(app(lam(var(_1648), var(_1648)), lam(var(_1686), 0)), pair(u, pair(true, u))) ;\n",
      "P = app(app(lam(var(_1648), var(_1648)), lam(var(_1686), 0)), pair(u, pair(true, 0))) ;\n",
      "P = app(app(lam(var(_1648), var(_1648)), lam(var(_1686), 0)), pair(u, pair(true, true))) ;\n",
      "P = app(app(lam(var(_1648), var(_1648)), lam(var(_1686), 0)), pair(u, pair(true, false))) ;\n",
      "P = app(app(lam(var(_1648), var(_1648)), lam(var(_1686), 0)), pair(u, pair(false, u))) ;\n",
      "P = app(app(lam(var(_1648), var(_1648)), lam(var(_1686), 0)), pair(u, pair(false, 0))) ;\n",
      "P = app(app(lam(var(_1648), var(_1648)), lam(var(_1686), 0)), pair(u, pair(false, true))) ;\n",
      "P = app(app(lam(var(_1648), var(_1648)), lam(var(_1686), 0)), pair(u, pair(false, false))) ;\n",
      "P = app(app(lam(var(_1648), var(_1648)), lam(var(_1686), 0)), pair(u, 1)) ;\n",
      "P = app(app(lam(var(_1648), var(_1648)), lam(var(_1686), 0)), pair(u, true)) ;\n",
      "P = app(app(lam(var(_1648), var(_1648)), lam(var(_1686), 0)), pair(u, false)) ;\n",
      "P = app(app(lam(var(_1648), var(_1648)), lam(var(_1686), 0)), pair(u, +(0, 0))) ;\n",
      "P = app(app(lam(var(_1648), var(_1648)), lam(var(_1686), 0)), pair(u, <(0, 0))) ;\n",
      "P = app(app(lam(var(_1648), var(_1648)), lam(var(_1686), 0)), pair(u, ite(true, u, u))) ;\n",
      "P = app(app(lam(var(_1648), var(_1648)), lam(var(_1686), 0)), pair(u, ite(true, 0, 0))) ;\n",
      "P = app(app(lam(var(_1648), var(_1648)), lam(var(_1686), 0)), pair(u, ite(true, true, true))) ;\n",
      "P = app(app(lam(var(_1648), var(_1648)), lam(var(_1686), 0)), pair(u, ite(true, true, false))) ;\n",
      "P = app(app(lam(var(_1648), var(_1648)), lam(var(_1686), 0)), pair(u, ite(true, false, true))) ;\n",
      "P = app(app(lam(var(_1648), var(_1648)), lam(var(_1686), 0)), pair(u, ite(true, false, false))) ;\n",
      "P = app(app(lam(var(_1648), var(_1648)), lam(var(_1686), 0)), pair(u, ite(false, u, u))) ;\n",
      "P = app(app(lam(var(_1648), var(_1648)), lam(var(_1686), 0)), pair(u, ite(false, 0, 0))) ;\n",
      "P = app(app(lam(var(_1648), var(_1648)), lam(var(_1686), 0)), pair(u, ite(false, true, true))) ;\n",
      "P = app(app(lam(var(_1648), var(_1648)), lam(var(_1686), 0)), pair(u, ite(false, true, false))) ;\n",
      "P = app(app(lam(var(_1648), var(_1648)), lam(var(_1686), 0)), pair(u, ite(false, false, true))) ;\n",
      "P = app(app(lam(var(_1648), var(_1648)), lam(var(_1686), 0)), pair(u, ite(false, false, false))) ;\n",
      "P = app(app(lam(var(_1648), var(_1648)), lam(var(_1686), 0)), pair(lam(var(_1738), u), u)) ;\n",
      "P = app(app(lam(var(_1648), var(_1648)), lam(var(_1686), 0)), pair(lam(var(_1738), u), lam(var(_1778), u))) ;\n",
      "P = app(app(lam(var(_1648), var(_1648)), lam(var(_1686), 0)), pair(lam(var(_1738), u), lam(var(_1778), var(_1778)))) ;\n",
      "P = app(app(lam(var(_1648), var(_1648)), lam(var(_1686), 0)), pair(lam(var(_1738), u), lam(var(_1778), 0))) ;\n",
      "P = app(app(lam(var(_1648), var(_1648)), lam(var(_1686), 0)), pair(lam(var(_1738), u), lam(var(_1778), true))) ;\n",
      "P = app(app(lam(var(_1648), var(_1648)), lam(var(_1686), 0)), pair(lam(var(_1738), u), lam(var(_1778), false))) ;\n",
      "P = app(app(lam(var(_1648), var(_1648)), lam(var(_1686), 0)), pair(lam(var(_1738), u), pair(u, u))) ;\n",
      "P = app(app(lam(var(_1648), var(_1648)), lam(var(_1686), 0)), pair(lam(var(_1738), u), pair(u, 0))) ;\n",
      "P = app(app(lam(var(_1648), var(_1648)), lam(var(_1686), 0)), pair(lam(var(_1738), u), pair(u, true))) ;\n",
      "P = app(app(lam(var(_1648), var(_1648)), lam(var(_1686), 0)), pair(lam(var(_1738), u), pair(u, false))) ;\n",
      "P = app(app(lam(var(_1648), var(_1648)), lam(var(_1686), 0)), pair(lam(var(_1738), u), pair(0, u))) ;\n",
      "P = app(app(lam(var(_1648), var(_1648)), lam(var(_1686), 0)), pair(lam(var(_1738), u), pair(0, 0))) ;\n",
      "P = app(app(lam(var(_1648), var(_1648)), lam(var(_1686), 0)), pair(lam(var(_1738), u), pair(0, true))) ;\n",
      "P = app(app(lam(var(_1648), var(_1648)), lam(var(_1686), 0)), pair(lam(var(_1738), u), pair(0, false))) ;\n",
      "P = app(app(lam(var(_1648), var(_1648)), lam(var(_1686), 0)), pair(lam(var(_1738), u), pair(true, u))) ;\n",
      "P = app(app(lam(var(_1648), var(_1648)), lam(var(_1686), 0)), pair(lam(var(_1738), u), pair(true, 0))) ;\n",
      "P = app(app(lam(var(_1648), var(_1648)), lam(var(_1686), 0)), pair(lam(var(_1738), u), pair(true, true))) ;\n",
      "P = app(app(lam(var(_1648), var(_1648)), lam(var(_1686), 0)), pair(lam(var(_1738), u), pair(true, false))) ;\n",
      "P = app(app(lam(var(_1648), var(_1648)), lam(var(_1686), 0)), pair(lam(var(_1738), u), pair(false, u))) ;\n",
      "P = app(app(lam(var(_1648), var(_1648)), lam(var(_1686), 0)), pair(lam(var(_1738), u), pair(false, 0))) ;\n",
      "P = app(app(lam(var(_1648), var(_1648)), lam(var(_1686), 0)), pair(lam(var(_1738), u), pair(false, true))) ;\n",
      "P = app(app(lam(var(_1648), var(_1648)), lam(var(_1686), 0)), pair(lam(var(_1738), u), pair(false, false))) ;\n",
      "P = app(app(lam(var(_1648), var(_1648)), lam(var(_1686), 0)), pair(lam(var(_1738), u), 1)) ;\n",
      "P = app(app(lam(var(_1648), var(_1648)), lam(var(_1686), 0)), pair(lam(var(_1738), u), true)) ;\n",
      "P = app(app(lam(var(_1648), var(_1648)), lam(var(_1686), 0)), pair(lam(var(_1738), u), false)) ;\n",
      "P = app(app(lam(var(_1648), var(_1648)), lam(var(_1686), 0)), pair(lam(var(_1738), u), +(0, 0))) ;\n",
      "P = app(app(lam(var(_1648), var(_1648)), lam(var(_1686), 0)), pair(lam(var(_1738), u), <(0, 0))) ;\n",
      "P = app(app(lam(var(_1648), var(_1648)), lam(var(_1686), 0)), pair(lam(var(_1738), u), ite(true, u, u))) ;\n",
      "P = app(app(lam(var(_1648), var(_1648)), lam(var(_1686), 0)), pair(lam(var(_1738), u), ite(true, 0, 0))) ;\n",
      "P = app(app(lam(var(_1648), var(_1648)), lam(var(_1686), 0)), pair(lam(var(_1738), u), ite(true, true, true))) ;\n",
      "P = app(app(lam(var(_1648), var(_1648)), lam(var(_1686), 0)), pair(lam(var(_1738), u), ite(true, true, false))) ;\n",
      "P = app(app(lam(var(_1648), var(_1648)), lam(var(_1686), 0)), pair(lam(var(_1738), u), ite(true, false, true))) ;\n",
      "P = app(app(lam(var(_1648), var(_1648)), lam(var(_1686), 0)), pair(lam(var(_1738), u), ite(true, false, false))) ;\n",
      "P = app(app(lam(var(_1648), var(_1648)), lam(var(_1686), 0)), pair(lam(var(_1738), u), ite(false, u, u))) ;\n",
      "P = app(app(lam(var(_1648), var(_1648)), lam(var(_1686), 0)), pair(lam(var(_1738), u), ite(false, 0, 0))) ;\n",
      "P = app(app(lam(var(_1648), var(_1648)), lam(var(_1686), 0)), pair(lam(var(_1738), u), ite(false, true, true))) ;\n",
      "P = app(app(lam(var(_1648), var(_1648)), lam(var(_1686), 0)), pair(lam(var(_1738), u), ite(false, true, false))) ;\n",
      "P = app(app(lam(var(_1648), var(_1648)), lam(var(_1686), 0)), pair(lam(var(_1738), u), ite(false, false, true))) ;\n",
      "P = app(app(lam(var(_1648), var(_1648)), lam(var(_1686), 0)), pair(lam(var(_1738), u), ite(false, false, false))) ;\n",
      "P = app(app(lam(var(_1648), var(_1648)), lam(var(_1686), 0)), pair(lam(var(_1738), var(_1738)), u)) ;\n",
      "P = app(app(lam(var(_1648), var(_1648)), lam(var(_1686), 0)), pair(lam(var(_1738), var(_1738)), lam(var(_1782), u))) ;\n",
      "P = app(app(lam(var(_1648), var(_1648)), lam(var(_1686), 0)), pair(lam(var(_1738), var(_1738)), lam(var(_1782), var(_1782)))) ;\n",
      "P = app(app(lam(var(_1648), var(_1648)), lam(var(_1686), 0)), pair(lam(var(_1738), var(_1738)), lam(var(_1782), 0))) ;\n",
      "P = app(app(lam(var(_1648), var(_1648)), lam(var(_1686), 0)), pair(lam(var(_1738), var(_1738)), lam(var(_1782), true))) ;\n",
      "P = app(app(lam(var(_1648), var(_1648)), lam(var(_1686), 0)), pair(lam(var(_1738), var(_1738)), lam(var(_1782), false))) ;\n",
      "P = app(app(lam(var(_1648), var(_1648)), lam(var(_1686), 0)), pair(lam(var(_1738), var(_1738)), pair(u, u))) ;\n",
      "P = app(app(lam(var(_1648), var(_1648)), lam(var(_1686), 0)), pair(lam(var(_1738), var(_1738)), pair(u, 0))) ;\n",
      "P = app(app(lam(var(_1648), var(_1648)), lam(var(_1686), 0)), pair(lam(var(_1738), var(_1738)), pair(u, true))) ;\n",
      "P = app(app(lam(var(_1648), var(_1648)), lam(var(_1686), 0)), pair(lam(var(_1738), var(_1738)), pair(u, false))) ;\n",
      "P = app(app(lam(var(_1648), var(_1648)), lam(var(_1686), 0)), pair(lam(var(_1738), var(_1738)), pair(0, u))) ;\n",
      "P = app(app(lam(var(_1648), var(_1648)), lam(var(_1686), 0)), pair(lam(var(_1738), var(_1738)), pair(0, 0))) ;\n",
      "P = app(app(lam(var(_1648), var(_1648)), lam(var(_1686), 0)), pair(lam(var(_1738), var(_1738)), pair(0, true))) ;\n",
      "P = app(app(lam(var(_1648), var(_1648)), lam(var(_1686), 0)), pair(lam(var(_1738), var(_1738)), pair(0, false))) ;\n",
      "P = app(app(lam(var(_1648), var(_1648)), lam(var(_1686), 0)), pair(lam(var(_1738), var(_1738)), pair(true, u))) ;\n",
      "P = app(app(lam(var(_1648), var(_1648)), lam(var(_1686), 0)), pair(lam(var(_1738), var(_1738)), pair(true, 0))) ;\n",
      "P = app(app(lam(var(_1648), var(_1648)), lam(var(_1686), 0)), pair(lam(var(_1738), var(_1738)), pair(true, true))) ;\n",
      "P = app(app(lam(var(_1648), var(_1648)), lam(var(_1686), 0)), pair(lam(var(_1738), var(_1738)), pair(true, false))) ;\n",
      "P = app(app(lam(var(_1648), var(_1648)), lam(var(_1686), 0)), pair(lam(var(_1738), var(_1738)), pair(false, u))) ;\n",
      "P = app(app(lam(var(_1648), var(_1648)), lam(var(_1686), 0)), pair(lam(var(_1738), var(_1738)), pair(false, 0))) ;\n",
      "P = app(app(lam(var(_1648), var(_1648)), lam(var(_1686), 0)), pair(lam(var(_1738), var(_1738)), pair(false, true))) ;\n",
      "P = app(app(lam(var(_1648), var(_1648)), lam(var(_1686), 0)), pair(lam(var(_1738), var(_1738)), pair(false, false))) ;\n",
      "P = app(app(lam(var(_1648), var(_1648)), lam(var(_1686), 0)), pair(lam(var(_1738), var(_1738)), 1)) ;\n",
      "P = app(app(lam(var(_1648), var(_1648)), lam(var(_1686), 0)), pair(lam(var(_1738), var(_1738)), true)) ;\n",
      "P = app(app(lam(var(_1648), var(_1648)), lam(var(_1686), 0)), pair(lam(var(_1738), var(_1738)), false)) ;\n",
      "P = app(app(lam(var(_1648), var(_1648)), lam(var(_1686), 0)), pair(lam(var(_1738), var(_1738)), +(0, 0))) ;\n",
      "P = app(app(lam(var(_1648), var(_1648)), lam(var(_1686), 0)), pair(lam(var(_1738), var(_1738)), <(0, 0))) ;\n",
      "P = app(app(lam(var(_1648), var(_1648)), lam(var(_1686), 0)), pair(lam(var(_1738), var(_1738)), ite(true, u, u))) ;\n",
      "P = app(app(lam(var(_1648), var(_1648)), lam(var(_1686), 0)), pair(lam(var(_1738), var(_1738)), ite(true, 0, 0))) ;\n",
      "P = app(app(lam(var(_1648), var(_1648)), lam(var(_1686), 0)), pair(lam(var(_1738), var(_1738)), ite(true, true, true))) ;\n",
      "P = app(app(lam(var(_1648), var(_1648)), lam(var(_1686), 0)), pair(lam(var(_1738), var(_1738)), ite(true, true, false))) ;\n",
      "P = app(app(lam(var(_1648), var(_1648)), lam(var(_1686), 0)), pair(lam(var(_1738), var(_1738)), ite(true, false, true))) ;\n",
      "P = app(app(lam(var(_1648), var(_1648)), lam(var(_1686), 0)), pair(lam(var(_1738), var(_1738)), ite(true, false, false))) ;\n",
      "P = app(app(lam(var(_1648), var(_1648)), lam(var(_1686), 0)), pair(lam(var(_1738), var(_1738)), ite(false, u, u))) ;\n",
      "P = app(app(lam(var(_1648), var(_1648)), lam(var(_1686), 0)), pair(lam(var(_1738), var(_1738)), ite(false, 0, 0))) ;\n",
      "P = app(app(lam(var(_1648), var(_1648)), lam(var(_1686), 0)), pair(lam(var(_1738), var(_1738)), ite(false, true, true))) ;\n",
      "P = app(app(lam(var(_1648), var(_1648)), lam(var(_1686), 0)), pair(lam(var(_1738), var(_1738)), ite(false, true, false))) ;\n",
      "P = app(app(lam(var(_1648), var(_1648)), lam(var(_1686), 0)), pair(lam(var(_1738), var(_1738)), ite(false, false, true))) ;\n",
      "P = app(app(lam(var(_1648), var(_1648)), lam(var(_1686), 0)), pair(lam(var(_1738), var(_1738)), ite(false, false, false))) ;\n",
      "P = app(app(lam(var(_1648), var(_1648)), lam(var(_1686), 0)), pair(lam(var(_1738), 0), u)) ;\n",
      "P = app(app(lam(var(_1648), var(_1648)), lam(var(_1686), 0)), pair(lam(var(_1738), 0), lam(var(_1778), u))) ;\n",
      "P = app(app(lam(var(_1648), var(_1648)), lam(var(_1686), 0)), pair(lam(var(_1738), 0), lam(var(_1778), var(_1778)))) ;\n",
      "P = app(app(lam(var(_1648), var(_1648)), lam(var(_1686), 0)), pair(lam(var(_1738), 0), lam(var(_1778), 0))) ;\n",
      "P = app(app(lam(var(_1648), var(_1648)), lam(var(_1686), 0)), pair(lam(var(_1738), 0), lam(var(_1778), true))) ;\n",
      "P = app(app(lam(var(_1648), var(_1648)), lam(var(_1686), 0)), pair(lam(var(_1738), 0), lam(var(_1778), false))) ;\n",
      "P = app(app(lam(var(_1648), var(_1648)), lam(var(_1686), 0)), pair(lam(var(_1738), 0), pair(u, u))) ;\n",
      "P = app(app(lam(var(_1648), var(_1648)), lam(var(_1686), 0)), pair(lam(var(_1738), 0), pair(u, 0))) ;\n",
      "P = app(app(lam(var(_1648), var(_1648)), lam(var(_1686), 0)), pair(lam(var(_1738), 0), pair(u, true))) ;\n",
      "P = app(app(lam(var(_1648), var(_1648)), lam(var(_1686), 0)), pair(lam(var(_1738), 0), pair(u, false))) ;\n",
      "P = app(app(lam(var(_1648), var(_1648)), lam(var(_1686), 0)), pair(lam(var(_1738), 0), pair(0, u))) ;\n",
      "P = app(app(lam(var(_1648), var(_1648)), lam(var(_1686), 0)), pair(lam(var(_1738), 0), pair(0, 0))) ;\n",
      "P = app(app(lam(var(_1648), var(_1648)), lam(var(_1686), 0)), pair(lam(var(_1738), 0), pair(0, true))) ;\n",
      "P = app(app(lam(var(_1648), var(_1648)), lam(var(_1686), 0)), pair(lam(var(_1738), 0), pair(0, false))) ;\n",
      "P = app(app(lam(var(_1648), var(_1648)), lam(var(_1686), 0)), pair(lam(var(_1738), 0), pair(true, u))) ;\n",
      "P = app(app(lam(var(_1648), var(_1648)), lam(var(_1686), 0)), pair(lam(var(_1738), 0), pair(true, 0))) ;\n",
      "P = app(app(lam(var(_1648), var(_1648)), lam(var(_1686), 0)), pair(lam(var(_1738), 0), pair(true, true))) ;\n",
      "P = app(app(lam(var(_1648), var(_1648)), lam(var(_1686), 0)), pair(lam(var(_1738), 0), pair(true, false))) ;\n",
      "P = app(app(lam(var(_1648), var(_1648)), lam(var(_1686), 0)), pair(lam(var(_1738), 0), pair(false, u))) ;\n",
      "P = app(app(lam(var(_1648), var(_1648)), lam(var(_1686), 0)), pair(lam(var(_1738), 0), pair(false, 0))) ;\n",
      "P = app(app(lam(var(_1648), var(_1648)), lam(var(_1686), 0)), pair(lam(var(_1738), 0), pair(false, true))) ;\n",
      "P = app(app(lam(var(_1648), var(_1648)), lam(var(_1686), 0)), pair(lam(var(_1738), 0), pair(false, false))) ;\n",
      "P = app(app(lam(var(_1648), var(_1648)), lam(var(_1686), 0)), pair(lam(var(_1738), 0), 1)) ;\n",
      "P = app(app(lam(var(_1648), var(_1648)), lam(var(_1686), 0)), pair(lam(var(_1738), 0), true)) ;\n",
      "P = app(app(lam(var(_1648), var(_1648)), lam(var(_1686), 0)), pair(lam(var(_1738), 0), false)) ;\n",
      "P = app(app(lam(var(_1648), var(_1648)), lam(var(_1686), 0)), pair(lam(var(_1738), 0), +(0, 0))) ;\n",
      "P = app(app(lam(var(_1648), var(_1648)), lam(var(_1686), 0)), pair(lam(var(_1738), 0), <(0, 0))) ;\n",
      "P = app(app(lam(var(_1648), var(_1648)), lam(var(_1686), 0)), pair(lam(var(_1738), 0), ite(true, u, u))) ;\n",
      "P = app(app(lam(var(_1648), var(_1648)), lam(var(_1686), 0)), pair(lam(var(_1738), 0), ite(true, 0, 0))) ;\n",
      "P = app(app(lam(var(_1648), var(_1648)), lam(var(_1686), 0)), pair(lam(var(_1738), 0), ite(true, true, true))) ;\n",
      "P = app(app(lam(var(_1648), var(_1648)), lam(var(_1686), 0)), pair(lam(var(_1738), 0), ite(true, true, false))) ;\n",
      "P = app(app(lam(var(_1648), var(_1648)), lam(var(_1686), 0)), pair(lam(var(_1738), 0), ite(true, false, true))) ;\n",
      "P = app(app(lam(var(_1648), var(_1648)), lam(var(_1686), 0)), pair(lam(var(_1738), 0), ite(true, false, false))) ;\n",
      "P = app(app(lam(var(_1648), var(_1648)), lam(var(_1686), 0)), pair(lam(var(_1738), 0), ite(false, u, u))) ;\n",
      "P = app(app(lam(var(_1648), var(_1648)), lam(var(_1686), 0)), pair(lam(var(_1738), 0), ite(false, 0, 0))) ;\n",
      "P = app(app(lam(var(_1648), var(_1648)), lam(var(_1686), 0)), pair(lam(var(_1738), 0), ite(false, true, true))) ;\n",
      "P = app(app(lam(var(_1648), var(_1648)), lam(var(_1686), 0)), pair(lam(var(_1738), 0), ite(false, true, false))) ;\n",
      "P = app(app(lam(var(_1648), var(_1648)), lam(var(_1686), 0)), pair(lam(var(_1738), 0), ite(false, false, true))) ;\n",
      "P = app(app(lam(var(_1648), var(_1648)), lam(var(_1686), 0)), pair(lam(var(_1738), 0), ite(false, false, false))) ;\n",
      "P = app(app(lam(var(_1648), var(_1648)), lam(var(_1686), 0)), pair(lam(var(_1738), true), u)) ;\n",
      "P = app(app(lam(var(_1648), var(_1648)), lam(var(_1686), 0)), pair(lam(var(_1738), true), lam(var(_1778), u))) ;\n",
      "P = app(app(lam(var(_1648), var(_1648)), lam(var(_1686), 0)), pair(lam(var(_1738), true), lam(var(_1778), var(_1778)))) ;\n",
      "P = app(app(lam(var(_1648), var(_1648)), lam(var(_1686), 0)), pair(lam(var(_1738), true), lam(var(_1778), 0))) ;\n",
      "P = app(app(lam(var(_1648), var(_1648)), lam(var(_1686), 0)), pair(lam(var(_1738), true), lam(var(_1778), true))) ;\n",
      "P = app(app(lam(var(_1648), var(_1648)), lam(var(_1686), 0)), pair(lam(var(_1738), true), lam(var(_1778), false))) ;\n",
      "P = app(app(lam(var(_1648), var(_1648)), lam(var(_1686), 0)), pair(lam(var(_1738), true), pair(u, u))) ;\n",
      "P = app(app(lam(var(_1648), var(_1648)), lam(var(_1686), 0)), pair(lam(var(_1738), true), pair(u, 0))) ;\n",
      "P = app(app(lam(var(_1648), var(_1648)), lam(var(_1686), 0)), pair(lam(var(_1738), true), pair(u, true))) ;\n",
      "P = app(app(lam(var(_1648), var(_1648)), lam(var(_1686), 0)), pair(lam(var(_1738), true), pair(u, false))) ;\n",
      "P = app(app(lam(var(_1648), var(_1648)), lam(var(_1686), 0)), pair(lam(var(_1738), true), pair(0, u))) ;\n",
      "P = app(app(lam(var(_1648), var(_1648)), lam(var(_1686), 0)), pair(lam(var(_1738), true), pair(0, 0))) ;\n",
      "P = app(app(lam(var(_1648), var(_1648)), lam(var(_1686), 0)), pair(lam(var(_1738), true), pair(0, true))) ;\n",
      "P = app(app(lam(var(_1648), var(_1648)), lam(var(_1686), 0)), pair(lam(var(_1738), true), pair(0, false))) ;\n",
      "P = app(app(lam(var(_1648), var(_1648)), lam(var(_1686), 0)), pair(lam(var(_1738), true), pair(true, u))) ;\n",
      "P = app(app(lam(var(_1648), var(_1648)), lam(var(_1686), 0)), pair(lam(var(_1738), true), pair(true, 0))) ;\n",
      "P = app(app(lam(var(_1648), var(_1648)), lam(var(_1686), 0)), pair(lam(var(_1738), true), pair(true, true))) ;\n",
      "P = app(app(lam(var(_1648), var(_1648)), lam(var(_1686), 0)), pair(lam(var(_1738), true), pair(true, false))) ;\n",
      "P = app(app(lam(var(_1648), var(_1648)), lam(var(_1686), 0)), pair(lam(var(_1738), true), pair(false, u))) ;\n",
      "P = app(app(lam(var(_1648), var(_1648)), lam(var(_1686), 0)), pair(lam(var(_1738), true), pair(false, 0))) ;\n",
      "P = app(app(lam(var(_1648), var(_1648)), lam(var(_1686), 0)), pair(lam(var(_1738), true), pair(false, true))) ;\n",
      "P = app(app(lam(var(_1648), var(_1648)), lam(var(_1686), 0)), pair(lam(var(_1738), true), pair(false, false))) ;\n",
      "P = app(app(lam(var(_1648), var(_1648)), lam(var(_1686), 0)), pair(lam(var(_1738), true), 1)) ;\n",
      "P = app(app(lam(var(_1648), var(_1648)), lam(var(_1686), 0)), pair(lam(var(_1738), true), true)) ;\n",
      "P = app(app(lam(var(_1648), var(_1648)), lam(var(_1686), 0)), pair(lam(var(_1738), true), false)) ;\n",
      "P = app(app(lam(var(_1648), var(_1648)), lam(var(_1686), 0)), pair(lam(var(_1738), true), +(0, 0))) ;\n",
      "P = app(app(lam(var(_1648), var(_1648)), lam(var(_1686), 0)), pair(lam(var(_1738), true), <(0, 0))) ;\n",
      "P = app(app(lam(var(_1648), var(_1648)), lam(var(_1686), 0)), pair(lam(var(_1738), true), ite(true, u, u))) ;\n",
      "P = app(app(lam(var(_1648), var(_1648)), lam(var(_1686), 0)), pair(lam(var(_1738), true), ite(true, 0, 0))) ;\n",
      "P = app(app(lam(var(_1648), var(_1648)), lam(var(_1686), 0)), pair(lam(var(_1738), true), ite(true, true, true))) ;\n",
      "P = app(app(lam(var(_1648), var(_1648)), lam(var(_1686), 0)), pair(lam(var(_1738), true), ite(true, true, false))) ;\n",
      "P = app(app(lam(var(_1648), var(_1648)), lam(var(_1686), 0)), pair(lam(var(_1738), true), ite(true, false, true))) ;\n",
      "P = app(app(lam(var(_1648), var(_1648)), lam(var(_1686), 0)), pair(lam(var(_1738), true), ite(true, false, false))) ."
     ]
    }
   ],
   "source": [
    "?- synthesize(int,P) {1000}."
   ]
  },
  {
   "cell_type": "markdown",
   "metadata": {
    "slideshow": {
     "slide_type": "slide"
    }
   },
   "source": [
    "## Synthesis\n",
    "\n",
    "Let's ask for something more interesting. \n",
    "\n",
    "Get me the program whose type is `A * B -> A`. One answer: $\\lambda p.\\fst{p}$."
   ]
  },
  {
   "cell_type": "code",
   "execution_count": 19,
   "metadata": {
    "scrolled": false
   },
   "outputs": [
    {
     "name": "stdout",
     "output_type": "stream",
     "text": [
      "A = unit, B = _1592, P = lam(var(_1650), u) ;\n",
      "A = int, B = _1592, P = lam(var(_1650), 0) ;\n",
      "A = bool, B = _1592, P = lam(var(_1650), true) ;\n",
      "A = bool, B = _1592, P = lam(var(_1650), false) ;\n",
      "A = unit, B = _1592, P = app(lam(var(_1668), var(_1668)), lam(var(_1706), u)) ;\n",
      "A = int, B = _1592, P = app(lam(var(_1668), var(_1668)), lam(var(_1706), 0)) ;\n",
      "A = bool, B = _1592, P = app(lam(var(_1668), var(_1668)), lam(var(_1706), true)) ;\n",
      "A = bool, B = _1592, P = app(lam(var(_1668), var(_1668)), lam(var(_1706), false)) ;\n",
      "A = unit, B = _1592, P = lam(var(_1650), u) ;\n",
      "A = ->(_1682, unit), B = _1592, P = lam(var(_1650), lam(var(_1678), u)) ."
     ]
    }
   ],
   "source": [
    "?- synthesize((A*B)->A,P)."
   ]
  },
  {
   "cell_type": "markdown",
   "metadata": {
    "slideshow": {
     "slide_type": "slide"
    }
   },
   "source": [
    "## Synthesis\n",
    "\n",
    "* Valid but uninteresting. \n",
    "+ Interested in \"Most general program(s)\"; dual of most general type during inference.\n",
    "  - The program that doesn't specialise `A` and `B`. \n",
    "+ In other words, types must remain polymorphic."
   ]
  },
  {
   "cell_type": "markdown",
   "metadata": {
    "slideshow": {
     "slide_type": "slide"
    }
   },
   "source": [
    "## Synthesize\n",
    "\n",
    "Get me the program whose type is `A * B -> A`, where `A` and `B` remain polymorphic, and `A` and `B` do not unify."
   ]
  },
  {
   "cell_type": "code",
   "execution_count": 20,
   "metadata": {},
   "outputs": [
    {
     "name": "stdout",
     "output_type": "stream",
     "text": [
      "A = Variable(247), B = Variable(250), P = lam(var(_1688), fst(var(_1688))) ."
     ]
    }
   ],
   "source": [
    "?- synthesize((A*B)->A,P), var(A), var(B), dif(A,B) {1}."
   ]
  },
  {
   "cell_type": "markdown",
   "metadata": {},
   "source": [
    "That's the program we are looking for: $\\lambda p.\\fst{p}$."
   ]
  },
  {
   "cell_type": "markdown",
   "metadata": {
    "slideshow": {
     "slide_type": "slide"
    }
   },
   "source": [
    "## Synthesize\n",
    "\n",
    "Get me the program whose type is `A*(B*C) -> B`, where `A`,`B`,`C` remain polymorphic, and `A`,`B`,`C` do not unify."
   ]
  },
  {
   "cell_type": "code",
   "execution_count": null,
   "metadata": {},
   "outputs": [],
   "source": [
    "?- synthesize((A*(B*C))->B,P), var(A), var(B), var(C), dif(A,B), dif(B,C), dif(C,A) {1}."
   ]
  },
  {
   "cell_type": "markdown",
   "metadata": {},
   "source": [
    "That's the program we are looking for: $\\lambda p.\\fst({\\snd{p}})$."
   ]
  }
 ],
 "metadata": {
  "celltoolbar": "Slideshow",
  "kernelspec": {
   "display_name": "SWI-Prolog",
   "language": "",
   "name": "jswipl"
  },
  "language_info": {
   "mimetype": "text/plain",
   "name": "swipl"
  }
 },
 "nbformat": 4,
 "nbformat_minor": 2
}
