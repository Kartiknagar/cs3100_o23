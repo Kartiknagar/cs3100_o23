{
 "cells": [
  {
   "cell_type": "markdown",
   "metadata": {
    "slideshow": {
     "slide_type": "slide"
    }
   },
   "source": [
    "<center>\n",
    "\n",
    "<h1 style=\"text-align:center\"> (Side) Effects </h1>\n",
    "</center>"
   ]
  },
  {
   "cell_type": "markdown",
   "metadata": {
    "slideshow": {
     "slide_type": "slide"
    }
   },
   "source": [
    "## Why Side Effects\n",
    "\n",
    "* We have only used **purely functional** feature of OCaml\n",
    "* Our study of lambda calculus used only **purely functional** features"
   ]
  },
  {
   "cell_type": "markdown",
   "metadata": {
    "slideshow": {
     "slide_type": "fragment"
    }
   },
   "source": [
    "* Not quite true!\n",
    "  + We have used `print_endline`, `printf` and other features to display our results to screen.\n",
    "  + We have used `fresh` function to implement substitution in Lambda Calculus.\n",
    "* It is sometimes useful to write programs that have **side effects**"
   ]
  },
  {
   "cell_type": "markdown",
   "metadata": {
    "slideshow": {
     "slide_type": "slide"
    }
   },
   "source": [
    "## Side effects\n",
    "\n",
    "Side effects include\n",
    "\n",
    "* Mutating (i.e., destructively updating) the values of program state. \n",
    "* Reading from standard input, printing to standard output.\n",
    "* Reading and writing to files, sockets, pipes etc.\n",
    "* ...\n",
    "* Composing, sending and receiving emails, editing documents, writing this slide, etc."
   ]
  },
  {
   "cell_type": "markdown",
   "metadata": {
    "slideshow": {
     "slide_type": "slide"
    }
   },
   "source": [
    "## Side effects in OCaml\n",
    "\n",
    "* OCaml programs can include side effects\n",
    "* Features\n",
    "  + Mutations: Reference cells, Arrays, Mutable record fields\n",
    "  + I/O of all sorts\n",
    "* In this lecture, **Mutations**\n",
    "\n",
    "$\n",
    "\\require{color}\n",
    "\\newcommand{\\cpurple}[1]{{\\color{\\purple}{\\text{#1}}}}\n",
    "\\newcommand{\\cred}[1]{{\\color{\\red}{\\text{#1}}}}\n",
    "$"
   ]
  },
  {
   "cell_type": "markdown",
   "metadata": {
    "slideshow": {
     "slide_type": "slide"
    }
   },
   "source": [
    "## Reference cells\n",
    "\n",
    "* Aka \"refs\" or \"ref cell\"\n",
    "* Pointer to a typed location in memory\n",
    "* The binding of a variable to a ref cell is $\\cpurple{immutable}$ \n",
    "  + but the contents of the ref cell may $\\cred{change}$."
   ]
  },
  {
   "cell_type": "markdown",
   "metadata": {
    "slideshow": {
     "slide_type": "slide"
    }
   },
   "source": [
    "## Reference cells\n",
    "\n",
    "Allocate new ref cells with `ref`"
   ]
  },
  {
   "cell_type": "code",
   "execution_count": null,
   "metadata": {},
   "outputs": [],
   "source": [
    "let r = ref 1"
   ]
  },
  {
   "cell_type": "markdown",
   "metadata": {},
   "source": [
    "Update using `:=` and read using `!`."
   ]
  },
  {
   "cell_type": "code",
   "execution_count": null,
   "metadata": {},
   "outputs": [],
   "source": [
    "r := !r + 1;\n",
    "!r"
   ]
  },
  {
   "cell_type": "markdown",
   "metadata": {
    "slideshow": {
     "slide_type": "slide"
    }
   },
   "source": [
    "## Reference Cells: Types"
   ]
  },
  {
   "cell_type": "code",
   "execution_count": 1,
   "metadata": {},
   "outputs": [
    {
     "data": {
      "text/plain": [
       "- : 'a -> 'a ref = <fun>\n"
      ]
     },
     "execution_count": 1,
     "metadata": {},
     "output_type": "execute_result"
    }
   ],
   "source": [
    "ref"
   ]
  },
  {
   "cell_type": "code",
   "execution_count": 2,
   "metadata": {},
   "outputs": [
    {
     "data": {
      "text/plain": [
       "- : 'a ref -> 'a = <fun>\n"
      ]
     },
     "execution_count": 2,
     "metadata": {},
     "output_type": "execute_result"
    }
   ],
   "source": [
    "(!)"
   ]
  },
  {
   "cell_type": "code",
   "execution_count": 3,
   "metadata": {},
   "outputs": [
    {
     "data": {
      "text/plain": [
       "- : 'a ref -> 'a -> unit = <fun>\n"
      ]
     },
     "execution_count": 3,
     "metadata": {},
     "output_type": "execute_result"
    }
   ],
   "source": [
    "(:=)"
   ]
  },
  {
   "cell_type": "markdown",
   "metadata": {
    "slideshow": {
     "slide_type": "slide"
    }
   },
   "source": [
    "## Implementing a counter"
   ]
  },
  {
   "cell_type": "code",
   "execution_count": 4,
   "metadata": {},
   "outputs": [
    {
     "data": {
      "text/plain": [
       "val make_counter : int -> unit -> int = <fun>\n"
      ]
     },
     "execution_count": 4,
     "metadata": {},
     "output_type": "execute_result"
    }
   ],
   "source": [
    "let make_counter init =\n",
    "  let c = ref init in\n",
    "  fun () -> \n",
    "    (c := !c + 1; !c)"
   ]
  },
  {
   "cell_type": "code",
   "execution_count": 5,
   "metadata": {},
   "outputs": [
    {
     "data": {
      "text/plain": [
       "val next : unit -> int = <fun>\n"
      ]
     },
     "execution_count": 5,
     "metadata": {},
     "output_type": "execute_result"
    }
   ],
   "source": [
    "let next = make_counter 0"
   ]
  },
  {
   "cell_type": "code",
   "execution_count": 6,
   "metadata": {},
   "outputs": [
    {
     "data": {
      "text/plain": [
       "- : int = 1\n"
      ]
     },
     "execution_count": 6,
     "metadata": {},
     "output_type": "execute_result"
    },
    {
     "data": {
      "text/plain": [
       "- : int = 2\n"
      ]
     },
     "execution_count": 6,
     "metadata": {},
     "output_type": "execute_result"
    }
   ],
   "source": [
    "next();;\n",
    "next()"
   ]
  },
  {
   "cell_type": "markdown",
   "metadata": {
    "slideshow": {
     "slide_type": "slide"
    }
   },
   "source": [
    "## Side effects make reasoning hard\n",
    "\n",
    "* **Referential transparency** allows replacing $e$ with $v$ if $e =_{\\beta} v$.\n",
    "* Side effects break referential transparency."
   ]
  },
  {
   "cell_type": "markdown",
   "metadata": {
    "slideshow": {
     "slide_type": "slide"
    }
   },
   "source": [
    "## Referential transparency\n",
    "\n",
    "Consider the function `foo`:"
   ]
  },
  {
   "cell_type": "code",
   "execution_count": 7,
   "metadata": {},
   "outputs": [
    {
     "data": {
      "text/plain": [
       "val foo : int -> int = <fun>\n"
      ]
     },
     "execution_count": 7,
     "metadata": {},
     "output_type": "execute_result"
    }
   ],
   "source": [
    "let foo x = x + 1"
   ]
  },
  {
   "cell_type": "code",
   "execution_count": 8,
   "metadata": {},
   "outputs": [
    {
     "data": {
      "text/plain": [
       "val baz : int = 11\n"
      ]
     },
     "execution_count": 8,
     "metadata": {},
     "output_type": "execute_result"
    }
   ],
   "source": [
    "let baz = foo 10"
   ]
  },
  {
   "cell_type": "markdown",
   "metadata": {
    "slideshow": {
     "slide_type": "fragment"
    }
   },
   "source": [
    "`baz` can now be optimised to"
   ]
  },
  {
   "cell_type": "code",
   "execution_count": null,
   "metadata": {},
   "outputs": [],
   "source": [
    "let baz = 11"
   ]
  },
  {
   "cell_type": "markdown",
   "metadata": {
    "slideshow": {
     "slide_type": "slide"
    }
   },
   "source": [
    "## Referential transparency\n",
    "\n",
    "Consider the function `bar`:"
   ]
  },
  {
   "cell_type": "code",
   "execution_count": 9,
   "metadata": {},
   "outputs": [
    {
     "data": {
      "text/plain": [
       "val bar : int -> int = <fun>\n"
      ]
     },
     "execution_count": 9,
     "metadata": {},
     "output_type": "execute_result"
    }
   ],
   "source": [
    "let bar x = x + next()"
   ]
  },
  {
   "cell_type": "code",
   "execution_count": 10,
   "metadata": {},
   "outputs": [
    {
     "data": {
      "text/plain": [
       "val qux : int = 13\n"
      ]
     },
     "execution_count": 10,
     "metadata": {},
     "output_type": "execute_result"
    }
   ],
   "source": [
    "let qux = bar 10"
   ]
  },
  {
   "cell_type": "markdown",
   "metadata": {
    "slideshow": {
     "slide_type": "fragment"
    }
   },
   "source": [
    "Can we now optimise `qux` to:"
   ]
  },
  {
   "cell_type": "code",
   "execution_count": null,
   "metadata": {},
   "outputs": [],
   "source": [
    "let qux = 13"
   ]
  },
  {
   "cell_type": "markdown",
   "metadata": {},
   "source": [
    "**NO!** Referential transparency breaks under side effects. "
   ]
  },
  {
   "cell_type": "markdown",
   "metadata": {
    "slideshow": {
     "slide_type": "slide"
    }
   },
   "source": [
    "## Aliases\n",
    "\n",
    "References may create aliases.\n",
    "\n",
    "What is the result of this program?"
   ]
  },
  {
   "cell_type": "code",
   "execution_count": null,
   "metadata": {},
   "outputs": [],
   "source": [
    "let x = ref 10 in\n",
    "let y = ref 10 in\n",
    "let z = x in (* XXX *)\n",
    "z := !x + 1;\n",
    "!x + !y"
   ]
  },
  {
   "cell_type": "markdown",
   "metadata": {
    "slideshow": {
     "slide_type": "fragment"
    }
   },
   "source": [
    "<center>\n",
    "    \n",
    "<img src=\"heap2.svg\" width=\"350\">\n",
    "</center>\n",
    "\n",
    "* Variables `z` and `x` are said to be **aliases**\n",
    "  + They refer to the same object in the program heap."
   ]
  },
  {
   "cell_type": "markdown",
   "metadata": {
    "slideshow": {
     "slide_type": "slide"
    }
   },
   "source": [
    "## Equality\n",
    "\n",
    "* The `=` that we have been using is known as **structural equality**\n",
    "  + Checks whether the values' structurally equal. \n",
    "  + `[1;2;3] = [1;2;3]` evaluates to `true`. \n",
    "* Because of references, one may also want to ask whether two expressions are **aliases**\n",
    "  + This equality is known as **physical equality**.\n",
    "  + OCaml uses `==` to check for physical equality."
   ]
  },
  {
   "cell_type": "markdown",
   "metadata": {
    "slideshow": {
     "slide_type": "slide"
    }
   },
   "source": [
    "## Equality : Types"
   ]
  },
  {
   "cell_type": "code",
   "execution_count": 11,
   "metadata": {},
   "outputs": [
    {
     "data": {
      "text/plain": [
       "- : 'a -> 'a -> bool = <fun>\n"
      ]
     },
     "execution_count": 11,
     "metadata": {},
     "output_type": "execute_result"
    }
   ],
   "source": [
    "(=)"
   ]
  },
  {
   "cell_type": "code",
   "execution_count": 12,
   "metadata": {},
   "outputs": [
    {
     "data": {
      "text/plain": [
       "- : 'a -> 'a -> bool = <fun>\n"
      ]
     },
     "execution_count": 12,
     "metadata": {},
     "output_type": "execute_result"
    }
   ],
   "source": [
    "(==)"
   ]
  },
  {
   "cell_type": "markdown",
   "metadata": {
    "slideshow": {
     "slide_type": "slide"
    }
   },
   "source": [
    "## Equality : Quiz\n",
    "```ocaml\n",
    "let l1 = [1;2;3];; \n",
    "let l2 = l1;; \n",
    "let l3 = [1;2;3];;\n",
    "let r1 = ref l1;;\n",
    "let r2 = r1;;\n",
    "let r3 = ref l3;;\n",
    "```\n",
    "which of the following are true?\n",
    "\n",
    "(1)`l1 = l2` (2)`l1 == l2` (3) `l1 = l3` (4) `l1 == l3`  (5) `l1 = [1;2;3]`\n",
    "\n",
    "(6) `l1 == [1;2;3]` (7) `r1 == r2`  (8) `r1 = r2` (9) `r1 == r3` (10) `r1 = r3`"
   ]
  },
  {
   "cell_type": "markdown",
   "metadata": {
    "slideshow": {
     "slide_type": "slide"
    }
   },
   "source": [
    "## Equality : Quiz"
   ]
  },
  {
   "cell_type": "code",
   "execution_count": 13,
   "metadata": {},
   "outputs": [
    {
     "data": {
      "text/plain": [
       "val l1 : int list = [1; 2; 3]\n"
      ]
     },
     "execution_count": 13,
     "metadata": {},
     "output_type": "execute_result"
    },
    {
     "data": {
      "text/plain": [
       "val l2 : int list = [1; 2; 3]\n"
      ]
     },
     "execution_count": 13,
     "metadata": {},
     "output_type": "execute_result"
    },
    {
     "data": {
      "text/plain": [
       "val l3 : int list = [1; 2; 3]\n"
      ]
     },
     "execution_count": 13,
     "metadata": {},
     "output_type": "execute_result"
    },
    {
     "data": {
      "text/plain": [
       "val r1 : int list ref = {contents = [1; 2; 3]}\n"
      ]
     },
     "execution_count": 13,
     "metadata": {},
     "output_type": "execute_result"
    },
    {
     "data": {
      "text/plain": [
       "val r2 : int list ref = {contents = [1; 2; 3]}\n"
      ]
     },
     "execution_count": 13,
     "metadata": {},
     "output_type": "execute_result"
    },
    {
     "data": {
      "text/plain": [
       "val r3 : int list ref = {contents = [1; 2; 3]}\n"
      ]
     },
     "execution_count": 13,
     "metadata": {},
     "output_type": "execute_result"
    }
   ],
   "source": [
    "let l1 = [1;2;3];; \n",
    "let l2 = l1;; \n",
    "let l3 = [1;2;3];;\n",
    "let r1 = ref l1;;\n",
    "let r2 = r1;;\n",
    "let r3 = ref l3;;"
   ]
  },
  {
   "attachments": {
    "image.png": {
     "image/png": "[encoded data removed]"
    }
   },
   "cell_type": "markdown",
   "metadata": {
    "slideshow": {
     "slide_type": "slide"
    }
   },
   "source": [
    "## Equality\n",
    "\n",
    "\n",
    "<center>\n",
    "    <table>\n",
    "        <tr>\n",
    "            <td> <img src=\"attachment:image.png\" width=\"450\"> </td>\n",
    "            <td> <img src=\"heap.svg\" width=\"250\"> </td>\n",
    "        </tr>\n",
    "    </table>\n",
    "</center>\n",
    "\n",
    "which of the following are true?\n",
    "\n",
    "(1)`l1 = l2` (2)`l1 == l2` (3) `l1 = l3` (4) `l1 == l3`  (5) `l1 = [1;2;3]`\n",
    "\n",
    "(6) `l1 == [1;2;3]` (7) `r1 == r2`  (8) `r1 = r2` (9) `r1 == r3` (10) `r1 = r3`\n",
    "\n",
    "References are structurally equal iff their contents are structurally equal."
   ]
  },
  {
   "cell_type": "code",
   "execution_count": 21,
   "metadata": {},
   "outputs": [
    {
     "data": {
      "text/plain": [
       "- : bool = true\n"
      ]
     },
     "execution_count": 21,
     "metadata": {},
     "output_type": "execute_result"
    }
   ],
   "source": [
    "l1 = l2"
   ]
  },
  {
   "cell_type": "markdown",
   "metadata": {
    "slideshow": {
     "slide_type": "slide"
    }
   },
   "source": [
    "## Value Restriction\n",
    "\n",
    "Consider the following program:"
   ]
  },
  {
   "cell_type": "code",
   "execution_count": null,
   "metadata": {},
   "outputs": [],
   "source": [
    "let r = [] in\n",
    "let r1 : int list = r in\n",
    "let r2 : string list = r in\n",
    "(r1,r2)"
   ]
  },
  {
   "cell_type": "markdown",
   "metadata": {},
   "source": [
    "`r` has type `'a list`. But otherwise, nothing surprising here."
   ]
  },
  {
   "cell_type": "markdown",
   "metadata": {
    "slideshow": {
     "slide_type": "slide"
    }
   },
   "source": [
    "## Value Restriction\n",
    "\n",
    "Consider a modified program:"
   ]
  },
  {
   "cell_type": "code",
   "execution_count": 22,
   "metadata": {},
   "outputs": [
    {
     "ename": "error",
     "evalue": "compile_error",
     "output_type": "error",
     "traceback": [
      "File \"[22]\", line 3, characters 27-28:\n3 | let r2 : string list ref = r in\n                               ^\nError: This expression has type int list ref\n       but an expression was expected of type string list ref\n       Type int is not compatible with type string \n"
     ]
    }
   ],
   "source": [
    "let r = ref [] in\n",
    "let r1 : int list ref = r in\n",
    "let r2 : string list ref = r in\n",
    "(r1,r2)"
   ]
  },
  {
   "cell_type": "markdown",
   "metadata": {
    "slideshow": {
     "slide_type": "slide"
    }
   },
   "source": [
    "## Value Restriction\n",
    "\n",
    "Let's look at the type of `ref []`"
   ]
  },
  {
   "cell_type": "code",
   "execution_count": 23,
   "metadata": {},
   "outputs": [
    {
     "data": {
      "text/plain": [
       "val r : '_weak1 list ref = {contents = []}\n"
      ]
     },
     "execution_count": 23,
     "metadata": {},
     "output_type": "execute_result"
    }
   ],
   "source": [
    "let r = ref []"
   ]
  },
  {
   "cell_type": "markdown",
   "metadata": {},
   "source": [
    "* The `'_weak1` says that `r` is only *weakly polymorphic*. \n",
    "  + `r` can be used with only one type.\n",
    "  + This is known as **value restriction**.\n",
    "* But why does value restriction exist?"
   ]
  },
  {
   "cell_type": "markdown",
   "metadata": {
    "slideshow": {
     "slide_type": "slide"
    }
   },
   "source": [
    "## Why does value restriction exist?\n",
    "\n",
    "If value restriction does not exist, the following program would be well-typed.\n",
    "\n",
    "\n",
    "```ocaml\n",
    "let r = ref [] in\n",
    "let r1 : int list ref = r in\n",
    "let r2 : string list ref = r in\n",
    "r1 := [1];\n",
    "print_endline (List.hd !r2)\n",
    "```\n",
    "\n",
    "* We are storing an int list in `r1` and reading it out as a string list through `r2`.\n",
    "  + Breaks type safety.\n"
   ]
  },
  {
   "cell_type": "markdown",
   "metadata": {
    "slideshow": {
     "slide_type": "slide"
    }
   },
   "source": [
    "## Mutable Record Fields\n",
    "\n",
    "Ref cells are essentially syntactic sugar over **mutable record fields**.\n",
    "\n",
    "```ocaml\n",
    "type 'a ref = { mutable contents: 'a }\n",
    "let ref x = { contents = x }\n",
    "let ( ! ) r = r.contents\n",
    "let ( := ) r newval = r.contents <- newval\n",
    "```\n",
    "\n",
    "* This type is declared in `Pervasives`\n"
   ]
  },
  {
   "cell_type": "markdown",
   "metadata": {
    "slideshow": {
     "slide_type": "slide"
    }
   },
   "source": [
    "## Doubly-linked list"
   ]
  },
  {
   "cell_type": "code",
   "execution_count": 24,
   "metadata": {},
   "outputs": [
    {
     "data": {
      "text/plain": [
       "type 'a node = {\n",
       "  v : 'a;\n",
       "  mutable next : 'a node option;\n",
       "  mutable prev : 'a node option;\n",
       "}\n"
      ]
     },
     "execution_count": 24,
     "metadata": {},
     "output_type": "execute_result"
    },
    {
     "data": {
      "text/plain": [
       "type 'a dllist = 'a node option ref\n"
      ]
     },
     "execution_count": 24,
     "metadata": {},
     "output_type": "execute_result"
    }
   ],
   "source": [
    "(* The type of elements *)\n",
    "type 'a node = { \n",
    "  v : 'a;\n",
    "  mutable next : 'a node option;\n",
    "  mutable prev : 'a node option\n",
    "}\n",
    "\n",
    "(* The type of list *)\n",
    "type 'a dllist = 'a node option ref"
   ]
  },
  {
   "cell_type": "markdown",
   "metadata": {
    "slideshow": {
     "slide_type": "slide"
    }
   },
   "source": [
    "## Double-linked list"
   ]
  },
  {
   "cell_type": "code",
   "execution_count": 25,
   "metadata": {},
   "outputs": [
    {
     "data": {
      "text/plain": [
       "val create : unit -> 'a dllist = <fun>\n"
      ]
     },
     "execution_count": 25,
     "metadata": {},
     "output_type": "execute_result"
    },
    {
     "data": {
      "text/plain": [
       "val first : 'a dllist -> 'a node option = <fun>\n"
      ]
     },
     "execution_count": 25,
     "metadata": {},
     "output_type": "execute_result"
    },
    {
     "data": {
      "text/plain": [
       "val is_empty : 'a dllist -> bool = <fun>\n"
      ]
     },
     "execution_count": 25,
     "metadata": {},
     "output_type": "execute_result"
    },
    {
     "data": {
      "text/plain": [
       "val v : 'a node -> 'a = <fun>\n"
      ]
     },
     "execution_count": 25,
     "metadata": {},
     "output_type": "execute_result"
    },
    {
     "data": {
      "text/plain": [
       "val next : 'a node -> 'a node option = <fun>\n"
      ]
     },
     "execution_count": 25,
     "metadata": {},
     "output_type": "execute_result"
    },
    {
     "data": {
      "text/plain": [
       "val prev : 'a node -> 'a node option = <fun>\n"
      ]
     },
     "execution_count": 25,
     "metadata": {},
     "output_type": "execute_result"
    }
   ],
   "source": [
    "let create () : 'a dllist = ref None\n",
    "let first (t : 'a dllist) = !t\n",
    "let is_empty (t : 'a dllist) = !t = None\n",
    "\n",
    "let v node = node.v\n",
    "let next node = node.next\n",
    "let prev node = node.prev"
   ]
  },
  {
   "cell_type": "markdown",
   "metadata": {
    "slideshow": {
     "slide_type": "slide"
    }
   },
   "source": [
    "## Doubly-linked list"
   ]
  },
  {
   "cell_type": "code",
   "execution_count": 26,
   "metadata": {},
   "outputs": [
    {
     "data": {
      "text/plain": [
       "val insert_first : 'a dllist -> 'a -> 'a node = <fun>\n"
      ]
     },
     "execution_count": 26,
     "metadata": {},
     "output_type": "execute_result"
    }
   ],
   "source": [
    "(* [insert_first t v] inserts a new node [n] with value [v] \n",
    "   as the first node in the list [t]. Returns [n]. *)\n",
    "let insert_first (t : 'a dllist) v =\n",
    "  let n = { prev = None; next = !t; v = v} in\n",
    "  begin match !t with\n",
    "  | Some old_first -> old_first.prev <- Some n\n",
    "  | None -> ()\n",
    "  end;\n",
    "  t := Some n;\n",
    "  n"
   ]
  },
  {
   "cell_type": "markdown",
   "metadata": {
    "slideshow": {
     "slide_type": "slide"
    }
   },
   "source": [
    "## Doubly-linked list"
   ]
  },
  {
   "cell_type": "code",
   "execution_count": 27,
   "metadata": {},
   "outputs": [
    {
     "data": {
      "text/plain": [
       "val insert_after : 'a node -> 'a -> 'a node = <fun>\n"
      ]
     },
     "execution_count": 27,
     "metadata": {},
     "output_type": "execute_result"
    }
   ],
   "source": [
    "(* [insert_after n v] inserts a new node [n'] whose value \n",
    "   is [v] after the node [n]. Returns [n']. *)\n",
    "let insert_after n v =\n",
    "  let n' = { v = v; prev = Some n; next = n.next } in\n",
    "  begin match n.next with\n",
    "  | Some old_next -> old_next.prev <- Some n'\n",
    "  | None -> ()\n",
    "  end;\n",
    "  n.next <- Some n';\n",
    "  n'"
   ]
  },
  {
   "cell_type": "markdown",
   "metadata": {
    "slideshow": {
     "slide_type": "slide"
    }
   },
   "source": [
    "## Doubly-linked list"
   ]
  },
  {
   "cell_type": "code",
   "execution_count": 29,
   "metadata": {},
   "outputs": [
    {
     "data": {
      "text/plain": [
       "val remove : 'a dllist -> 'a node -> unit = <fun>\n"
      ]
     },
     "execution_count": 29,
     "metadata": {},
     "output_type": "execute_result"
    }
   ],
   "source": [
    "(* [remove t n] removes the node [n] from the list [t] *)\n",
    "let remove (t:'a dllist) n =\n",
    "  let { prev; next; _ } = n in\n",
    "  begin match prev with\n",
    "  | Some prev -> prev.next <- next\n",
    "  | None -> t := next\n",
    "  end;\n",
    "  begin match next with\n",
    "  | Some next -> next.prev <- prev;\n",
    "  | None -> ()\n",
    "  end;\n",
    "  n.prev <- None;\n",
    "  n.next <- None"
   ]
  },
  {
   "cell_type": "markdown",
   "metadata": {
    "slideshow": {
     "slide_type": "slide"
    }
   },
   "source": [
    "## Doubly-linked list"
   ]
  },
  {
   "cell_type": "code",
   "execution_count": null,
   "metadata": {},
   "outputs": [],
   "source": [
    "(* [iter t f] applies [f] on each value in the list \n",
    "   from list to right *)\n",
    "let iter (t : 'a dllist) (f : 'a -> unit) =\n",
    "  let rec loop l = match l with\n",
    "    | None -> ()\n",
    "    | Some el -> f (v el); loop (next el)\n",
    "  in\n",
    "  loop !t"
   ]
  },
  {
   "cell_type": "markdown",
   "metadata": {
    "slideshow": {
     "slide_type": "slide"
    }
   },
   "source": [
    "## Doubly-linked list"
   ]
  },
  {
   "cell_type": "code",
   "execution_count": null,
   "metadata": {},
   "outputs": [],
   "source": [
    "let l = create ();;\n",
    "let n0 = insert_first l 0;;\n",
    "let n1 = insert_after n0 1;;\n",
    "insert_after n1 2"
   ]
  },
  {
   "cell_type": "markdown",
   "metadata": {
    "slideshow": {
     "slide_type": "slide"
    }
   },
   "source": [
    "## Doubly-linked list"
   ]
  },
  {
   "cell_type": "code",
   "execution_count": null,
   "metadata": {
    "scrolled": false
   },
   "outputs": [],
   "source": [
    "iter l (Printf.printf \"%d\\n%!\")"
   ]
  },
  {
   "cell_type": "markdown",
   "metadata": {
    "slideshow": {
     "slide_type": "slide"
    }
   },
   "source": [
    "## Arrays\n",
    "\n",
    "Collection type with efficient random access."
   ]
  },
  {
   "cell_type": "code",
   "execution_count": 30,
   "metadata": {},
   "outputs": [
    {
     "data": {
      "text/plain": [
       "val a : int array = [|1; 2; 3|]\n"
      ]
     },
     "execution_count": 30,
     "metadata": {},
     "output_type": "execute_result"
    }
   ],
   "source": [
    "let a = [| 1;2;3 |]"
   ]
  },
  {
   "cell_type": "markdown",
   "metadata": {},
   "source": [
    "Array elements are retrieved using `a.(i)` syntax where `a` is the array and `i` is the index."
   ]
  },
  {
   "cell_type": "code",
   "execution_count": 31,
   "metadata": {},
   "outputs": [
    {
     "data": {
      "text/plain": [
       "- : int = 1\n"
      ]
     },
     "execution_count": 31,
     "metadata": {},
     "output_type": "execute_result"
    }
   ],
   "source": [
    "a.(0)"
   ]
  },
  {
   "cell_type": "markdown",
   "metadata": {},
   "source": [
    "Arrays bounds are checked at access."
   ]
  },
  {
   "cell_type": "code",
   "execution_count": 32,
   "metadata": {},
   "outputs": [
    {
     "ename": "error",
     "evalue": "runtime_error",
     "output_type": "error",
     "traceback": [
      "\u001b[31mException: Invalid_argument \"index out of bounds\".\nRaised by primitive operation at unknown location\nCalled from file \"toplevel/toploop.ml\", line 212, characters 17-27\n\u001b[0m"
     ]
    }
   ],
   "source": [
    "a.(3)"
   ]
  },
  {
   "cell_type": "markdown",
   "metadata": {
    "slideshow": {
     "slide_type": "slide"
    }
   },
   "source": [
    "## Arrays"
   ]
  },
  {
   "cell_type": "markdown",
   "metadata": {},
   "source": [
    "Array can be updated with `<-` syntax."
   ]
  },
  {
   "cell_type": "code",
   "execution_count": 33,
   "metadata": {},
   "outputs": [
    {
     "data": {
      "text/plain": [
       "- : int array = [|1; 0; 3|]\n"
      ]
     },
     "execution_count": 33,
     "metadata": {},
     "output_type": "execute_result"
    }
   ],
   "source": [
    "a.(1) <- 0; \n",
    "a"
   ]
  },
  {
   "cell_type": "code",
   "execution_count": 34,
   "metadata": {},
   "outputs": [
    {
     "data": {
      "text/plain": [
       "- : int = 0\n"
      ]
     },
     "execution_count": 34,
     "metadata": {},
     "output_type": "execute_result"
    }
   ],
   "source": [
    "a.(1)"
   ]
  },
  {
   "cell_type": "markdown",
   "metadata": {},
   "source": [
    "* Arrays behave very similar to arrays in C\n",
    " + See [Array module](https://caml.inria.fr/pub/docs/manual-ocaml/libref/Array.html) documentation in the OCaml standard library"
   ]
  },
  {
   "cell_type": "markdown",
   "metadata": {
    "slideshow": {
     "slide_type": "slide"
    }
   },
   "source": [
    "## Benefits of immutability\n",
    "\n",
    "* Programmer doesn’t have to think about aliasing\n",
    "    + can concentrate on other aspects of code\n",
    "* Language implementation is free to share objects on the heap, which is cheap\n",
    "* Often easier to reason about whether code is correct\n",
    "* Perfect fit for concurrent programming\n",
    "\n",
    "But\n",
    "* Some data structures (hash tables, arrays, ...) are more efficient if imperative\n",
    "\n",
    "Recommendation\n",
    "\n",
    "* Use immutable data structures unless performance can't be compromised"
   ]
  }
 ],
 "metadata": {
  "celltoolbar": "Slideshow",
  "kernelspec": {
   "display_name": "OCaml 4.10",
   "language": "OCaml",
   "name": "ocaml-jupyter"
  },
  "language_info": {
   "codemirror_mode": "text/x-ocaml",
   "file_extension": ".ml",
   "mimetype": "text/x-ocaml",
   "name": "OCaml",
   "nbconverter_exporter": null,
   "pygments_lexer": "OCaml",
   "version": "4.10.0"
  }
 },
 "nbformat": 4,
 "nbformat_minor": 2
}
