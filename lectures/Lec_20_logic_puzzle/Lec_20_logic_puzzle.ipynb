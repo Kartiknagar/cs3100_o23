{
 "cells": [
  {
   "cell_type": "markdown",
   "metadata": {
    "slideshow": {
     "slide_type": "slide"
    }
   },
   "source": [
    "<center>\n",
    "\n",
    "<h1> Solving a Logic Puzzle </h1>\n",
    "</center>"
   ]
  },
  {
   "cell_type": "markdown",
   "metadata": {
    "slideshow": {
     "slide_type": "slide"
    }
   },
   "source": [
    "## Zebra Puzzle\n",
    "\n",
    "1. There are five houses.\n",
    "2. The Englishman lives in the red house.\n",
    "3. The Spaniard owns the dog.\n",
    "4. Coffee is drunk in the green house.\n",
    "5. The Ukrainian drinks tea.\n",
    "6. The green house is immediately to the right of the ivory house.\n",
    "7. The Old Gold smoker owns snails.\n",
    "8. Kools are smoked in the yellow house.\n",
    "9. Milk is drunk in the middle house.\n",
    "10. The Norwegian lives in the first house.\n",
    "11. The man who smokes Chesterfields lives in the house next to the man with the fox.\n",
    "12. Kools are smoked in the house next to the house where the horse is kept.\n",
    "13. The Lucky Strike smoker drinks orange juice.\n",
    "14. The Japanese smokes Parliaments.\n",
    "15. The Norwegian lives next to the blue house.\n",
    "\n",
    "Now, who drinks water? Who owns the zebra?"
   ]
  },
  {
   "cell_type": "markdown",
   "metadata": {
    "slideshow": {
     "slide_type": "slide"
    }
   },
   "source": [
    "## Zebra Puzzle\n",
    "\n",
    "1. There are **five** houses.\n",
    "2. The **Englishman** lives in the **red** house.\n",
    "3. The Spaniard owns the **dog**.\n",
    "4. **Coffee** is drunk in the green house.\n",
    "5. The Ukrainian drinks tea.\n",
    "6. The green house is immediately to the **right of** the ivory house.\n",
    "7. The **Old Gold** smoker owns snails.\n",
    "8. Kools are smoked in the yellow house.\n",
    "9. Milk is drunk in the **middle** house.\n",
    "10. The Norwegian lives in the **first** house.\n",
    "11. The man who smokes Chesterfields lives in the house next to the man with the fox.\n",
    "12. Kools are smoked in the house **next to** the house where the horse is kept.\n",
    "13. The Lucky Strike smoker drinks orange juice.\n",
    "14. The Japanese smokes Parliaments.\n",
    "15. The Norwegian lives **next to** the blue house.\n",
    "\n",
    "Now, who drinks water? Who owns the zebra?"
   ]
  },
  {
   "cell_type": "markdown",
   "metadata": {
    "slideshow": {
     "slide_type": "slide"
    }
   },
   "source": [
    "## Representing a house\n",
    "\n",
    "A house has 5 characteristics:\n",
    "\n",
    "1. Nationality\n",
    "2. Pet\n",
    "3. Smoke\n",
    "4. Drink\n",
    "5. Colour\n",
    "\n",
    "We can define a function `house(Nationality,Pet,Smoke,Drink,Colour)` to represent this. \n",
    "\n",
    "We represent the row of houses as a function `street(H1,H2,H3,H4,H5)`."
   ]
  },
  {
   "cell_type": "markdown",
   "metadata": {
    "slideshow": {
     "slide_type": "slide"
    }
   },
   "source": [
    "## Quiz\n",
    "\n",
    "What sort of a term is `house(Nationality,Pet,Smoke,Drink,Colour)`?\n",
    "\n",
    "1. Number\n",
    "2. Compound Term\n",
    "3. Variable\n",
    "4. Constant"
   ]
  },
  {
   "cell_type": "markdown",
   "metadata": {
    "slideshow": {
     "slide_type": "slide"
    }
   },
   "source": [
    "## Quiz\n",
    "\n",
    "What sort of a term is `house(Nationality,Pet,Smoke,Drink,Colour)`?\n",
    "\n",
    "1. Number\n",
    "2. Compound Term **✓**\n",
    "3. Variable\n",
    "4. Constant"
   ]
  },
  {
   "cell_type": "markdown",
   "metadata": {
    "slideshow": {
     "slide_type": "slide"
    }
   },
   "source": [
    "## Quiz\n",
    "\n",
    "What sort of a term is `(Nationality,Pet,Smoke,Drink,Colour)`?\n",
    "\n",
    "1. Number\n",
    "2. Compound Term\n",
    "3. Variable\n",
    "4. Constant"
   ]
  },
  {
   "cell_type": "markdown",
   "metadata": {
    "slideshow": {
     "slide_type": "slide"
    }
   },
   "source": [
    "## Quiz\n",
    "\n",
    "What sort of a term is `(Nationality,Pet,Smoke,Drink,Colour)`?\n",
    "\n",
    "1. Number\n",
    "2. Compound Term **✓**\n",
    "3. Variable\n",
    "4. Constant\n",
    "\n",
    "A tuple is a compond term with no explicit function symbol. "
   ]
  },
  {
   "cell_type": "markdown",
   "metadata": {
    "slideshow": {
     "slide_type": "slide"
    }
   },
   "source": [
    "## Define the house-existence facts\n",
    "\n",
    "* We want to convey this sort of house exists in this position. \n",
    "  + So define a predicate `exists` that captures this fact."
   ]
  },
  {
   "cell_type": "code",
   "execution_count": null,
   "metadata": {
    "slideshow": {
     "slide_type": "-"
    }
   },
   "outputs": [],
   "source": [
    "exists(A,street(A,_,_,_,_)).\n",
    "exists(A,street(_,A,_,_,_)).\n",
    "exists(A,street(_,_,A,_,_)).\n",
    "exists(A,street(_,_,_,A,_)).\n",
    "exists(A,street(_,_,_,_,A))."
   ]
  },
  {
   "cell_type": "code",
   "execution_count": null,
   "metadata": {},
   "outputs": [],
   "source": [
    "?- exists(h1,street(h1,h2,h3,h4,h5))."
   ]
  },
  {
   "cell_type": "code",
   "execution_count": null,
   "metadata": {},
   "outputs": [],
   "source": [
    "?- exists(h2,street(h1,h2,h3,h4,h5))."
   ]
  },
  {
   "cell_type": "code",
   "execution_count": null,
   "metadata": {},
   "outputs": [],
   "source": [
    "?- exists(h6,street(h1,h2,h3,h4,h5))."
   ]
  },
  {
   "cell_type": "markdown",
   "metadata": {
    "slideshow": {
     "slide_type": "slide"
    }
   },
   "source": [
    "## Quiz\n",
    "\n",
    "Which of these queries returns true?\n",
    "\n",
    "1. exists(dog,street(fly,spider,bird,cat,dog)).\n",
    "2. exists(dog,street(fly,spider,bird,dog)).\n",
    "3. exists(dog).\n",
    "4. exists(house(english,red), street(house(spanish,green), house(french,orange), house(dutch,yellow), house(german,blue), house(english,_))."
   ]
  },
  {
   "cell_type": "markdown",
   "metadata": {
    "slideshow": {
     "slide_type": "slide"
    }
   },
   "source": [
    "## Quiz\n",
    "\n",
    "Which of these queries returns true?\n",
    "\n",
    "1. exists(dog,street(fly,spider,bird,cat,dog)). **yes**\n",
    "2. exists(dog,street(fly,spider,bird,dog)). **no (wrong arity)**\n",
    "3. exists(dog). **no (wrong arity)**\n",
    "4. exists(house(english,red), street(house(spanish,green), house(french,orange), house(dutch,yellow), house(german,blue), house(english,_)). **yes**"
   ]
  },
  {
   "cell_type": "markdown",
   "metadata": {
    "slideshow": {
     "slide_type": "slide"
    }
   },
   "source": [
    "## rightOf\n",
    "\n",
    "6. The green house is immediately to the **right of** the ivory house."
   ]
  },
  {
   "cell_type": "code",
   "execution_count": null,
   "metadata": {},
   "outputs": [],
   "source": [
    "rightOf(A,B,street(B,A,_,_,_)).\n",
    "rightOf(A,B,street(_,B,A,_,_)).\n",
    "rightOf(A,B,street(_,_,B,A,_)).\n",
    "rightOf(A,B,street(_,_,_,B,A))."
   ]
  },
  {
   "cell_type": "markdown",
   "metadata": {
    "slideshow": {
     "slide_type": "slide"
    }
   },
   "source": [
    "## middle and first house\n",
    "\n",
    "9. Milk is drunk in the **middle** house."
   ]
  },
  {
   "cell_type": "code",
   "execution_count": null,
   "metadata": {},
   "outputs": [],
   "source": [
    "middleHouse(A,street(_,_,A,_,_))."
   ]
  },
  {
   "cell_type": "markdown",
   "metadata": {
    "slideshow": {
     "slide_type": "-"
    }
   },
   "source": [
    "10. The Norwegian lives in the **first** house."
   ]
  },
  {
   "cell_type": "code",
   "execution_count": null,
   "metadata": {},
   "outputs": [],
   "source": [
    "firstHouse(A,street(A,_,_,_,_))."
   ]
  },
  {
   "cell_type": "markdown",
   "metadata": {
    "slideshow": {
     "slide_type": "slide"
    }
   },
   "source": [
    "## nextTo \n",
    "\n",
    "12. Kools are smoked in the house **next to** the house where the horse is kept.\n",
    "\n",
    "15. The Norwegian lives **next to** the blue house."
   ]
  },
  {
   "cell_type": "code",
   "execution_count": null,
   "metadata": {},
   "outputs": [],
   "source": [
    "nextTo(A,B,S) :- rightOf(A,B,S).\n",
    "nextTo(A,B,S) :- rightOf(B,A,S)."
   ]
  },
  {
   "cell_type": "markdown",
   "metadata": {
    "slideshow": {
     "slide_type": "slide"
    }
   },
   "source": [
    "## Express the puzzle as a Query\n",
    "1. There are five houses.\n",
    "2. The Englishman lives in the red house.\n",
    "3. The Spaniard owns the dog.\n",
    "4. Coffee is drunk in the green house.\n",
    "5. The Ukrainian drinks tea.\n",
    "6. The green house is immediately to the right of the ivory house.\n",
    "7. The Old Gold smoker owns snails.\n",
    "8. Kools are smoked in the yellow house.\n",
    "9. Milk is drunk in the middle house.\n",
    "10. The Norwegian lives in the first house.\n",
    "11. The man who smokes Chesterfields lives in the house next to the man with the fox.\n",
    "12. Kools are smoked in the house next to the house where the horse is kept.\n",
    "13. The Lucky Strike smoker drinks orange juice.\n",
    "14. The Japanese smokes Parliaments.\n",
    "15. The Norwegian lives next to the blue house.\n",
    "\n",
    "Now, who drinks water? Who owns the zebra?"
   ]
  },
  {
   "cell_type": "markdown",
   "metadata": {
    "slideshow": {
     "slide_type": "slide"
    }
   },
   "source": [
    "## Express the puzzle as a Query"
   ]
  },
  {
   "cell_type": "code",
   "execution_count": null,
   "metadata": {},
   "outputs": [],
   "source": [
    "?- exists(house(british,_,_,_,red),Street),\n",
    "exists(house(spanish,dog,_,_,_),Street),\n",
    "exists(house(_,_,_,coffee,green),Street),\n",
    "exists(house(ukranian,_,_,tea,_),Street),\n",
    "rightOf(house(_,_,_,_,green),house(_,_,_,_,ivory),Street),\n",
    "exists(house(_,snail,oldgold,_,_),Street),\n",
    "exists(house(_,_,kools,_,yellow),Street),\n",
    "middleHouse(house(_,_,_,milk,_),Street),\n",
    "firstHouse(house(norwegian,_,_,_,_),Street),\n",
    "nextTo(house(_,_,chesterfields,_,_),house(_,fox,_,_,_),Street),\n",
    "nextTo(house(_,_,kools,_,_),house(_,horse,_,_,_),Street),\n",
    "exists(house(_,_,luckystrike,orangejuice,_),Street),\n",
    "exists(house(japanese,_,parliaments,_,_),Street),\n",
    "nextTo(house(norwegian,_,_,_,_),house(_,_,_,_,blue),Street),\n",
    "\n",
    "exists(house(WaterDrinker,_,_,water,_),Street),\n",
    "exists(house(ZebraOwner,zebra,_,_,_),Street)."
   ]
  },
  {
   "cell_type": "markdown",
   "metadata": {
    "slideshow": {
     "slide_type": "slide"
    }
   },
   "source": [
    "## Reading more results\n",
    "\n",
    "* The above query leads to exactly one street configuration. \n",
    "* With fewer constraints, there are more possible street configuration.\n",
    "```prolog\n",
    "?- exists(house(british,_,_,_,red),Street),\n",
    "     exists(house(spanish,dog,_,_,_),Street).\n",
    "```\n",
    "* For this query, there are 20 options\n",
    "  + 5 houses, 1 british+red house, 1 spanish+dog house, 3 other houses \n",
    "* By default, only 10 results are diplayed."
   ]
  },
  {
   "cell_type": "code",
   "execution_count": null,
   "metadata": {},
   "outputs": [],
   "source": [
    "?- exists(house(british,_,_,_,red),Street),\n",
    "exists(house(spanish,dog,_,_,_),Street)."
   ]
  },
  {
   "cell_type": "markdown",
   "metadata": {
    "slideshow": {
     "slide_type": "slide"
    }
   },
   "source": [
    "## Reading more results\n",
    "\n",
    "* Use `{N}` syntax to obtain `N` results.\n",
    "* This is specific to Jupyter notebook\n",
    "  + `swipl` displays all the results by default."
   ]
  },
  {
   "cell_type": "code",
   "execution_count": null,
   "metadata": {},
   "outputs": [],
   "source": [
    "?- exists(house(british,_,_,_,red),Street),\n",
    "exists(house(spanish,dog,_,_,_),Street) {40}."
   ]
  },
  {
   "cell_type": "markdown",
   "metadata": {
    "slideshow": {
     "slide_type": "slide"
    }
   },
   "source": [
    "## Express the puzzle as a rule"
   ]
  },
  {
   "cell_type": "code",
   "execution_count": null,
   "metadata": {},
   "outputs": [],
   "source": [
    "puzzle(Street) :- exists(house(british,_,_,_,red),Street),\n",
    "                  exists(house(spanish,dog,_,_,_),Street),\n",
    "                  exists(house(_,_,_,coffee,green),Street),\n",
    "                  exists(house(ukranian,_,_,tea,_),Street),\n",
    "                  rightOf(house(_,_,_,_,green),house(_,_,_,_,ivory),Street),\n",
    "                  exists(house(_,snail,oldgold,_,_),Street),\n",
    "                  exists(house(_,_,kools,_,yellow),Street),\n",
    "                  middleHouse(house(_,_,_,milk,_),Street),\n",
    "                  firstHouse(house(norwegian,_,_,_,_),Street),\n",
    "                  nextTo(house(_,_,chesterfields,_,_),house(_,fox,_,_,_),Street),\n",
    "                  nextTo(house(_,_,kools,_,_),house(_,horse,_,_,_),Street),\n",
    "                  exists(house(_,_,luckystrike,orangejuice,_),Street),\n",
    "                  exists(house(japanese,_,parliaments,_,_),Street),\n",
    "                  nextTo(house(norwegian,_,_,_,_),house(_,_,_,_,blue),Street)."
   ]
  },
  {
   "cell_type": "markdown",
   "metadata": {
    "slideshow": {
     "slide_type": "slide"
    }
   },
   "source": [
    "## Express the puzzle as a rule\n",
    "\n",
    "Who is the zebra owner?"
   ]
  },
  {
   "cell_type": "code",
   "execution_count": null,
   "metadata": {},
   "outputs": [],
   "source": [
    "?- puzzle(Street), exists(house(ZebraOwner,zebra,_,_,_),Street)."
   ]
  },
  {
   "cell_type": "markdown",
   "metadata": {},
   "source": [
    "Who is the water drinker?"
   ]
  },
  {
   "cell_type": "code",
   "execution_count": null,
   "metadata": {},
   "outputs": [],
   "source": [
    "?- puzzle(Street), exists(house(WaterDrinker,_,_,water,_),Street)."
   ]
  }
 ],
 "metadata": {
  "celltoolbar": "Slideshow",
  "kernelspec": {
   "display_name": "SWI-Prolog",
   "language": "",
   "name": "jswipl"
  },
  "language_info": {
   "mimetype": "text/plain",
   "name": "swipl"
  }
 },
 "nbformat": 4,
 "nbformat_minor": 2
}
