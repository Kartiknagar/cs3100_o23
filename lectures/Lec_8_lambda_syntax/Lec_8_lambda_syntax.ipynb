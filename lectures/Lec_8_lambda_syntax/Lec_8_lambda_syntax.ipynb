{
 "cells": [
  {
   "cell_type": "markdown",
   "metadata": {
    "slideshow": {
     "slide_type": "slide"
    }
   },
   "source": [
    "<center>\n",
    "\n",
    "<h1 style=\"text-align:center\"> Lambda Calculus : Syntax </h1>\n",
    "</center>"
   ]
  },
  {
   "cell_type": "markdown",
   "metadata": {
    "slideshow": {
     "slide_type": "slide"
    }
   },
   "source": [
    "## Computability\n",
    "\n",
    "<h3> In 1930s </h3>\n",
    "\n",
    "* What does it mean for the function $f : \\mathbb{N} \\rightarrow \\mathbb{N}$ to be *computable*?\n",
    "* **Informal definition:** A function is computable if using pencil-and-paper you can compute $f(n)$ for any $n$.\n",
    "* Three different researchers attempted to formalise *computability*."
   ]
  },
  {
   "cell_type": "markdown",
   "metadata": {
    "slideshow": {
     "slide_type": "slide"
    }
   },
   "source": [
    "## Alan Turing\n",
    "\n",
    "<img src=\"images/turing.jpg\" style=\"float:left\" width=\"200\">\n",
    "\n",
    "<div style=\"float:left;width:75%\">\n",
    "    \n",
    "* Defined an idealised computer -- **The Turing Machine** (1935)\n",
    "* A function is computable if and only if it can be computed by a turing machine\n",
    "* A programming language is turing complete if:\n",
    "  + It can map every turing machine to a program.\n",
    "  + A program can be written to simulate a universal turing machine. \n",
    "</div>"
   ]
  },
  {
   "cell_type": "markdown",
   "metadata": {
    "slideshow": {
     "slide_type": "slide"
    }
   },
   "source": [
    "## Alonzo Church\n",
    "\n",
    "<img src=\"images/church.jpg\" style=\"float:left\" width=\"200\">\n",
    "\n",
    "<div style=\"float:left;width:75%\">\n",
    "    \n",
    "* Developed the **λ-calculus** as a formal system for mathematical logic (1929 - 1932).\n",
    "* Postulated that a function is computable (in the intuitive sense) if and only if it can be written as a lambda term (1935).\n",
    "* Church was Turing's PhD advisor!\n",
    "* Turing showed that the systems defined by Church and his system were equivalent.\n",
    "  + **Church-Turing Thesis** \n",
    "\n",
    "</div>"
   ]
  },
  {
   "cell_type": "markdown",
   "metadata": {
    "slideshow": {
     "slide_type": "slide"
    }
   },
   "source": [
    "## Kurt Gödel\n",
    "\n",
    "<img src=\"images/godel.jpg\" style=\"float:left\" width=\"200\">\n",
    "\n",
    "<div style=\"float:left;width:75%\">\n",
    "    \n",
    "* Defined the class of **general recursive functions** as the smallest set of functions containing \n",
    "  + all the constant functions\n",
    "  + the successor function and \n",
    "  + closed under certain operations (such as compositions and recursion). \n",
    "* He postulated that a function is computable (in the intuitive sense) if and only if it is general recursive.\n",
    "\n",
    "</div>"
   ]
  },
  {
   "cell_type": "markdown",
   "metadata": {
    "slideshow": {
     "slide_type": "slide"
    }
   },
   "source": [
    "## Impact of Church-Turing thesis\n",
    "\n",
    "* The **“Church-Turing Thesis”** is by itself is one of the most important ideas on computer science\n",
    "  + The impact of Church and Turing’s models goes far beyond the thesis itself."
   ]
  },
  {
   "cell_type": "markdown",
   "metadata": {
    "slideshow": {
     "slide_type": "slide"
    }
   },
   "source": [
    "## Impact of Church-Turing thesis\n",
    "\n",
    "* Oddly, however, the impact of each has been in almost completely separate communities\n",
    "  + Turing Machines $\\Rightarrow$ Algorithms & Complexity\n",
    "  + Lambda Calculus $\\Rightarrow$ Programming Languages\n",
    "* Not accidental\n",
    "  + Turing machines are quite low level $\\Rightarrow$ well suited for measuring resources (**efficiency**).\n",
    "  + Lambda Calculus is quite high level $\\Rightarrow$ well suited for abstraction and composition (**structure**)."
   ]
  },
  {
   "cell_type": "markdown",
   "metadata": {
    "slideshow": {
     "slide_type": "slide"
    }
   },
   "source": [
    "## Programming Language Expressiveness\n",
    "* So what language features are needed to express all computable functions?\n",
    "  + *What's the minimal language that is Turing Complete?*\n",
    "* Observe that many features that we have seen in this class were syntactic sugar\n",
    "  + **Multi-argument functions** - simulate using partial application\n",
    "  + **For loop, while loop** - simulate using recursive functions\n",
    "  + **Mutable heaps** - simulate using functional maps and pass around. "
   ]
  },
  {
   "cell_type": "markdown",
   "metadata": {
    "slideshow": {
     "slide_type": "fragment"
    }
   },
   "source": [
    "<center>\n",
    "\n",
    "<h3 style=\"text-align:center\"> All you need is <strike> Love</strike> <i> Functions.</i> </h1>\n",
    "</center>"
   ]
  },
  {
   "cell_type": "markdown",
   "metadata": {
    "slideshow": {
     "slide_type": "slide"
    }
   },
   "source": [
    "## Lambda Calculus : Syntax\n",
    "\n",
    "\\\\[\n",
    "\\begin{array}{rcll}\n",
    "e & ::=  & x & \\text{(Variable)} \\\\\n",
    "  & \\mid & \\lambda x.e & \\text{(Abstraction)} \\\\\n",
    "  & \\mid & e~e & \\text{(Application)}\n",
    "\\end{array}\n",
    "\\\\]"
   ]
  },
  {
   "cell_type": "markdown",
   "metadata": {
    "slideshow": {
     "slide_type": "fragment"
    }
   },
   "source": [
    "* This grammar describes ASTs; not for parsing (ambiguous!)\n",
    "* Lambda expressions are also known as lambda **terms**\n",
    "* $\\lambda x.e$ is like `fun x -> e`"
   ]
  },
  {
   "cell_type": "markdown",
   "metadata": {
    "slideshow": {
     "slide_type": "fragment"
    }
   },
   "source": [
    "<center>\n",
    "    \n",
    "<h2 style=\"text-align:center\"> That's it! Nothing but higher order functions </h2>\n",
    "</center>"
   ]
  },
  {
   "cell_type": "markdown",
   "metadata": {
    "slideshow": {
     "slide_type": "slide"
    }
   },
   "source": [
    "## Why Study Lambda Calculus?\n",
    "\n",
    "* It is a \"core\" language\n",
    "  + Very small but still Turing complete\n",
    "* But with it can explore general ideas\n",
    "  + Language features, semantics, proof systems, algorithms, ...\n",
    "* Plus, higher-order, anonymous functions (aka lambdas) are now very popular!\n",
    "  + C++ (C++11), PHP (PHP 5.3.0), C# (C# v2.0), Delphi (since 2009), Objective C, Java 8, Swift, Python, Ruby (Procs), ...\n",
    "  + and functional languages like OCaml, Haskell, F#, ..."
   ]
  },
  {
   "cell_type": "markdown",
   "metadata": {
    "slideshow": {
     "slide_type": "slide"
    }
   },
   "source": [
    "## Two Conventions\n",
    "\n",
    "1. Scope of $\\lambda$ extends as far right as possible\n",
    "  + Subject to scope delimited by parentheses\n",
    "  + $\\lambda x. \\lambda y.x~y~$ is the same as $\\lambda x.(\\lambda y.(x~y))$"
   ]
  },
  {
   "cell_type": "markdown",
   "metadata": {
    "slideshow": {
     "slide_type": "fragment"
    }
   },
   "source": [
    "2. Function Application is left-associative\n",
    "  + `x y z` is `(x y) z`\n",
    "  + Same rule as OCaml"
   ]
  },
  {
   "cell_type": "markdown",
   "metadata": {
    "slideshow": {
     "slide_type": "slide"
    }
   },
   "source": [
    "## Lambda calculus interpreter in OCaml\n",
    "\n",
    "* In Assignment 2, you will be implementing a lambda calculus interpreter in OCaml.\n",
    "* What is the Abstract Syntax Tree (AST)?\n",
    "\n",
    "```ocaml\n",
    "type expr = \n",
    "  | Var of string\n",
    "  | Lam of string * expr\n",
    "  | App of expr * expr\n",
    "```"
   ]
  },
  {
   "cell_type": "markdown",
   "metadata": {
    "slideshow": {
     "slide_type": "slide"
    }
   },
   "source": [
    "## Lambda expressions in OCaml\n",
    "\n",
    "* $y~$ is `Var \"y\"`\n",
    "* $\\lambda x.x~$ is `Lam (\"x\", Var \"x\")`\n",
    "* $\\lambda x. \\lambda y.x ~y~$ is `Lam (\"x\",(Lam(\"y\",App (Var \"x\", Var \"y\"))))`\n",
    "* $(\\lambda x.\\lambda y.x ~y) ~(\\lambda x.x ~x~)$ is\n",
    "\n",
    "```ocaml\n",
    "App\n",
    "  (Lam (\"x\", Lam (\"y\",App (Var \"x\", Var \"y\"))),\n",
    "   Lam (\"x\", App (Var \"x\", Var \"x\")))\n",
    "```"
   ]
  },
  {
   "cell_type": "code",
   "execution_count": 2,
   "metadata": {
    "slideshow": {
     "slide_type": "slide"
    }
   },
   "outputs": [
    {
     "name": "stdout",
     "output_type": "stream",
     "text": [
      "val parse : string -> Syntax.expr = <fun>\n",
      "val free_variables : string -> Eval.SS.elt list = <fun>\n",
      "val substitute : string -> string -> string -> string = <fun>\n"
     ]
    }
   ],
   "source": [
    "#use \"init.ml\";;"
   ]
  },
  {
   "cell_type": "code",
   "execution_count": null,
   "metadata": {},
   "outputs": [],
   "source": [
    "parse \"y\";;\n",
    "parse \"λx.x\";;\n",
    "parse \"\\\\x.\\\\y.x y\";;\n",
    "parse \"(\\\\x.\\\\y.x y) (\\\\x. x x)\";;"
   ]
  },
  {
   "cell_type": "markdown",
   "metadata": {
    "slideshow": {
     "slide_type": "slide"
    }
   },
   "source": [
    "## Quiz 1\n",
    "\n",
    "$\\lambda x.(y ~z)$ and $\\lambda x.y ~z$ are equivalent.\n",
    "\n",
    "1. True\n",
    "2. False"
   ]
  },
  {
   "cell_type": "markdown",
   "metadata": {
    "slideshow": {
     "slide_type": "slide"
    }
   },
   "source": [
    "## Quiz 1\n",
    "\n",
    "$\\lambda x.(y ~z)$ and $\\lambda x.y ~z$ are equivalent.\n",
    "\n",
    "1. True ✅\n",
    "2. False"
   ]
  },
  {
   "cell_type": "markdown",
   "metadata": {
    "slideshow": {
     "slide_type": "slide"
    }
   },
   "source": [
    "## Quiz 2\n",
    "\n",
    "What is this term’s AST? $\\lambda x.x ~x$\n",
    "\n",
    "1. `App (Lam (\"x\", Var \"x\"), Var \"x\")`\n",
    "2. `Lam (Var \"x\", Var \"x\", Var \"x\")`\n",
    "3. `Lam (\"x\", App (Var \"x\", Var \"x\"))`\n",
    "4. `App (Lam (\"x\", App (\"x\", \"x\")))`"
   ]
  },
  {
   "cell_type": "markdown",
   "metadata": {
    "slideshow": {
     "slide_type": "slide"
    }
   },
   "source": [
    "## Quiz 2\n",
    "\n",
    "What is this term’s AST? $\\lambda x.x ~x$\n",
    "\n",
    "1. `App (Lam (\"x\", Var \"x\"), Var \"x\")`\n",
    "2. `Lam (Var \"x\", Var \"x\", Var \"x\")`\n",
    "3. `Lam (\"x\", App (Var \"x\", Var \"x\"))` ✅\n",
    "4. `App (Lam (\"x\", App (\"x\", \"x\")))`"
   ]
  },
  {
   "cell_type": "markdown",
   "metadata": {
    "slideshow": {
     "slide_type": "slide"
    }
   },
   "source": [
    "## Quiz 3\n",
    "\n",
    "This term is equivalent to which of the following?\n",
    "\n",
    "$\\lambda x.x ~a ~b$\n",
    "\n",
    "1. $(\\lambda x.x) ~(a ~b)$\n",
    "2. $(((\\lambda x.x) ~a) ~b)$\n",
    "3. $\\lambda x.(x ~(a ~b))$\n",
    "4. $\\lambda x.((x ~a) ~b)$"
   ]
  },
  {
   "cell_type": "markdown",
   "metadata": {
    "slideshow": {
     "slide_type": "slide"
    }
   },
   "source": [
    "## Quiz 3\n",
    "\n",
    "This term is equivalent to which of the following?\n",
    "\n",
    "$\\lambda x.x ~a ~b$\n",
    "\n",
    "1. $(\\lambda x.x) ~(a ~b)$\n",
    "2. $(((\\lambda x.x) ~a) ~b)$\n",
    "3. $\\lambda x.(x ~(a ~b))$\n",
    "4. $(\\lambda x.((x ~a) ~b))$ ✅"
   ]
  },
  {
   "cell_type": "markdown",
   "metadata": {
    "slideshow": {
     "slide_type": "slide"
    }
   },
   "source": [
    "## Free Variables\n",
    "\n",
    "In\n",
    "\n",
    "```ocaml\n",
    "λx. x y\n",
    "```\n",
    "\n",
    "* The first `x` is the binder. \n",
    "* The second `x` is a **bound** variable.\n",
    "* The `y` is a **free** variable."
   ]
  },
  {
   "cell_type": "markdown",
   "metadata": {
    "slideshow": {
     "slide_type": "slide"
    }
   },
   "source": [
    "## Free Variables\n",
    "\n",
    "Let $FV(t)$ denote the free variables in a term $t$. \n",
    "\n",
    "We can define $FV(t)$ inductively over the definition of terms as follows:\n",
    "\n",
    "\\\\[\n",
    "\\begin{array}{rcl}\n",
    "FV(x) & = & \\{x\\} \\\\\n",
    "FV(\\lambda x.t_1) & = & FV(t_1) \\setminus \\{x\\} \\\\\n",
    "FV(t_1 ~t_2) & = & FV(t_1) ~\\cup~ FV(t_2)\n",
    "\\end{array}\n",
    "\\\\]\n",
    "\n",
    "If $FV(t) = \\emptyset$ then we say that $t$ is a **closed** term.\n",
    "\n",
    "$\n",
    "\\newcommand{\\cg}[1]{\\color{green}{#1}}\n",
    "\\newcommand{\\cr}[1]{\\color{red}{#1}}\n",
    "\\newcommand{\\cb}[1]{\\color{blue}{#1}}\n",
    "$"
   ]
  },
  {
   "cell_type": "markdown",
   "metadata": {
    "slideshow": {
     "slide_type": "slide"
    }
   },
   "source": [
    "## Quiz 4\n",
    "\n",
    "What are the free variables in the following?\n",
    "\n",
    "1. $\\lambda x.x ~(\\lambda y. y)$\n",
    "2. $x ~y ~z$\n",
    "3. $\\lambda x. (\\lambda y. y) ~x ~y$\n",
    "4. $\\lambda x. (\\lambda y. x) ~y$"
   ]
  },
  {
   "cell_type": "markdown",
   "metadata": {
    "slideshow": {
     "slide_type": "slide"
    }
   },
   "source": [
    "## Quiz 4\n",
    "\n",
    "What are the free variables in the following?\n",
    "\n",
    "$\n",
    "\\begin{array}{ll}\n",
    "1. ~\\lambda x.x ~(\\lambda y. y) & \\{\\} \\\\\n",
    "2. ~\\cr{x ~y ~z} & \\{x,y,z\\} \\\\\n",
    "3. ~\\lambda x. (\\lambda y. y) ~x ~\\cr{y} & \\{y\\} \\\\\n",
    "4. ~\\lambda x. (\\lambda y. x) ~\\cr{y} & \\{y\\}\n",
    "\\end{array}\n",
    "$"
   ]
  },
  {
   "cell_type": "code",
   "execution_count": 3,
   "metadata": {
    "slideshow": {
     "slide_type": "slide"
    }
   },
   "outputs": [
    {
     "data": {
      "text/plain": [
       "- : Eval.SS.elt list = []\n"
      ]
     },
     "execution_count": 3,
     "metadata": {},
     "output_type": "execute_result"
    },
    {
     "data": {
      "text/plain": [
       "- : Eval.SS.elt list = [\"x\"; \"y\"; \"z\"]\n"
      ]
     },
     "execution_count": 3,
     "metadata": {},
     "output_type": "execute_result"
    },
    {
     "data": {
      "text/plain": [
       "- : Eval.SS.elt list = [\"y\"]\n"
      ]
     },
     "execution_count": 3,
     "metadata": {},
     "output_type": "execute_result"
    },
    {
     "data": {
      "text/plain": [
       "- : Eval.SS.elt list = [\"y\"]\n"
      ]
     },
     "execution_count": 3,
     "metadata": {},
     "output_type": "execute_result"
    }
   ],
   "source": [
    "free_variables \"\\\\x.x (\\\\y. y)\";;\n",
    "free_variables \"x y z\";;\n",
    "free_variables \"\\\\x.(\\\\y. y) x y\";;\n",
    "free_variables \"\\\\x.(\\\\y.x) y\";;"
   ]
  },
  {
   "cell_type": "markdown",
   "metadata": {
    "slideshow": {
     "slide_type": "slide"
    }
   },
   "source": [
    "# $\\alpha$-equivalence\n",
    "\n",
    "Lambda calculus uses **static scoping** (just like OCaml)\n",
    "\n",
    "\\\\[\n",
    "\\lambda \\cg{x}. \\cg{x} ~(\\lambda \\cr{x}. \\cr{x})\n",
    "\\\\]"
   ]
  },
  {
   "cell_type": "markdown",
   "metadata": {
    "slideshow": {
     "slide_type": "fragment"
    }
   },
   "source": [
    "This is equivalent to:\n",
    "\n",
    "\\\\[\n",
    "\\lambda \\cg{x}. \\cg{x} ~(\\lambda \\cr{y}. \\cr{y})\n",
    "\\\\]\n",
    "\n",
    "* Renaming bound variables consistently preserves meaning\n",
    "  + This is called as **𝛼-renaming** or **𝛼-conversion**.\n",
    "* If a term $t_1$ is obtained by 𝛼-renaming another term $t_2$ then $t_1$ and $t_2$ are said to be **𝛼-equivalent**."
   ]
  },
  {
   "cell_type": "markdown",
   "metadata": {
    "slideshow": {
     "slide_type": "slide"
    }
   },
   "source": [
    "## Quiz 5\n",
    "\n",
    "Which of the following equivalences hold?\n",
    "\n",
    "1. $\\lambda x. x ~(\\lambda y. y) ~y =_{\\alpha} \\lambda y. y ~(\\lambda x. x) ~x$\n",
    "2. $\\lambda x. x ~(\\lambda y. y) ~y =_{\\alpha} \\lambda y. y ~(\\lambda x. x) ~y$\n",
    "3. $\\lambda x. x ~(\\lambda y. y) ~y =_{\\alpha} \\lambda w. w ~(\\lambda w. w) ~y$"
   ]
  },
  {
   "cell_type": "markdown",
   "metadata": {
    "slideshow": {
     "slide_type": "slide"
    }
   },
   "source": [
    "## Quiz 5\n",
    "\n",
    "Which of the following equivalences hold?\n",
    "\n",
    "1. $\\lambda x. x ~(\\lambda y. y) ~y =_{\\alpha} \\lambda y. y ~(\\lambda x. x) ~x~$   ❌\n",
    "2. $\\lambda x. x ~(\\lambda y. y) ~y =_{\\alpha} \\lambda y. y ~(\\lambda x. x) ~y~$   ❌\n",
    "3. $\\lambda x. x ~(\\lambda y. y) ~y =_{\\alpha} \\lambda w. w ~(\\lambda w. w) ~y~$   ✅"
   ]
  },
  {
   "cell_type": "markdown",
   "metadata": {
    "slideshow": {
     "slide_type": "slide"
    }
   },
   "source": [
    "## Substitution\n",
    "\n",
    "* In order to formally define $\\alpha$-equivalence, we need to define **substitutions**.\n",
    "* Substitution replaces **free** occurrences of a variable $x$ with a lambda term $N$ in some other term $M$. \n",
    "  + We write it as $M[N/x]$. (read \"N for x in M\")."
   ]
  },
  {
   "cell_type": "markdown",
   "metadata": {
    "slideshow": {
     "slide_type": "fragment"
    }
   },
   "source": [
    "For example,\n",
    "\n",
    "\\\\[\n",
    "(\\lambda x.x ~y)[(\\lambda z.z)/y] = \\lambda x.x ~(\\lambda z.z)\n",
    "\\\\]"
   ]
  },
  {
   "cell_type": "markdown",
   "metadata": {
    "slideshow": {
     "slide_type": "slide"
    }
   },
   "source": [
    "<h4> Substitution is quite subtle. So we will start with our intuitions and see how things break and finally work up to the correct definition. <h4>"
   ]
  },
  {
   "cell_type": "markdown",
   "metadata": {
    "slideshow": {
     "slide_type": "slide"
    }
   },
   "source": [
    "## Substitution: Take 1\n",
    "\n",
    "\\\\[\n",
    "\\begin{array}{rcll}\n",
    "x[s/x] & = & s \\\\\n",
    "y[s/x] & = & y & \\text{if } x \\neq y\\\\\n",
    "(\\lambda y.t_1)[s/x] & = & \\lambda y.t_1[s/x] \\\\\n",
    "(t_1 ~t_2)[s/x] & = & (t_1[s/x]) ~(t_2[s/x])\n",
    "\\end{array}\n",
    "\\\\]"
   ]
  },
  {
   "cell_type": "markdown",
   "metadata": {
    "slideshow": {
     "slide_type": "fragment"
    }
   },
   "source": [
    "This definition works for most examples. For example,\n",
    "\n",
    "\\\\[\n",
    "(\\lambda y.x)[(\\lambda z.z~w)/x] = \\lambda y.\\lambda z.z ~w\n",
    "\\\\]"
   ]
  },
  {
   "cell_type": "markdown",
   "metadata": {
    "slideshow": {
     "slide_type": "slide"
    }
   },
   "source": [
    "## Substitution: Take 1\n",
    "\n",
    "\\\\[\n",
    "\\begin{array}{rcll}\n",
    "x[s/x] & = & s \\\\\n",
    "y[s/x] & = & y & \\text{if } x \\neq y\\\\\n",
    "(\\lambda y.t_1)[s/x] & = & \\lambda y.t_1[s/x] \\\\\n",
    "(t_1 ~t_2)[s/x] & = & (t_1[s/x]) ~(t_2[s/x])\n",
    "\\end{array}\n",
    "\\\\]\n",
    "\n",
    "However, it fails if the substitution is on the bound variable:\n",
    "\n",
    "\\\\[\n",
    "(\\lambda x.x)[y/x] = \\lambda x.y\n",
    "\\\\]\n",
    "\n",
    "The **identity** function has become a **constant** function!"
   ]
  },
  {
   "cell_type": "markdown",
   "metadata": {
    "slideshow": {
     "slide_type": "slide"
    }
   },
   "source": [
    "## Substitution: Take 1\n",
    "\n",
    "\\\\[\n",
    "(\\lambda x.x)[y/x] = \\lambda x.y\n",
    "\\\\]\n",
    "\n",
    "The **identity** function has become a **constant** function. Why is this undesirable? Two ways to think about this:\n",
    "\n",
    "1. Variable names are immaterial, hence $\\lambda x.x$ is equivalent to $\\lambda z.z$. \n",
    "  * Hence, $\\lambda x.x[y/x]$ should be equivalent to $\\lambda z.z[y/x]$. \n",
    "  * We know that the latter is simply $\\lambda z.z$, so the former should also be $\\lambda x.x$\n",
    "\n",
    "2. Consider simplifying the following lambda expression: $(\\lambda x. \\lambda x. x) y$. \n",
    "  * According to our scoping convention, $x$ in the body is bound to the inner $x$-binder. \n",
    "  * $(\\lambda x. \\lambda x. x) y$ would simplify to $(\\lambda x.x)[y/x]$.\n",
    "  * We should not substitute $x$ in the body, because it was not bound to the outer $x$-binder. Hence,$(\\lambda x.x)[y/x]$ should remain $\\lambda x.x$"
   ]
  },
  {
   "cell_type": "markdown",
   "metadata": {
    "slideshow": {
     "slide_type": "slide"
    }
   },
   "source": [
    "## Substitution: Take 2\n",
    "\n",
    "\\\\[\n",
    "\\begin{array}{rcll}\n",
    "x[s/x] & = & s \\\\\n",
    "y[s/x] & = & y & \\text{if } x \\neq y\\\\\n",
    "(\\lambda x.t_1)[s/x] & = & \\lambda x.t_1\\\\\n",
    "(\\lambda y.t_1)[s/x] & = & \\lambda y.t_1[s/x] & \\text{if } x \\neq y\\\\\n",
    "(t_1 ~t_2)[s/x] & = & (t_1[s/x]) ~(t_2[s/x])\n",
    "\\end{array}\n",
    "\\\\]"
   ]
  },
  {
   "cell_type": "markdown",
   "metadata": {
    "slideshow": {
     "slide_type": "slide"
    }
   },
   "source": [
    "However, this is not quite right. For example,\n",
    "\n",
    "\\\\[\n",
    "(\\lambda y.x)[y/x] = \\lambda y.y\n",
    "\\\\]\n",
    "\n",
    "* The **constant** function has become a **identity** function.\n",
    "* The problem here is that the free $y$ gets **captured** by the binder $y$."
   ]
  },
  {
   "cell_type": "markdown",
   "metadata": {
    "slideshow": {
     "slide_type": "slide"
    }
   },
   "source": [
    "## Substitution: Take 2\n",
    "\n",
    "Why is this undesirable? Two ways to think about this:\n",
    "\n",
    "1. Variable names are immaterial, hence $\\lambda y.x$ is equivalent to $\\lambda z.x$. \n",
    "  * Hence, $\\lambda y.x[y/x]$ should be equivalent to $\\lambda z.x[y/x]$. \n",
    "  * We know that the latter is simply $\\lambda z.y$, so the former should cannot become $\\lambda y.y$. \n",
    "\n",
    "2. Consider simplifying the following lambda expression: $\\lambda y. ((\\lambda x. \\lambda y. x) y)$. \n",
    "  * According to our scoping convention, $y$ in the body is bound to the outer $y$-binder (since the body of the innter $y$-binder is explicitly ended by the brackets) \n",
    "  * The body, $(\\lambda x. \\lambda y. x) y$ would simplify to $(\\lambda y.x)[y/x]$. Hence, the whole term becomes $\\lambda y.(\\lambda y.x)[y/x]$\n",
    "  * We should not substitute $x$ in the body with $y$, because otherwise it would become bound to the inner $y$, but we know it is bound to the outer $y$."
   ]
  },
  {
   "cell_type": "markdown",
   "metadata": {
    "slideshow": {
     "slide_type": "slide"
    }
   },
   "source": [
    "## Substitution: Take 3\n",
    "\n",
    "Capture-avoiding substitution\n",
    "\n",
    "\\\\[\n",
    "\\begin{array}{rcll}\n",
    "x[s/x] & = & s \\\\\n",
    "y[s/x] & = & y & \\text{if } x \\neq y\\\\\n",
    "(\\lambda x.t_1)[s/x] & = & \\lambda x.t_1\\\\\n",
    "(\\lambda y.t_1)[s/x] & = & \\lambda y.t_1[s/x] & \\text{if } x \\neq y \\text{ and } y \\notin FV(s)\\\\\n",
    "(t_1 ~t_2)[s/x] & = & (t_1[s/x]) ~(t_2[s/x])\n",
    "\\end{array}\n",
    "\\\\]"
   ]
  },
  {
   "cell_type": "markdown",
   "metadata": {
    "slideshow": {
     "slide_type": "fragment"
    }
   },
   "source": [
    "* Unfortunately, this made substitution a partial function\n",
    "  + There is no valid rule for $(\\lambda y.x)[y/x]$"
   ]
  },
  {
   "cell_type": "markdown",
   "metadata": {
    "slideshow": {
     "slide_type": "slide"
    }
   },
   "source": [
    "## Substitution: Take 4\n",
    "\n",
    "Capture-avoiding substitution + totality\n",
    "\n",
    "\\\\[\n",
    "\\begin{array}{rcll}\n",
    "x[s/x] & = & s \\\\\n",
    "y[s/x] & = & y & \\text{if } x \\neq y\\\\\n",
    "(\\lambda x.t_1)[s/x] & = & \\lambda x.t_1\\\\\n",
    "(\\lambda y.t_1)[s/x] & = & \\lambda y.t_1[s/x] & \\text{if } x \\neq y \\text{ and } y \\notin FV(s)\\\\\n",
    "(\\lambda y.t_1)[s/x] & = & \\lambda w.t_1[w/y][s/x] & \\text{if } x \\neq y \\text{ and } y \\in FV(s) \\text { and } w \\text{ is fresh}\\\\\n",
    "(t_1 ~t_2)[s/x] & = & (t_1[s/x]) ~(t_2[s/x])\n",
    "\\end{array}\n",
    "\\\\]\n",
    "\n",
    "* A **fresh** binder is different from every other binder in use **(generativity)**.\n",
    "* In the case above, \n",
    "\n",
    "\\\\[\n",
    "w \\text{ is fresh } \\equiv w \\notin FV(t_1) \\cup FV(s) \\cup \\{x\\}\n",
    "\\\\]"
   ]
  },
  {
   "cell_type": "markdown",
   "metadata": {
    "slideshow": {
     "slide_type": "fragment"
    }
   },
   "source": [
    "Now our example works out:\n",
    "\n",
    "\\\\[\n",
    "(\\lambda y.x)[y/x] = \\lambda w.y\n",
    "\\\\]"
   ]
  },
  {
   "cell_type": "markdown",
   "metadata": {
    "slideshow": {
     "slide_type": "slide"
    }
   },
   "source": [
    "## Substitution: Take 4\n",
    "\\\\[\n",
    "\\begin{array}{rcll}\n",
    "(\\lambda y.t_1)[s/x] & = & \\lambda w.t_1[w/y][s/x] & \\text{if } x \\neq y \\text{ and } y \\in FV(s) \\text { and } w \\text{ is fresh}\n",
    "\\end{array}\n",
    "\\\\]\n",
    "\n",
    "Why do we need the following condition?\n",
    "\n",
    "\\\\[\n",
    "w \\text{ is fresh } \\equiv w \\notin FV(t_1) \\cup FV(s) \\cup \\{x\\}\n",
    "\\\\]\n"
   ]
  },
  {
   "cell_type": "markdown",
   "metadata": {
    "slideshow": {
     "slide_type": "fragment"
    }
   },
   "source": [
    "* Counterexample for $w = x$?"
   ]
  },
  {
   "cell_type": "markdown",
   "metadata": {
    "slideshow": {
     "slide_type": "fragment"
    }
   },
   "source": [
    "  + $(\\lambda y.y)[y/x]$ becomes $\\lambda x. y[x/y][y/x] = \\lambda x.y$, which is incorrect"
   ]
  },
  {
   "cell_type": "markdown",
   "metadata": {
    "slideshow": {
     "slide_type": "slide"
    }
   },
   "source": [
    "## Substitution: Take 4\n",
    "\\\\[\n",
    "\\begin{array}{rcll}\n",
    "(\\lambda y.t_1)[s/x] & = & \\lambda w.t_1[w/y][s/x] & \\text{if } x \\neq y \\text{ and } y \\in FV(s) \\text { and } w \\text{ is fresh}\n",
    "\\end{array}\n",
    "\\\\]\n",
    "\n",
    "Why do we need the following condition?\n",
    "\n",
    "\\\\[\n",
    "w \\text{ is fresh } \\equiv w \\notin FV(t_1) \\cup FV(s) \\cup \\{x\\}\n",
    "\\\\]\n"
   ]
  },
  {
   "cell_type": "markdown",
   "metadata": {
    "slideshow": {
     "slide_type": "fragment"
    }
   },
   "source": [
    "* Counterexample for $w \\in FV(t_1)$?"
   ]
  },
  {
   "cell_type": "markdown",
   "metadata": {
    "slideshow": {
     "slide_type": "fragment"
    }
   },
   "source": [
    "  + $(\\lambda y.w)[y/x]$ becomes $\\lambda w. w[w/y][y/x] = \\lambda w.w$, which is incorrect"
   ]
  },
  {
   "cell_type": "markdown",
   "metadata": {
    "slideshow": {
     "slide_type": "slide"
    }
   },
   "source": [
    "## Substitution: Take 4\n",
    "\\\\[\n",
    "\\begin{array}{rcll}\n",
    "(\\lambda y.t_1)[s/x] & = & \\lambda w.t_1[w/y][s/x] & \\text{if } x \\neq y \\text{ and } y \\in FV(s) \\text { and } w \\text{ is fresh}\n",
    "\\end{array}\n",
    "\\\\]\n",
    "\n",
    "Why do we need the following condition?\n",
    "\n",
    "\\\\[\n",
    "w \\text{ is fresh } \\equiv w \\notin FV(t_1) \\cup FV(s) \\cup \\{x\\}\n",
    "\\\\]\n"
   ]
  },
  {
   "cell_type": "markdown",
   "metadata": {
    "slideshow": {
     "slide_type": "fragment"
    }
   },
   "source": [
    "* Counterexample for $w \\in FV(s)$?"
   ]
  },
  {
   "cell_type": "markdown",
   "metadata": {
    "slideshow": {
     "slide_type": "fragment"
    }
   },
   "source": [
    "  + $(\\lambda y.x)[w/x]$ becomes $\\lambda w. x[w/y][w/x] = \\lambda w.w$, which is incorrect"
   ]
  },
  {
   "cell_type": "code",
   "execution_count": null,
   "metadata": {
    "slideshow": {
     "slide_type": "slide"
    }
   },
   "outputs": [],
   "source": [
    "substitute \"\\\\y.x\" \"x\" \"\\\\z.z w\""
   ]
  },
  {
   "cell_type": "code",
   "execution_count": null,
   "metadata": {},
   "outputs": [],
   "source": [
    "substitute \"\\\\x.x\" \"x\" \"y\""
   ]
  },
  {
   "cell_type": "code",
   "execution_count": null,
   "metadata": {},
   "outputs": [],
   "source": [
    "substitute \"\\\\y.x\" \"x\" \"y\""
   ]
  },
  {
   "cell_type": "markdown",
   "metadata": {
    "slideshow": {
     "slide_type": "slide"
    }
   },
   "source": [
    "## $\\alpha$-equivalence formally\n",
    "\n",
    "$=_{\\alpha}$ is an equivalence (reflexive, transitive, symmetric) relation such that:\n",
    "\n",
    "$\n",
    "\\newcommand{\\inferrule}[2]{\\displaystyle{\\frac{#1}{#2}}}\n",
    "$\n",
    "\n",
    "\\\\[\n",
    "\\begin{array}{cc}\n",
    "\\inferrule{}{x =_{\\alpha} x} \\quad & \\quad \\inferrule{M =_{\\alpha} M' \\quad N =_{\\alpha} N'}{M ~N =_{\\alpha} M' ~N'}\n",
    "\\end{array}\n",
    "\\\\]\n",
    "\n",
    "<br>\n",
    "\n",
    "\\\\[\n",
    "\\inferrule{z \\notin FV(M) \\cup FV(N) \\quad M[z/x] =_{\\alpha} N[z/y]}{\\lambda x.M =_{\\alpha} \\lambda y.N}\n",
    "\\\\]"
   ]
  },
  {
   "cell_type": "markdown",
   "metadata": {
    "slideshow": {
     "slide_type": "slide"
    }
   },
   "source": [
    "## Quiz 5\n",
    "\n",
    "Which of the following equivalences hold?\n",
    "\n",
    "1. $\\lambda x. x ~(\\lambda y. y) ~y =_{\\alpha} \\lambda y. y ~(\\lambda x. x) ~x$\n",
    "2. $\\lambda x. x ~(\\lambda y. y) ~y =_{\\alpha} \\lambda y. y ~(\\lambda x. x) ~y$\n",
    "3. $\\lambda x. x ~(\\lambda y. y) ~y =_{\\alpha} \\lambda w. w ~(\\lambda w. w) ~y$"
   ]
  },
  {
   "cell_type": "markdown",
   "metadata": {
    "slideshow": {
     "slide_type": "slide"
    }
   },
   "source": [
    "\\\\[\n",
    "\\inferrule{z \\notin FV(M) \\cup FV(N) \\quad M[z/x] =_{\\alpha} N[z/y]}{\\lambda x.M =_{\\alpha} \\lambda y.N}\n",
    "\\\\]\n",
    "\n",
    "Why do we require $z \\notin FV(M) \\cup FV(N)$ in the above rule?\n"
   ]
  },
  {
   "cell_type": "markdown",
   "metadata": {
    "slideshow": {
     "slide_type": "fragment"
    }
   },
   "source": [
    "* Counterexample for $z \\in FV(M)$?"
   ]
  },
  {
   "cell_type": "markdown",
   "metadata": {
    "slideshow": {
     "slide_type": "fragment"
    }
   },
   "source": [
    "  + Consider the terms $\\lambda x.z$ and $\\lambda y.y$. Clearly not $\\alpha-$equivalent, but $z[z/x] =_{\\alpha} y[z/y]$"
   ]
  },
  {
   "cell_type": "markdown",
   "metadata": {
    "slideshow": {
     "slide_type": "slide"
    }
   },
   "source": [
    "## Convention\n",
    "\n",
    "From now on, \n",
    "\n",
    "* Unless stated otherwise, we identify lambda terms up to α-equivalence.\n",
    "  + when we speak of lambda terms being **equal**, we mean that they are α-equivalent"
   ]
  }
 ],
 "metadata": {
  "celltoolbar": "Slideshow",
  "kernelspec": {
   "display_name": "OCaml 4.10",
   "language": "OCaml",
   "name": "ocaml-jupyter"
  },
  "language_info": {
   "codemirror_mode": "text/x-ocaml",
   "file_extension": ".ml",
   "mimetype": "text/x-ocaml",
   "name": "OCaml",
   "nbconverter_exporter": null,
   "pygments_lexer": "OCaml",
   "version": "4.10.0"
  }
 },
 "nbformat": 4,
 "nbformat_minor": 2
}
