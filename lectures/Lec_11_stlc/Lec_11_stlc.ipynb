{
 "cells": [
  {
   "cell_type": "markdown",
   "metadata": {
    "slideshow": {
     "slide_type": "slide"
    }
   },
   "source": [
    "<center> \n",
    "\n",
    "<h1 style=\"text-align:center\"> Simply Typed Lambda Calculus </h1>\n",
    "</center>"
   ]
  },
  {
   "cell_type": "markdown",
   "metadata": {
    "slideshow": {
     "slide_type": "slide"
    }
   },
   "source": [
    "## Need for typing\n",
    "\n",
    "* Consider the untyped lambda calculus\n",
    "  + false = `λt.λf.f` ($=_\\alpha$ `λx.λy.y`)\n",
    "  + 0 = `λs.λz.z` ($=_\\alpha$ `λx.λy.y`)\n",
    "* Since everything is encoded as a function...\n",
    "  + We can easily misuse terms…\n",
    "    * add 1 false\n",
    "    * if 0 then ...\n",
    "  + …because everything evaluates to some function\n",
    "* The same thing happens in assembly language\n",
    "  + Everything is a machine word (a bunch of bits)\n",
    "  + All operations take machine words to machine words"
   ]
  },
  {
   "cell_type": "markdown",
   "metadata": {
    "slideshow": {
     "slide_type": "slide"
    }
   },
   "source": [
    "## How to fix these errors?\n",
    "\n",
    "<center>\n",
    "\n",
    "<h1 style=\"text-align:center\"> <i> Typed </i> Lambda Calculus </h1>\n",
    "</center>\n",
    "\n",
    "$\\newcommand{\\stlc}{\\lambda^{\\rightarrow}}$\n",
    "\n",
    "* Lambda Calculus + Types is called Simply Typed Lambda Calculus ($\\stlc$)"
   ]
  },
  {
   "cell_type": "markdown",
   "metadata": {
    "slideshow": {
     "slide_type": "slide"
    }
   },
   "source": [
    "## Simple Types\n",
    "\n",
    "\\\\[\n",
    "\\begin{array}{rcll}\n",
    "A,B & ≔ & \\mathcal{B} & \\text{(base type)} \\\\\n",
    "    & \\mid & A \\rightarrow B & \\text{(functions)} \\\\\n",
    "    & \\mid & A \\times B & \\text{(products)} \\\\\n",
    "    & \\mid & 1 & \\text{(unit)} \\\\\n",
    "\\end{array}\n",
    "\\\\]\n",
    "\n",
    "* $\\mathcal{B}$ is base types like int, bool, etc.\n",
    "* $\\times$ binds stronger than $\\rightarrow$\n",
    "  + $A \\times B \\rightarrow C~$ is $~(A \\times B) \\rightarrow C$\n",
    "* $\\rightarrow$ is right associative.\n",
    "  + $A \\rightarrow B \\rightarrow C~$ is $~A \\rightarrow (B \\rightarrow C)$\n",
    "  + Same as OCaml\n",
    "  \n",
    "* If we include neither base types nor $1$, the system is degenerate. Why?\n",
    "  + Degenerate = No inhabitant. "
   ]
  },
  {
   "cell_type": "markdown",
   "metadata": {
    "slideshow": {
     "slide_type": "slide"
    }
   },
   "source": [
    "## Raw Terms\n",
    "\n",
    "$\n",
    "\\require{color}\n",
    "\\newcommand{\\cr}[1]{{\\color{\\red}{#1}}}\n",
    "\\newcommand{\\pair}[2]{\\langle #1, #2 \\rangle}\n",
    "\\newcommand{\\fst}[1]{{\\sf fst} ~#1}\n",
    "\\newcommand{\\snd}[1]{{\\sf snd} ~#1}\n",
    "\\newcommand{\\inl}[2]{{\\sf inl} ~[#1] ~#2}\n",
    "\\newcommand{\\inr}[2]{{\\sf inr} ~[#1] ~#2}\n",
    "\\newcommand{\\case}[5]{{\\sf match} ~#1~ {\\sf of} ~{\\sf inl}~#2 \\Rightarrow #3 ~|~ {\\sf inr}~#4 \\Rightarrow #5}\n",
    "\\newcommand{\\unitv}{{\\tt (~)}}\n",
    "\\newcommand{\\inferrule}[3]{\\displaystyle{\\frac{#1}{#2}~~{\\small #3}}}\n",
    "\\newcommand{\\infrl}[3]{\\displaystyle{\\frac{#1}{#2}}}\n",
    "\\newcommand{\\yb}[1]{\\colorbox{yellow}{$#1$}}\n",
    "\\newcommand{\\bb}[1]{\\colorbox{lightblue}{$#1$}}\n",
    "$\n",
    "\n",
    "\\\\[\n",
    "\\begin{array}{rcll}\n",
    "M,N & ≔ & x & \\text{(variable)} \\\\\n",
    "    & \\mid & M~N & \\text{(application)} \\\\\n",
    "    & \\mid & \\lambda x:A.M & \\text{(abstraction)}\\\\\n",
    "    & \\mid & \\pair{M}{N} & \\text{(pair)}\\\\\n",
    "    & \\mid & \\fst{M} & \\text{(project-1)}\\\\\n",
    "    & \\mid & \\snd{M} & \\text{(project-2)} \\\\\n",
    "    & \\mid & \\unitv & \\text{(unit)}\n",
    "\\end{array}\n",
    "\\\\]"
   ]
  },
  {
   "cell_type": "markdown",
   "metadata": {
    "slideshow": {
     "slide_type": "slide"
    }
   },
   "source": [
    "## Typing Judgements\n",
    "\n",
    "* $\\bb{M : A}$ means that the term $M$ has type $A$.\n",
    "* Typing rules are expressed in terms of **typing judgements**.\n",
    "* An expression of form $\\bb{x_1:A_1,x_2:A_2,\\ldots,x_n:A_n \\vdash M : A}$ means:\n",
    "  + Under the assumption $x_1:A_1,x_2:A_2,\\ldots,x_n:A_n$, $M$ has type $A$. \n",
    "  + Assumptions are  types for free variables in $M$.\n",
    "* Use $\\Gamma$ for assumptions.\n",
    "  + $\\bb{\\Gamma \\vdash M : A}$\n",
    "* Assume **no duplicates** in assumptions.\n",
    "  + alpha-convert to remove duplicate names."
   ]
  },
  {
   "cell_type": "markdown",
   "metadata": {
    "slideshow": {
     "slide_type": "slide"
    }
   },
   "source": [
    "## Typing Judgements : Examples\n",
    "\n",
    "\\\\[\n",
    "\\begin{array}{rcl}\n",
    "p:1\\times (1 \\rightarrow 1)                 & \\vdash & \\snd{p} : 1 \\rightarrow 1 \\\\\n",
    "                                            & \\vdash & \\langle \\unitv, \\unitv \\rangle : 1 \\times 1 \\\\\n",
    "f:(1 \\times 1) \\rightarrow 1, x: 1 \\times 1 & \\vdash & f~x : 1  \\\\\n",
    "                                            & \\vdash & (\\lambda x:1.~x) : 1 \\rightarrow 1 \\\\\n",
    "\\end{array}\n",
    "\\\\]\n",
    "\n"
   ]
  },
  {
   "cell_type": "markdown",
   "metadata": {
    "slideshow": {
     "slide_type": "slide"
    }
   },
   "source": [
    "## Quiz \n",
    "\n",
    "Given $\\bb{\\Gamma,x:A,y:B \\vdash M:C}$, which of the following is true? \n",
    "\n",
    "1. $M:C$ holds\n",
    "2. $x \\in \\Gamma$\n",
    "3. $y \\notin \\Gamma$\n",
    "4. $A$ and $B$ may be the same type\n",
    "5. $x$ and $y$ may be the same variable "
   ]
  },
  {
   "cell_type": "markdown",
   "metadata": {
    "slideshow": {
     "slide_type": "slide"
    }
   },
   "source": [
    "## Quiz \n",
    "\n",
    "Given $\\bb{\\Gamma,x:A,y:B \\vdash M:C}$ Which of the following is true? \n",
    "\n",
    "1. $M:C$ holds ❌ ($M$ may not be a closed term) \n",
    "2. $x \\in \\Gamma$ ❌ ($\\Gamma$ has no duplicates)\n",
    "3. $y \\notin \\Gamma$ ✅ ($\\Gamma$ has no duplicates)\n",
    "4. $A$ and $B$ may be the same type ✅ ($A$ and $B$ are type variables)\n",
    "5. $x$ and $y$ may be the same variable ❌($\\Gamma$ has no duplicates)"
   ]
  },
  {
   "cell_type": "markdown",
   "metadata": {
    "slideshow": {
     "slide_type": "slide"
    }
   },
   "source": [
    "## Typing rules for $\\stlc$\n",
    "\n",
    "\\\\[\n",
    "\\begin{array}{cc}\n",
    "\\inferrule{}{\\Gamma,x:A \\vdash x:A}{(var)} &\n",
    "\\inferrule{}{\\Gamma \\vdash \\unitv : 1}{(unit)} \\\\ \\\\\n",
    "\\inferrule{\\Gamma \\vdash M : A \\rightarrow B \\quad \\Gamma \\vdash N : A}{\\Gamma \\vdash M~N : B}{(\\rightarrow elim)} &\n",
    "\\inferrule{\\Gamma,x:A \\vdash M : B}{\\Gamma \\vdash \\lambda x:A.M : A \\rightarrow B}{(\\rightarrow intro)} \\\\ \\\\\n",
    "\\inferrule{\\Gamma \\vdash M : A \\times B}{\\Gamma \\vdash \\fst{M} : A}{(\\times ~elim1)} &\n",
    "\\inferrule{\\Gamma \\vdash M : A \\times B}{\\Gamma \\vdash \\snd{M} : B}{(\\times ~elim2)} \\\\ \\\\\n",
    "\\end{array}\n",
    "\\\\]\n",
    "\n",
    "\\\\[\n",
    "\\inferrule{\\Gamma \\vdash M : A \\quad \\Gamma \\vdash N : B}{\\Gamma \\vdash \\pair{M}{N} : A \\times B}{(\\times ~intro)}\n",
    "\\\\]"
   ]
  },
  {
   "cell_type": "markdown",
   "metadata": {
    "slideshow": {
     "slide_type": "slide"
    }
   },
   "source": [
    "## Typing derivation tree\n",
    "\n",
    "<div style=\"font-size:16px\">    \n",
    "$\n",
    "\\renewcommand{\\arraystretch}{1.5}\n",
    "$\n",
    "    \n",
    "\\\\[\n",
    "\\inferrule{\n",
    "  \\inferrule{\n",
    "    \\inferrule{\n",
    "      \\inferrule{}{x:A \\rightarrow A, y : A \\vdash x: A \\rightarrow A \\vphantom{\\Bigg|}}{(var)}\n",
    "      \\quad\n",
    "      \\inferrule{\n",
    "        \\inferrule{}{x:A \\rightarrow A, y : A \\vdash x: A \\rightarrow A \\vphantom{\\Bigg|}}{(var)}\n",
    "        \\quad\n",
    "        \\inferrule{}{x:A \\rightarrow A, y : A \\vdash y: A \\vphantom{\\Bigg|}}{(var)}\n",
    "      }{x:A \\rightarrow A, y : A \\vdash (x~y) : A \\vphantom{\\Bigg|}}{(\\rightarrow elim)}\n",
    "    }\n",
    "    {x:A \\rightarrow A, y : A \\vdash x~(x~y) : A \\vphantom{\\Bigg|}}{(\\rightarrow elim)}\n",
    "  }\n",
    "  {x:A \\rightarrow A \\vdash (\\lambda y:A. x~(x~y)) : A \\rightarrow A \\vphantom{\\Bigg|}}{(\\rightarrow intro)}\n",
    "}\n",
    "{\\vdash (\\lambda x: A \\rightarrow A. \\lambda y:A. x ~(x ~y)) : (A \\rightarrow A) \\rightarrow A \\rightarrow A \\vphantom{\\Bigg|}}{(\\rightarrow intro)}\n",
    "\\\\]\n",
    "\n",
    "</div>"
   ]
  },
  {
   "cell_type": "markdown",
   "metadata": {
    "slideshow": {
     "slide_type": "slide"
    }
   },
   "source": [
    "## Typing derivation\n",
    "\n",
    "* For each lambda term, there is exactly one type rule that applies.\n",
    "  + Unique rule to lookup during typing derivation."
   ]
  },
  {
   "cell_type": "markdown",
   "metadata": {
    "slideshow": {
     "slide_type": "slide"
    }
   },
   "source": [
    "## Typability\n",
    "\n",
    "* Not all $\\stlc$ terms can be assigned a type. For example,\n",
    "\n",
    "1. $\\bb{\\fst{(\\lambda x.M)}}$\n",
    "2. $\\bb{\\pair{M}{N}~P}$\n",
    "\n",
    "* Surprisingly, we cannot assign a type for $\\bb{\\lambda x.x~x}$ in $\\stlc$ (or OCaml)\n",
    "  + $x$ is applied to itself. So its argument type be should the type of $x$!"
   ]
  },
  {
   "cell_type": "markdown",
   "metadata": {
    "slideshow": {
     "slide_type": "slide"
    }
   },
   "source": [
    "## Reductions in $\\stlc$\n",
    "\n",
    "\\\\[\n",
    "\\begin{array}{rrcl}\n",
    "(\\beta_{\\rightarrow}) & (\\lambda x:A.M) ~N & \\rightarrow & M[N/x] \\\\\n",
    "(\\eta_{\\rightarrow}) & \\lambda x:A.M ~x & \\rightarrow & M & \\text{if } x \\notin FV(M) \\\\\n",
    "(\\beta_{\\times,1}) & \\fst{\\pair{M}{N}} & \\rightarrow & M \\\\\n",
    "(\\beta_{\\times,2}) & \\snd{\\pair{M}{N}} & \\rightarrow & N \\\\\n",
    "(\\eta_{\\times}) & \\pair{\\fst{M}}{\\snd{M}} & \\rightarrow & M\n",
    "\\end{array}\n",
    "\\\\]\n",
    "\n",
    "\\\\[\n",
    "\\begin{array}{cccc}\n",
    "(cong1) & \\displaystyle{\\frac{M \\rightarrow M'}{M~N \\rightarrow M'~N}} &\n",
    "(cong2) & \\displaystyle{\\frac{N \\rightarrow N'}{M~N \\rightarrow M~N'}}\n",
    "\\end{array}\n",
    "\\\\]\n",
    "\n",
    "\\\\[\n",
    "\\begin{array}{cc}\n",
    "(\\xi) & \\displaystyle{\\frac{M \\rightarrow M'}{\\lambda x:A.M \\rightarrow \\lambda x:A.M'}}\n",
    "\\end{array}\n",
    "\\\\]"
   ]
  },
  {
   "cell_type": "markdown",
   "metadata": {
    "slideshow": {
     "slide_type": "slide"
    }
   },
   "source": [
    "## Type Soundness\n",
    "\n",
    "* Well-typed programs do not get **stuck**.\n",
    "  + stuck = not a value & no reduction rule applies.\n",
    "  + Elements of base types, functions are values.\n",
    "  + $\\bb{\\fst{(\\lambda x.x)}}$ is stuck.\n",
    "  + $\\bb{\\unitv ~\\unitv}$ is stuck.\n",
    "* In practice, well-typed programs do not have runtime errors.\n",
    "\n",
    "**Theorem** (Type Soundness). If $\\vdash M : A$, then either $M$ is a value or there exists an $M'$ such that $M \\rightarrow M'$, and $\\vdash M' : A$."
   ]
  },
  {
   "cell_type": "markdown",
   "metadata": {
    "slideshow": {
     "slide_type": "slide"
    }
   },
   "source": [
    "## Expressive power of $\\stlc$\n",
    "\n",
    "* Clearly, not all untyped lambda terms are **well-typed**.\n",
    "  + Any term that gets stuck is ill-typed.\n",
    "* _Are there terms that are **ill-typed but do not get stuck**?_"
   ]
  },
  {
   "cell_type": "markdown",
   "metadata": {
    "slideshow": {
     "slide_type": "slide"
    }
   },
   "source": [
    "## Expressive power of $\\stlc$\n",
    "\n",
    "Unfortunately, yes.\n",
    "\n",
    "\\\\[\n",
    "\\text{well-typed terms} \\subset \\text{terms-not-stuck} \\subset \\text{all terms}\n",
    "\\\\]\n",
    "* For example, we can no longer type recursive function. \n",
    "  + $\\bb{Y = (\\lambda f.\\lambda x. f~(x ~x)) ~(\\lambda x.f~(x ~x))}$\n",
    "* Every well-typed $\\stlc$ term terminates!\n",
    "  + $\\stlc$ is **strongly normalising**.\n",
    "* We can add recursion to the $\\stlc$ as a **primitive** (not covered in this course)\n",
    "  + just like we added $\\sf{fst}$ and $\\sf{snd}$ as primitives"
   ]
  },
  {
   "cell_type": "markdown",
   "metadata": {
    "slideshow": {
     "slide_type": "slide"
    }
   },
   "source": [
    "## Connections to propositional logic\n",
    "\n",
    "Consider the following types\n",
    "\n",
    "\\\\[\n",
    "\\begin{array}{ll}\n",
    "(1) & (A \\times B) \\rightarrow A \\\\\n",
    "(2) & A \\rightarrow B \\rightarrow (A \\times B) \\\\\n",
    "(3) & (A \\rightarrow B) \\rightarrow (B \\rightarrow C) \\rightarrow (A \\rightarrow C) \\\\\n",
    "(4) & A \\rightarrow A \\rightarrow A \\\\\n",
    "(5) & ((A \\rightarrow A) \\rightarrow B) \\rightarrow B \\\\\n",
    "(6) & A \\rightarrow (A \\times B) \\\\\n",
    "(7) & (A \\rightarrow C) \\rightarrow C \n",
    "\\end{array}\n",
    "\\\\]\n",
    "\n",
    "Can you find closed terms of these types?"
   ]
  },
  {
   "cell_type": "markdown",
   "metadata": {
    "slideshow": {
     "slide_type": "slide"
    }
   },
   "source": [
    "## Connections to propositional logic\n",
    "\n",
    "\\\\[\n",
    "\\begin{array}{lll}\n",
    "(1) & (A \\times B) \\rightarrow A \n",
    "    & \\lambda x:A \\times B. \\fst{x}\\\\\n",
    "(2) & A \\rightarrow B \\rightarrow (A \\times B) \n",
    "    & \\lambda x:A.\\lambda y:B.\\pair{x}{y}\\\\\n",
    "(3) & (A \\rightarrow B) \\rightarrow (B \\rightarrow C) \\rightarrow (A \\rightarrow C) \n",
    "    & \\lambda x:A\\rightarrow B.\\lambda y:B \\rightarrow C.\\lambda z:A.y ~(x ~z) \\\\\n",
    "(4) & A \\rightarrow A \\rightarrow A\n",
    "    & \\lambda x:A.\\lambda y:A.x \\\\\n",
    "(5) & ((A \\rightarrow A) \\rightarrow B) \\rightarrow B \n",
    "    & \\lambda x:(A \\rightarrow A) \\rightarrow B.x ~(\\lambda y:A.y)\\\\\n",
    "(6) & A \\rightarrow (A \\times B) \n",
    "    & \\text{closed term does not exist!} \\\\\n",
    "(7) & (A \\rightarrow C) \\rightarrow C \n",
    "    & \\text{closed term does not exist!} \\\\\n",
    "\\end{array}\n",
    "\\\\]"
   ]
  },
  {
   "cell_type": "markdown",
   "metadata": {
    "slideshow": {
     "slide_type": "slide"
    }
   },
   "source": [
    "## A different question\n",
    "\n",
    "* Replace $\\rightarrow$ with $\\implies$ and $\\times$ with $\\wedge$.\n",
    "\n",
    "\\\\[\n",
    "\\begin{array}{ll}\n",
    "(1) & (A \\wedge B) \\implies A \\\\\n",
    "(2) & A \\implies B \\implies (A \\wedge B) \\\\\n",
    "(3) & (A \\implies B) \\implies (B \\implies C) \\implies (A \\implies C) \\\\\n",
    "(4) & A \\implies A \\implies A \\\\\n",
    "(5) & ((A \\implies A) \\implies B) \\implies B \\\\\n",
    "(6) & A \\implies (A \\wedge B) \\\\\n",
    "(7) & (A \\implies C) \\implies C \n",
    "\\end{array}\n",
    "\\\\]\n",
    "\n",
    "Which of these formulas are valid?"
   ]
  },
  {
   "cell_type": "markdown",
   "metadata": {
    "slideshow": {
     "slide_type": "slide"
    }
   },
   "source": [
    "## A different question\n",
    "\n",
    "\\\\[\n",
    "\\begin{array}{ll}\n",
    "(1) & (A \\wedge B) \\implies A \\\\\n",
    "(2) & A \\implies B \\implies (A \\wedge B) \\\\\n",
    "(3) & (A \\implies B) \\implies (B \\implies C) \\implies (A \\implies C) \\\\\n",
    "(4) & A \\implies A \\implies A \\\\\n",
    "(5) & ((A \\implies A) \\implies B) \\implies B \\\\\n",
    "(6) & A \\implies (A \\wedge B) \\quad (\\text{pick } A = true, B = false)\\\\\n",
    "(7) & (A \\implies C) \\implies C \\quad (\\text{pick } A = false, C = false)\\\\\n",
    "\\end{array}\n",
    "\\\\]\n",
    "\n",
    "$(1) - (5)$ are valid, $(6)$ and $(7)$ are not!"
   ]
  },
  {
   "cell_type": "markdown",
   "metadata": {
    "slideshow": {
     "slide_type": "slide"
    }
   },
   "source": [
    "## Observe the correspondence!\n",
    "\n",
    "\\\\[\n",
    "\\begin{array}{lll}\n",
    "(1) & (A \\times B) \\rightarrow A \n",
    "    & \\lambda x:A \\times B. \\fst{x}\\\\\n",
    "(2) & A \\rightarrow B \\rightarrow (A \\times B) \n",
    "    & \\lambda x:A.\\lambda y:B.\\pair{x}{y}\\\\\n",
    "(3) & (A \\rightarrow B) \\rightarrow (B \\rightarrow C) \\rightarrow (A \\rightarrow C) \n",
    "    & \\lambda x:A\\rightarrow B.\\lambda y:B \\rightarrow C.\\lambda z:A.y ~(x ~z) \\\\\n",
    "(4) & A \\rightarrow A \\rightarrow A\n",
    "    & \\lambda x:A.\\lambda y:A.x \\\\\n",
    "(5) & ((A \\rightarrow A) \\rightarrow B) \\rightarrow B \n",
    "    & \\lambda x:(A \\rightarrow A) \\rightarrow B.x ~(\\lambda y:A.y)\\\\\n",
    "(6) & A \\rightarrow (A \\times B) \n",
    "    & \\text{closed term does not exist!} \\\\\n",
    "(7) & (A \\rightarrow C) \\rightarrow C \n",
    "    & \\text{closed term does not exist!} \\\\\n",
    "\\end{array}\n",
    "\\\\]\n",
    "\n",
    "There exists a lambda term for the given type $\\Leftrightarrow$ the corresponding formula is valid in propositional logic"
   ]
  },
  {
   "cell_type": "markdown",
   "metadata": {
    "slideshow": {
     "slide_type": "slide"
    }
   },
   "source": [
    "## Proving a propositional logic formula\n",
    "\n",
    "* How to prove the **proposition** $(A \\wedge B) \\implies A$?\n",
    "  + The **proof** is: Assume $A \\wedge B$ holds. By the first conjunct, $A$ holds. QED. \n",
    "* Consider the **program** $\\bb{\\lambda x:A \\times B. \\fst{x}}$. \n",
    "  + Observe the close correspondence of this **program** to the **proof**. \n",
    "* What is the **type** of this program? $(A \\times B) \\rightarrow A$.\n",
    "  + Observe the close correspondence of this **type** to the **proposition**.\n",
    "* **Curry-Howard correspondence** between $\\stlc$ and propositional logic."
   ]
  },
  {
   "cell_type": "markdown",
   "metadata": {
    "slideshow": {
     "slide_type": "slide"
    }
   },
   "source": [
    "## Curry-Howard Correspondence\n",
    "\n",
    "\n",
    "<center>\n",
    "    <h3> Proof:Proposition :: Program:Type </h3>\n",
    "</center>\n",
    "\n",
    "* Constructive logic and not classical logic (that you would have studied in your discrete maths course)\n",
    "  + Law of excluded middle ($A \\vee \\neg A$) does not hold for an arbitrary $A$.\n",
    "    * Can't prove by contradiction\n",
    "  + In order to prove, *construct* the proof object!"
   ]
  },
  {
   "cell_type": "markdown",
   "metadata": {
    "slideshow": {
     "slide_type": "slide"
    }
   },
   "source": [
    "## Curry Howard Isomorphism\n",
    "\n",
    "\\\\[\n",
    "\\begin{array}{|c|c|}\n",
    "\\hline\n",
    "\\stlc & \\text{Constructive Logic} \\\\\n",
    "\\hline\n",
    "\\text{Types} & \\text{Propositions} \\\\\n",
    "1 & \\top \\\\\n",
    "\\times & \\wedge \\\\\n",
    "\\rightarrow & \\implies \\\\\n",
    "\\text{Programs} & \\text{Proofs} \\\\\n",
    "\\text{Reduction} & \\text{Proof Simplification} \\\\\n",
    "\\hline\n",
    "\\end{array}\n",
    "\\\\]\n",
    "\n"
   ]
  },
  {
   "cell_type": "markdown",
   "metadata": {
    "slideshow": {
     "slide_type": "slide"
    }
   },
   "source": [
    "## Curry-Howard Isomorphism\n",
    "\n",
    "Allows one to switch between \n",
    "  + **type-theoretic** (types and programs) and \n",
    "  + **proof-theoretic** (propositions and proofs)\n",
    "\n",
    "views of the world at will.\n",
    "\n",
    "* Used by theorem provers and proof assistants such as Coq, HOL/Isabelle, etc.\n",
    "* Reductions of $\\stlc$ terms corresponds to proof simplification."
   ]
  },
  {
   "cell_type": "markdown",
   "metadata": {
    "slideshow": {
     "slide_type": "slide"
    }
   },
   "source": [
    "## Static vs Dynamic Typing\n",
    "\n",
    "* OCaml, Haskell, Standard ML are **statically typed languages**.\n",
    "  + Only well-typed programs are allowed to run.\n",
    "  + Type soundness holds; well-typed programs do no get stuck.\n",
    "* What about Python, JavaScript, Clojure, Perl, Lisp, R, etc?\n",
    "  + **Dynamically typed languages**.\n",
    "  + No type checking at compile time; anything goes.\n",
    "    * `x = lambda a : a + 10; x(\"Hello\")` is a runtime error.\n",
    "  + Allows more programs to run, but types need to be checked at runtime."
   ]
  }
 ],
 "metadata": {
  "celltoolbar": "Slideshow",
  "kernelspec": {
   "display_name": "OCaml 4.10",
   "language": "OCaml",
   "name": "ocaml-jupyter"
  },
  "language_info": {
   "codemirror_mode": "text/x-ocaml",
   "file_extension": ".ml",
   "mimetype": "text/x-ocaml",
   "name": "OCaml",
   "nbconverter_exporter": null,
   "pygments_lexer": "OCaml",
   "version": "4.10.0"
  }
 },
 "nbformat": 4,
 "nbformat_minor": 2
}
