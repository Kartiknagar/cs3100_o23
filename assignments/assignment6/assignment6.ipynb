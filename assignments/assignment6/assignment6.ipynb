{
 "cells": [
  {
   "cell_type": "markdown",
   "metadata": {},
   "source": [
    "Before you turn this problem in, make sure everything runs as expected. First, **restart the kernel** (in the menubar, select Kernel$\\rightarrow$Restart) and then **run all cells** (in the menubar, select Cell$\\rightarrow$Run All).\n",
    "\n",
    "Make sure you fill in any place that says `YOUR CODE HERE` or \"YOUR ANSWER HERE\", as well as your name below:"
   ]
  },
  {
   "cell_type": "code",
   "execution_count": null,
   "metadata": {},
   "outputs": [],
   "source": [
    "let name = \"\"\n",
    "let rollno = \"\""
   ]
  },
  {
   "cell_type": "markdown",
   "metadata": {},
   "source": [
    "## Important notes about grading:\n",
    "\n",
    "1. All code you submit must compile. Programs that do not compile will probably receive an automatic zero. If you are having trouble getting your assignment to compile, please contact the TAs or the instructor or visit the course contact hour. If you run out of time, it is better to comment out the parts that do not compile, than hand in a more complete file that does not compile.\n",
    "2. All assignments handed in after the deadline will be considered late, and will consume your grace days. \n",
    "3. Verify on moodle that you have submitted the correct version, before the deadline. Submitting the incorrect version before the deadline and realizing that you have done so after the deadline will be counted as a late submission."
   ]
  },
  {
   "cell_type": "markdown",
   "metadata": {
    "deletable": false,
    "editable": false,
    "nbgrader": {
     "cell_type": "markdown",
     "checksum": "7a087ba7d3279481f88e5bdb1dd31e50",
     "grade": false,
     "grade_id": "cell-19709d5de597aa34",
     "locked": true,
     "schema_version": 3,
     "solution": false,
     "task": false
    }
   },
   "source": [
    "## A Prolog interpreter in OCaml\n",
    "\n",
    "In this assignment, you will implement a Prolog interpreter in OCaml with support for backtracking (recover from bad choices) and choice points (produce multiple results). It is highly recommended to use the functions `List.map` and `List.fold_left`; these are applicable in almost all the problems, and they will significantly simplify the code. In general, you can use any function from any library for this assignment. \n",
    "\n",
    "We will start with the definition of terms, predicates, clauses, goals and programs."
   ]
  },
  {
   "cell_type": "code",
   "execution_count": null,
   "metadata": {
    "deletable": false,
    "editable": false,
    "nbgrader": {
     "cell_type": "code",
     "checksum": "6c2da10587cbcf862b42991b85a1694d",
     "grade": false,
     "grade_id": "cell-850219ab9c627b3e",
     "locked": true,
     "schema_version": 3,
     "solution": false,
     "task": false
    }
   },
   "outputs": [],
   "source": [
    "type constant = Constant of string\n",
    "type variable = Variable of string\n",
    "type func = Function of string * term list\n",
    "and term = C of constant | V of variable | F of func\n",
    "\n",
    "type predicate = Predicate of string * term list\n",
    "\n",
    "type head = predicate\n",
    "type body = predicate list\n",
    "\n",
    "type clause = Fact of head | Rule of head * body\n",
    "\n",
    "type goal = predicate list\n",
    "\n",
    "type program = clause list"
   ]
  },
  {
   "cell_type": "markdown",
   "metadata": {
    "deletable": false,
    "editable": false,
    "nbgrader": {
     "cell_type": "markdown",
     "checksum": "c0e3beb0faafdb324b1f39a0cc5927d8",
     "grade": false,
     "grade_id": "cell-67006c29f852db56",
     "locked": true,
     "schema_version": 3,
     "solution": false,
     "task": false
    }
   },
   "source": [
    "The following stringification functions will help you in debugging."
   ]
  },
  {
   "cell_type": "code",
   "execution_count": null,
   "metadata": {
    "deletable": false,
    "editable": false,
    "nbgrader": {
     "cell_type": "code",
     "checksum": "d30001f0b52434a66087f8917b49cde6",
     "grade": false,
     "grade_id": "cell-1ce7f8577e2f83b6",
     "locked": true,
     "schema_version": 3,
     "solution": false,
     "task": false
    }
   },
   "outputs": [],
   "source": [
    "let rec string_of_f_list f tl =\n",
    "  let _, s = List.fold_left (fun (first, s) t -> \n",
    "    let prefix = if first then \"\" else s ^ \", \" in\n",
    "    false, prefix ^ (f t)) (true,\"\") tl\n",
    "  in \n",
    "  s\n",
    "\n",
    "let rec string_of_term t =\n",
    "  match t with\n",
    "  | C (Constant c) -> c\n",
    "  | V (Variable v) -> v\n",
    "  | F (Function (f,tl)) -> \n",
    "      f ^ \"(\" ^ (string_of_f_list string_of_term tl) ^ \")\"\n",
    "\n",
    "let string_of_predicate (Predicate (p,tl)) =\n",
    "  p ^ \"(\" ^ (string_of_f_list string_of_term tl) ^\")\"\n",
    "  \n",
    "let string_of_predicate_list pl =\n",
    "  string_of_f_list string_of_predicate pl\n",
    "  \n",
    "let string_of_goal g =\n",
    "  \"?- \" ^ (string_of_predicate_list g)\n",
    "\n",
    "let string_of_clause c =\n",
    "  match c with\n",
    "  | Fact f -> string_of_predicate f ^ \".\"\n",
    "  | Rule (h,b) -> string_of_predicate h ^ \" :- \" ^ (string_of_predicate_list b) ^ \".\"\n",
    "\n",
    "let string_of_program p =\n",
    "  List.fold_left (fun acc c -> acc ^ (string_of_clause c) ^ \"\\n\") \"\" p"
   ]
  },
  {
   "cell_type": "markdown",
   "metadata": {
    "deletable": false,
    "editable": false,
    "nbgrader": {
     "cell_type": "markdown",
     "checksum": "1e595cdef56b9f287ce409bab691af21",
     "grade": false,
     "grade_id": "cell-e7940771e46d768b",
     "locked": true,
     "schema_version": 3,
     "solution": false,
     "task": false
    }
   },
   "source": [
    "Below are more helper functions:"
   ]
  },
  {
   "cell_type": "code",
   "execution_count": null,
   "metadata": {
    "deletable": false,
    "editable": false,
    "nbgrader": {
     "cell_type": "code",
     "checksum": "1e1bbaed6a135e897176d18375fceab0",
     "grade": false,
     "grade_id": "cell-ffdac7359cc5accb",
     "locked": true,
     "schema_version": 3,
     "solution": false,
     "task": false
    }
   },
   "outputs": [],
   "source": [
    "let var v = Variable v\n",
    "let var_t v = V (var v)\n",
    "let const c = Constant c\n",
    "let const_t c = C (Constant c)\n",
    "let func f l = Function (f,l)\n",
    "let func_t f l = F (func f l)\n",
    "let pred p l = Predicate (p,l)\n",
    "let fact f = Fact f\n",
    "let rule h b = Rule (h,b)"
   ]
  },
  {
   "cell_type": "markdown",
   "metadata": {
    "deletable": false,
    "editable": false,
    "nbgrader": {
     "cell_type": "markdown",
     "checksum": "c1b2cf4dc599d390b3d7d9a04982e7f2",
     "grade": false,
     "grade_id": "cell-9b1529f4a46180c0",
     "locked": true,
     "schema_version": 3,
     "solution": false,
     "task": false
    }
   },
   "source": [
    "## Problem 1\n",
    "\n",
    "In this problem, you will implement the function:\n",
    "\n",
    "```ocaml\n",
    "occurs_check : variable -> term -> bool\n",
    "```\n",
    "\n",
    "`occurs_check v t` returns `true` if the variable `v` occurs in `t`. "
   ]
  },
  {
   "cell_type": "code",
   "execution_count": null,
   "metadata": {
    "deletable": false,
    "nbgrader": {
     "cell_type": "code",
     "checksum": "49b86af691464ea508363c697a081edf",
     "grade": false,
     "grade_id": "cell-ec625c2e0cf9df17",
     "locked": false,
     "schema_version": 3,
     "solution": true,
     "task": false
    }
   },
   "outputs": [],
   "source": [
    "let rec occurs_check v t = \n",
    "  (* YOUR CODE HERE *)\n",
    "  raise (Failure \"Not implemented\")"
   ]
  },
  {
   "cell_type": "code",
   "execution_count": null,
   "metadata": {
    "deletable": false,
    "editable": false,
    "nbgrader": {
     "cell_type": "code",
     "checksum": "7863b2304933d92402339e70c3a16269",
     "grade": true,
     "grade_id": "cell-9acf04576c956341",
     "locked": true,
     "points": 5,
     "schema_version": 3,
     "solution": false,
     "task": false
    }
   },
   "outputs": [],
   "source": [
    "(* 5 points *)\n",
    "assert (occurs_check (var \"X\") (var_t \"X\"));\n",
    "assert (not (occurs_check (var \"X\") (var_t \"Y\")));\n",
    "assert (occurs_check (var \"X\") (func_t \"f\" [var_t \"X\"]))"
   ]
  },
  {
   "cell_type": "markdown",
   "metadata": {
    "deletable": false,
    "editable": false,
    "nbgrader": {
     "cell_type": "markdown",
     "checksum": "e9013f35969189487f4ee2a66bfaf7ba",
     "grade": false,
     "grade_id": "cell-e9ae49318a87096d",
     "locked": true,
     "schema_version": 3,
     "solution": false,
     "task": false
    }
   },
   "source": [
    "## Problem 2\n",
    "\n",
    "Implement the following functions which return the variables contained in them:\n",
    "\n",
    "```ocaml\n",
    "variables_of_term      : term -> VarSet.t\n",
    "variables_of_predicate : predicate -> VarSet.t\n",
    "variables_of_clause    : clause -> VarSet.t\n",
    "```\n",
    "\n",
    "For this problem, we will use the `Set` library to maintain sets of variables. The documentation is available here: https://v2.ocaml.org/api/Set.S.html. You will need to use a few functions from this library."
   ]
  },
  {
   "cell_type": "code",
   "execution_count": null,
   "metadata": {
    "deletable": false,
    "nbgrader": {
     "cell_type": "code",
     "checksum": "9a95c1a1f736fba0c13674fb627a9ede",
     "grade": false,
     "grade_id": "cell-ed4d6f79936e1c24",
     "locked": false,
     "schema_version": 3,
     "solution": true,
     "task": false
    }
   },
   "outputs": [],
   "source": [
    "module VarSet = Set.Make(struct type t = variable let compare = Pervasives.compare end)\n",
    "(* DO NOT CHANGE THE ABOVE DEFINITION \n",
    "   You can ignore any alerts that you may get regarding the usage of Pervasives.*)\n",
    "\n",
    "let rec variables_of_term t = \n",
    "  (* YOUR CODE HERE *)\n",
    "  raise (Failure \"Not implemented\")\n",
    "  \n",
    "let rec variables_of_predicate (Predicate (_, l)) =\n",
    "  (* YOUR CODE HERE *)\n",
    "  raise (Failure \"Not implemented\")\n",
    "  \n",
    "let variables_of_clause c =\n",
    "  (* YOUR CODE HERE *)\n",
    "  raise (Failure \"Not implemented\")"
   ]
  },
  {
   "cell_type": "code",
   "execution_count": null,
   "metadata": {
    "deletable": false,
    "editable": false,
    "nbgrader": {
     "cell_type": "code",
     "checksum": "56fb246eeb8d6e97325c1fde9e529fdb",
     "grade": true,
     "grade_id": "cell-cdba426183c2cb44",
     "locked": true,
     "points": 5,
     "schema_version": 3,
     "solution": false,
     "task": false
    }
   },
   "outputs": [],
   "source": [
    "(* 5 points *)\n",
    "assert (variables_of_term (func_t \"f\" [var_t \"X\"; var_t \"Y\"; const_t \"a\"]) = \n",
    "        VarSet.of_list [var \"X\"; var \"Y\"]);\n",
    "assert (variables_of_predicate (pred \"p\" [var_t \"X\"; var_t \"Y\"; const_t \"a\"]) = \n",
    "        VarSet.of_list [var \"X\"; var \"Y\"]);\n",
    "assert (variables_of_clause (fact @@ pred \"p\" [var_t \"X\"; var_t \"Y\"; const_t \"a\"]) = \n",
    "        VarSet.of_list [var \"X\"; var \"Y\"]);\n",
    "assert (variables_of_clause (rule (pred \"p\" [var_t \"X\"; var_t \"Y\"; const_t \"a\"]) [pred \"q\" [const_t \"a\"; const_t \"b\"; const_t \"a\"]])= \n",
    "        VarSet.of_list [var \"X\"; var \"Y\"])"
   ]
  },
  {
   "cell_type": "markdown",
   "metadata": {
    "deletable": false,
    "editable": false,
    "nbgrader": {
     "cell_type": "markdown",
     "checksum": "c673d2643c6bca5f3ead054d3a7c4e0e",
     "grade": false,
     "grade_id": "cell-046fe2476691fbc4",
     "locked": true,
     "schema_version": 3,
     "solution": false,
     "task": false
    }
   },
   "source": [
    "## Problem 3\n",
    "\n",
    "The value of type `term Substitution.t` is a OCaml map whose key is of type `variable` and value is of type `term`. In other words, it is map from variables to terms. Implement substitution functions that take a `term Substitution.t` and use that to perform the substitution:\n",
    "\n",
    "```ocaml\n",
    "substitute_in_term : term Substitution.t -> term -> term\n",
    "substitute_in_predicate : term Substitution.t -> predicate -> predicate\n",
    "substitute_in_clause : term Substitution.t -> clause -> clause\n",
    "```\n",
    "\n",
    "You will need to use some functions from the Map library: https://v2.ocaml.org/api/Map.S.html."
   ]
  },
  {
   "cell_type": "code",
   "execution_count": null,
   "metadata": {
    "deletable": false,
    "nbgrader": {
     "cell_type": "code",
     "checksum": "9ad0d491f0654f1983a27f5f972a4635",
     "grade": false,
     "grade_id": "cell-99475c4c37156fc5",
     "locked": false,
     "schema_version": 3,
     "solution": true,
     "task": false
    }
   },
   "outputs": [],
   "source": [
    "module Substitution = Map.Make(struct type t = variable let compare = Pervasives.compare end)\n",
    "(* DO NOT CHANGE THE ABOVE DEFINITION \n",
    "   You can ignore any alerts that you may get regarding the usage of Pervasives.*)\n",
    "\n",
    "let string_of_substitution s =\n",
    "  \"{\" ^ (Substitution.fold (fun (Variable v) t s -> s ^ \"; \" ^ v ^ \" -> \" ^ (string_of_term t)) s \"\") ^ \"}\"\n",
    "\n",
    "let rec substitute_in_term s t =\n",
    "  (* YOUR CODE HERE *)\n",
    "  raise (Failure \"Not implemented\")\n",
    "\n",
    "let rec substitute_in_predicate s (Predicate (p,l)) =\n",
    "  (* YOUR CODE HERE *)\n",
    "  raise (Failure \"Not implemented\")\n",
    "  \n",
    "let substitute_in_clause s c =\n",
    "  (* YOUR CODE HERE *)\n",
    "  raise (Failure \"Not implemented\")"
   ]
  },
  {
   "cell_type": "code",
   "execution_count": null,
   "metadata": {
    "deletable": false,
    "editable": false,
    "nbgrader": {
     "cell_type": "code",
     "checksum": "2e3314343522bd6143ca2eeec4df78b4",
     "grade": true,
     "grade_id": "cell-54f9db0e71e63244",
     "locked": true,
     "points": 10,
     "schema_version": 3,
     "solution": false,
     "task": false
    }
   },
   "outputs": [],
   "source": [
    "(* 10 points *)\n",
    "let s = \n",
    "  let open Substitution in \n",
    "  add (var \"Y\") (const_t \"0\") (add (var \"X\") (var_t \"Y\") empty)\n",
    "in\n",
    "assert (substitute_in_term s (func_t \"f\" [var_t \"X\"; var_t \"Y\"; const_t \"a\"]) = \n",
    "        func_t \"f\" [var_t \"Y\"; const_t \"0\"; const_t \"a\"]);\n",
    "assert (substitute_in_predicate s (pred \"p\" [var_t \"X\"; var_t \"Y\"; const_t \"a\"]) = \n",
    "        pred \"p\" [var_t \"Y\"; const_t \"0\"; const_t \"a\"]);\n",
    "assert (substitute_in_clause s (fact @@ pred \"p\" [var_t \"X\"; var_t \"Y\"; const_t \"a\"]) = \n",
    "        (fact @@ pred \"p\" [var_t \"Y\"; const_t \"0\"; const_t \"a\"]));\n",
    "assert (substitute_in_clause s (rule (pred \"p\" [var_t \"X\"; var_t \"Y\"; const_t \"a\"]) [pred \"q\" [const_t \"a\"; const_t \"b\"; const_t \"a\"]]) = \n",
    "        (rule (pred \"p\" [var_t \"Y\"; const_t \"0\"; const_t \"a\"]) [pred \"q\" [const_t \"a\"; const_t \"b\"; const_t \"a\"]]))"
   ]
  },
  {
   "cell_type": "markdown",
   "metadata": {
    "deletable": false,
    "editable": false,
    "nbgrader": {
     "cell_type": "markdown",
     "checksum": "6b46914a350b710b8d3eb56a90fe3083",
     "grade": false,
     "grade_id": "cell-6d4f2f7c721e109a",
     "locked": true,
     "schema_version": 3,
     "solution": false,
     "task": false
    }
   },
   "source": [
    "We define a function `freshen` that given a clause, returns a clause where are the variables have been renamed with fresh variables. "
   ]
  },
  {
   "cell_type": "code",
   "execution_count": null,
   "metadata": {
    "deletable": false,
    "editable": false,
    "nbgrader": {
     "cell_type": "code",
     "checksum": "e8a0aa89d3680b8570bdff5e77bff84c",
     "grade": false,
     "grade_id": "cell-a1c09fcbea00af26",
     "locked": true,
     "schema_version": 3,
     "solution": false,
     "task": false
    }
   },
   "outputs": [],
   "source": [
    "let counter = ref 0\n",
    "let fresh () = \n",
    "  let c = !counter in\n",
    "  counter := !counter + 1;\n",
    "  V (Variable (\"_G\" ^ string_of_int c))\n",
    "\n",
    "let freshen c =\n",
    "  let vars = variables_of_clause c in\n",
    "  let s = VarSet.fold (fun v s -> Substitution.add v (fresh()) s) vars Substitution.empty in\n",
    "  substitute_in_clause s c"
   ]
  },
  {
   "cell_type": "markdown",
   "metadata": {
    "deletable": false,
    "editable": false,
    "nbgrader": {
     "cell_type": "markdown",
     "checksum": "412b5e84d8da86c5dc03b26995eaff70",
     "grade": false,
     "grade_id": "cell-b79de977263be26b",
     "locked": true,
     "schema_version": 3,
     "solution": false,
     "task": false
    }
   },
   "source": [
    "For example, "
   ]
  },
  {
   "cell_type": "code",
   "execution_count": null,
   "metadata": {
    "deletable": false,
    "editable": false,
    "nbgrader": {
     "cell_type": "code",
     "checksum": "b1ed9f9ce1b4948b3a94b8a960d8a844",
     "grade": false,
     "grade_id": "cell-ef219dd17f6f35de",
     "locked": true,
     "schema_version": 3,
     "solution": false,
     "task": false
    }
   },
   "outputs": [],
   "source": [
    "let c = (rule (pred \"p\" [var_t \"X\"; var_t \"Y\"; const_t \"a\"]) [pred \"q\" [var_t \"X\"; const_t \"b\"; const_t \"a\"]])\n",
    "let _ = string_of_clause c\n",
    "let _ = string_of_clause (freshen c)"
   ]
  },
  {
   "cell_type": "markdown",
   "metadata": {
    "deletable": false,
    "editable": false,
    "nbgrader": {
     "cell_type": "markdown",
     "checksum": "e62832508f2cc4aee91c8e79f1dce951",
     "grade": false,
     "grade_id": "cell-0e16cbc0cd625712",
     "locked": true,
     "schema_version": 3,
     "solution": false,
     "task": false
    }
   },
   "source": [
    "## Problem 4\n",
    "\n",
    "Implement the function:\n",
    "\n",
    "```ocaml\n",
    "compose: term Substitution.t -> term Substitution.t -> term Substitution.t\n",
    "```\n",
    "\n",
    "that composes two substitutions. Use the precise definition of composition from the lectures.\n"
   ]
  },
  {
   "cell_type": "code",
   "execution_count": null,
   "metadata": {
    "deletable": false,
    "nbgrader": {
     "cell_type": "code",
     "checksum": "2db394c5bfeaa20d4f8df7646e49063e",
     "grade": false,
     "grade_id": "cell-7be3d565c6293683",
     "locked": false,
     "schema_version": 3,
     "solution": true,
     "task": false
    }
   },
   "outputs": [],
   "source": [
    "let compose s1 s2 = \n",
    "(* YOUR CODE HERE *)\n",
    "raise (Failure \"Not implemented\")"
   ]
  },
  {
   "cell_type": "code",
   "execution_count": null,
   "metadata": {
    "deletable": false,
    "editable": false,
    "nbgrader": {
     "cell_type": "code",
     "checksum": "7075ea95849aa48140a187cf7575c625",
     "grade": true,
     "grade_id": "cell-879bb63d62da6267",
     "locked": true,
     "points": 10,
     "schema_version": 3,
     "solution": false,
     "task": false
    }
   },
   "outputs": [],
   "source": [
    "(* 10 points *)\n",
    "let s1 = \n",
    "  let open Substitution in \n",
    "  add (var \"Z\") (const_t \"a\") (add (var \"X\") (var_t \"Y\") empty)\n",
    "in\n",
    "let s2 = \n",
    "  let open Substitution in \n",
    "  add (var \"Z\") (const_t \"b\") (add (var \"Y\") (var_t \"X\") empty)\n",
    "in\n",
    "assert (string_of_substitution (compose s1 s2) = \"{; Y -> X; Z -> a}\" ||\n",
    "        string_of_substitution (compose s1 s2) = \"{; Z -> a; Y -> X}\");\n",
    "assert (string_of_substitution (compose s2 s1) = \"{; X -> Y; Z -> b}\" ||\n",
    "        string_of_substitution (compose s2 s1) = \"{; Z -> b; X -> Y}\")\n",
    "        "
   ]
  },
  {
   "cell_type": "markdown",
   "metadata": {
    "deletable": false,
    "editable": false,
    "nbgrader": {
     "cell_type": "markdown",
     "checksum": "3be4779f01a10aa1a81cba23510318a4",
     "grade": false,
     "grade_id": "cell-03038038a4a27f91",
     "locked": true,
     "schema_version": 3,
     "solution": false,
     "task": false
    }
   },
   "source": [
    "## Problem 4\n",
    "\n",
    "Implement the function:\n",
    "\n",
    "```ocaml\n",
    "mgu : term -> term -> term Substitution.t option\n",
    "```\n",
    "\n",
    "which returns the most general unifier of the given terms. The function should return `None` if the terms are not unifiable. You need to precisely implement the algorithm for computing mgu as defined in the lectures.\n",
    "\n",
    "Using `mgu`, implement the function:\n",
    "\n",
    "```ocaml\n",
    "mgu_predicate : predicate -> predicate -> term Substitution.t option\n",
    "```\n",
    "\n",
    "which returns the most general unifier of the given predicates. "
   ]
  },
  {
   "cell_type": "code",
   "execution_count": null,
   "metadata": {
    "deletable": false,
    "nbgrader": {
     "cell_type": "code",
     "checksum": "34d83b899bea6b426762f42f0ea0f096",
     "grade": false,
     "grade_id": "cell-a6686c74cd97b186",
     "locked": false,
     "schema_version": 3,
     "solution": true,
     "task": false
    }
   },
   "outputs": [],
   "source": [
    "let mgu t1 t2 = \n",
    "  (* YOUR CODE HERE *)\n",
    "  raise (Failure \"Not implemented\")\n",
    "\n",
    "let mgu_predicate (Predicate (p1,l1)) (Predicate (p2,l2)) =\n",
    "  (* YOUR CODE HERE *)\n",
    "  raise (Failure \"Not implemented\")"
   ]
  },
  {
   "cell_type": "code",
   "execution_count": null,
   "metadata": {
    "deletable": false,
    "editable": false,
    "nbgrader": {
     "cell_type": "code",
     "checksum": "be89b44856d8fd937537b4360ff54d1f",
     "grade": true,
     "grade_id": "cell-ac73e25efdb21c2f",
     "locked": true,
     "points": 15,
     "schema_version": 3,
     "solution": false,
     "task": false
    }
   },
   "outputs": [],
   "source": [
    "(* 15 points *)\n",
    "assert (string_of_substitution (Option.get(mgu (var_t \"X\") (var_t \"Y\"))) = \"{; X -> Y}\" ||\n",
    "        string_of_substitution (Option.get(mgu (var_t \"X\") (var_t \"Y\"))) = \"{; Y -> X}\");\n",
    "assert (string_of_substitution (Option.get(mgu (var_t \"Y\") (var_t \"X\"))) = \"{; X -> Y}\" ||\n",
    "        string_of_substitution (Option.get(mgu (var_t \"Y\") (var_t \"X\"))) = \"{; Y -> X}\");\n",
    "assert (Option.get(mgu (var_t \"Y\") (var_t \"Y\")) = Substitution.empty);\n",
    "assert (Option.get(mgu (const_t \"0\") (const_t \"0\")) = Substitution.empty);\n",
    "assert (Option.get(mgu (const_t \"0\") (var_t \"Y\")) = Substitution.singleton (var \"Y\") (const_t \"0\"));\n",
    "assert (\n",
    "  match mgu (const_t \"0\") (const_t \"1\") with\n",
    "  | None -> true\n",
    "  | _ -> false );\n",
    "assert (\n",
    "  match mgu (func_t \"f\" [const_t \"0\"]) (func_t \"g\" [const_t \"1\"]) with\n",
    "  | None -> true\n",
    "  | _ -> false );\n",
    "assert (Option.get(mgu (func_t \"f\" [var_t \"X\"]) (func_t \"f\" [var_t \"Y\"])) = Substitution.singleton (var \"X\") (var_t \"Y\") ||\n",
    "        Option.get(mgu (func_t \"f\" [var_t \"X\"]) (func_t \"f\" [var_t \"Y\"])) = Substitution.singleton (var \"Y\") (var_t \"X\"))"
   ]
  },
  {
   "cell_type": "code",
   "execution_count": null,
   "metadata": {
    "deletable": false,
    "editable": false,
    "nbgrader": {
     "cell_type": "code",
     "checksum": "813b71fdc40caab173a540d9b1d84a28",
     "grade": true,
     "grade_id": "cell-31521e057323948c",
     "locked": true,
     "points": 15,
     "schema_version": 3,
     "solution": false,
     "task": false
    }
   },
   "outputs": [],
   "source": [
    "(* 15 points *)\n",
    "let t1 = F (Function(\"f\", [V (Variable \"X\"); V (Variable \"Y\"); V (Variable \"Y\")])) in \n",
    "let t2 = F (Function(\"f\", [V (Variable \"Y\"); V (Variable \"Z\"); V (Variable \"a\")])) in\n",
    "let u = Option.get(mgu t1 t2) in\n",
    "assert (Substitution.cardinal u = 3);\n",
    "assert (string_of_substitution u = \"{; X -> a; Y -> a; Z -> a}\");\n",
    "let t1 = var_t \"X\" in\n",
    "let t2 = F (Function(\"f\", [const_t \"a\"; const_t \"b\"; var_t \"X\"])) in\n",
    "assert (\n",
    "  match mgu t1 t2 with\n",
    "  | None -> true\n",
    "  |_ -> false\n",
    ")\n"
   ]
  },
  {
   "cell_type": "markdown",
   "metadata": {
    "deletable": false,
    "editable": false,
    "nbgrader": {
     "cell_type": "markdown",
     "checksum": "71178bd0664bb548f67f88181d8ceea2",
     "grade": false,
     "grade_id": "cell-8e65f0eac3712b7d",
     "locked": true,
     "schema_version": 3,
     "solution": false,
     "task": false
    }
   },
   "source": [
    "## Problem 5\n",
    "\n",
    "Implement the function:\n",
    "\n",
    "```ocaml\n",
    "query : clause list -> predicate list -> predicate list list \n",
    "```\n",
    "\n",
    "where \n",
    "\n",
    "* the first argument is the `program` which is a list of clauses.\n",
    "* the second argument is the `goal` which is a list of predicates.\n",
    "\n",
    "The function returns a list of predicate lists (`results`). Each of these results is an instance of the original goal and is a logical consequence of the program. If there exists no instance of given goal which is a logical consequence of the program, then the result is an empty list. See test cases for expected results.\n",
    "\n",
    "For the rule and goal order, choose what Prolog does; choose the left-most subgoal for goal order and first rule in the order in which the rules appear in the program for the rule order. \n",
    "\n",
    "**Hint**: Implement a purely functional recursive solution based on the algorithm from the lectures. The backtracking and choice points naturally fall out of the implementation. In particular, given a goal from the resolvant, you need to find all matching clauses of the program that can be unified with the goal, and recurse on the updated resolvant for each such clause. You will also need to use the `freshen` function on clauses in the program to prevent spurious `occurs_check` during unification. "
   ]
  },
  {
   "cell_type": "code",
   "execution_count": null,
   "metadata": {
    "deletable": false,
    "nbgrader": {
     "cell_type": "code",
     "checksum": "c20d1cef4cf06378652a397542b3e556",
     "grade": false,
     "grade_id": "cell-5ee2ae1832ba66df",
     "locked": false,
     "schema_version": 3,
     "solution": true,
     "task": false
    }
   },
   "outputs": [],
   "source": [
    "let query program goal = \n",
    "  (* YOUR CODE HERE *)\n",
    "  raise (Failure \"Not implemented\")"
   ]
  },
  {
   "cell_type": "code",
   "execution_count": null,
   "metadata": {
    "deletable": false,
    "editable": false,
    "nbgrader": {
     "cell_type": "code",
     "checksum": "2ef1604a6dfd7a995a0bd4dabf4b87a2",
     "grade": true,
     "grade_id": "cell-28f5ebd13eec8f45",
     "locked": true,
     "points": 5,
     "schema_version": 3,
     "solution": false,
     "task": false
    }
   },
   "outputs": [],
   "source": [
    "(* 5 points *)\n",
    "let p = [fact @@ pred \"f\" [const_t \"a\"; const_t \"b\"]] in\n",
    "let g = [pred \"f\" [const_t \"a\"; const_t \"b\"]] in\n",
    "let g' = match query p g with [v] -> v | _ -> failwith \"error\" in\n",
    "assert (g' = g);\n",
    "let p = [fact @@ pred \"f\" [const_t \"a\"; const_t \"b\"]] in\n",
    "let g = [pred \"f\" [const_t \"a\"; const_t \"c\"]] in\n",
    "assert (query p g = [])"
   ]
  },
  {
   "cell_type": "code",
   "execution_count": null,
   "metadata": {
    "deletable": false,
    "editable": false,
    "nbgrader": {
     "cell_type": "code",
     "checksum": "6d66ac37afd247495d45393b1b365faa",
     "grade": true,
     "grade_id": "cell-e91146830b55b51f",
     "locked": true,
     "points": 5,
     "schema_version": 3,
     "solution": false,
     "task": false
    }
   },
   "outputs": [],
   "source": [
    "(* 5 points *)\n",
    "let p = [fact @@ pred \"f\" [const_t \"a\"; const_t \"b\"]] in\n",
    "let g = [pred \"f\" [var_t \"X\"; const_t \"b\"]] in\n",
    "let g' = match query p g with [v] -> v | _ -> failwith \"error\" in\n",
    "assert (g' = [pred \"f\" [const_t \"a\"; const_t \"b\"]]);\n",
    "\n",
    "let g = [pred \"f\" [var_t \"X\"; var_t \"Y\"]] in\n",
    "let g' = match query p g with [v] -> v | _ -> failwith \"error\" in\n",
    "assert (g' = [pred \"f\" [const_t \"a\"; const_t \"b\"]])"
   ]
  },
  {
   "cell_type": "code",
   "execution_count": null,
   "metadata": {
    "deletable": false,
    "editable": false,
    "nbgrader": {
     "cell_type": "code",
     "checksum": "7e6c1103ffec653a5d663dedc119c49c",
     "grade": true,
     "grade_id": "cell-47bf9c3272ca0e6a",
     "locked": true,
     "points": 5,
     "schema_version": 3,
     "solution": false,
     "task": false
    }
   },
   "outputs": [],
   "source": [
    "(* 5 points *)\n",
    "let ancestor x y = pred \"ancestor\" [x;y] in\n",
    "let father x y = pred \"father\" [x;y] in\n",
    "let father_consts x y =  father (C (Constant x)) (C (Constant y)) in\n",
    "\n",
    "let f1 = Fact (father_consts \"rickard\" \"ned\") in\n",
    "let f2 = Fact (father_consts \"ned\" \"robb\") in\n",
    "let r1 = Rule (ancestor (var_t \"X\") (var_t \"Y\"), [father (var_t \"X\") (var_t \"Y\")]) in\n",
    "let r2 = Rule (ancestor (var_t \"X\") (var_t \"Y\"), [father (var_t \"X\") (var_t \"Z\"); ancestor (var_t \"Z\") (var_t \"Y\")]) in\n",
    "\n",
    "let p = [f1;f2;r1;r2] in\n",
    "let g = [ancestor (const_t \"rickard\") (const_t \"ned\")] in\n",
    "let g' = match query p g with [v] -> v | _ -> failwith \"error\" in\n",
    "assert (g' = g)"
   ]
  },
  {
   "cell_type": "code",
   "execution_count": null,
   "metadata": {
    "deletable": false,
    "editable": false,
    "nbgrader": {
     "cell_type": "code",
     "checksum": "5778fc67beb8b7fd8d6d710c4f6482d3",
     "grade": true,
     "grade_id": "cell-0877bd2347d397a7",
     "locked": true,
     "points": 5,
     "schema_version": 3,
     "solution": false,
     "task": false
    }
   },
   "outputs": [],
   "source": [
    "(* 5 points *)\n",
    "(* Tests backtracking *)\n",
    "let ancestor x y = pred \"ancestor\" [x;y] in\n",
    "let father x y = pred \"father\" [x;y] in\n",
    "let father_consts x y =  father (C (Constant x)) (C (Constant y)) in\n",
    "\n",
    "let f1 = Fact (father_consts \"rickard\" \"ned\") in\n",
    "let f2 = Fact (father_consts \"ned\" \"robb\") in\n",
    "let r1 = Rule (ancestor (var_t \"X\") (var_t \"Y\"), [father (var_t \"X\") (var_t \"Y\")]) in\n",
    "let r2 = Rule (ancestor (var_t \"X\") (var_t \"Y\"), [father (var_t \"X\") (var_t \"Z\"); ancestor (var_t \"Z\") (var_t \"Y\")]) in\n",
    "\n",
    "let p = [f1;f2;r1;r2] in\n",
    "\n",
    "let g = [ancestor (const_t \"rickard\") (const_t \"robb\")] in\n",
    "let g' = match query p g with [v] -> v | _ -> failwith \"error\" in\n",
    "assert (g' = g)"
   ]
  },
  {
   "cell_type": "code",
   "execution_count": null,
   "metadata": {
    "deletable": false,
    "editable": false,
    "nbgrader": {
     "cell_type": "code",
     "checksum": "953195410af8b7f70b09facb34011188",
     "grade": true,
     "grade_id": "cell-3c98e32698e06615",
     "locked": true,
     "points": 10,
     "schema_version": 3,
     "solution": false,
     "task": false
    }
   },
   "outputs": [],
   "source": [
    "(* 10 points *)\n",
    "(* Tests choice points *)\n",
    "let ancestor x y = pred \"ancestor\" [x;y] in\n",
    "let father x y = pred \"father\" [x;y] in\n",
    "let father_consts x y =  father (C (Constant x)) (C (Constant y)) in\n",
    "\n",
    "let f1 = Fact (father_consts \"rickard\" \"ned\") in\n",
    "let f2 = Fact (father_consts \"ned\" \"robb\") in\n",
    "let r1 = Rule (ancestor (var_t \"X\") (var_t \"Y\"), [father (var_t \"X\") (var_t \"Y\")]) in\n",
    "let r2 = Rule (ancestor (var_t \"X\") (var_t \"Y\"), [father (var_t \"X\") (var_t \"Z\"); ancestor (var_t \"Z\") (var_t \"Y\")]) in\n",
    "\n",
    "let p = [f1;f2;r1;r2] in\n",
    "\n",
    "let g = [ancestor (var_t \"X\") (const_t \"robb\")] in\n",
    "let g1,g2 = match query p g with [v1;v2] -> v1,v2 | _ -> failwith \"error\" in\n",
    "assert (g1 = [ancestor (const_t \"ned\") (const_t \"robb\")]);\n",
    "assert (g2 = [ancestor (const_t \"rickard\") (const_t \"robb\")])"
   ]
  },
  {
   "cell_type": "code",
   "execution_count": null,
   "metadata": {
    "deletable": false,
    "editable": false,
    "nbgrader": {
     "cell_type": "code",
     "checksum": "34b08a6da180cc133ecbb5c9988a109e",
     "grade": true,
     "grade_id": "cell-da8e133cb59f318d",
     "locked": true,
     "points": 10,
     "schema_version": 3,
     "solution": false,
     "task": false
    }
   },
   "outputs": [],
   "source": [
    "(* 10 points *)\n",
    "(* Tests choice points *)\n",
    "let nil = const_t \"nil\" in\n",
    "let cons h t = func_t \"cons\" [h;t] in\n",
    "let append x y z = pred \"append\" [x;y;z] in\n",
    "let c1 = fact @@ append nil (var_t \"Q\") (var_t \"Q\") in\n",
    "let c2 = rule (append (cons (var_t \"H\") (var_t \"P\")) (var_t \"Q\") (cons (var_t \"H\") (var_t \"R\")))\n",
    "              [append (var_t \"P\") (var_t \"Q\") (var_t \"R\")] in\n",
    "let p = [c1;c2] in\n",
    "\n",
    "let g = [append (var_t \"X\") (var_t \"Y\") (cons (const_t \"1\") (cons (const_t \"2\") (cons (const_t \"3\") nil)))] in\n",
    "\n",
    "let g' = query p g in\n",
    "assert (List.length g' = 4)"
   ]
  }
 ],
 "metadata": {
  "kernelspec": {
   "display_name": "OCaml 4.10",
   "language": "OCaml",
   "name": "ocaml-jupyter"
  },
  "language_info": {
   "codemirror_mode": "text/x-ocaml",
   "file_extension": ".ml",
   "mimetype": "text/x-ocaml",
   "name": "OCaml",
   "nbconverter_exporter": null,
   "pygments_lexer": "OCaml",
   "version": "4.10.0"
  }
 },
 "nbformat": 4,
 "nbformat_minor": 2
}
